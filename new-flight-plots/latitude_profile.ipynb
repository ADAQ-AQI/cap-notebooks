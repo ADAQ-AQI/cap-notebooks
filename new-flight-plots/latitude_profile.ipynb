{
 "cells": [
  {
   "cell_type": "markdown",
   "id": "coordinated-building",
   "metadata": {},
   "source": [
    "#     Plot latitude profile comparisons of aircraft and model data, and compare both with binned data\n"
   ]
  },
  {
   "cell_type": "markdown",
   "id": "chubby-angle",
   "metadata": {},
   "source": [
    "## Setup imports"
   ]
  },
  {
   "cell_type": "code",
   "execution_count": 1,
   "id": "cheap-cincinnati",
   "metadata": {},
   "outputs": [],
   "source": [
    "import matplotlib.pyplot as plt\n",
    "\n",
    "import notebook_prepare as pre"
   ]
  },
  {
   "cell_type": "markdown",
   "id": "developing-trail",
   "metadata": {},
   "source": [
    "## Define plotting function"
   ]
  },
  {
   "cell_type": "markdown",
   "id": "f9d167c2-67df-4617-a076-0b62b7886949",
   "metadata": {},
   "source": [
    "Now that we've set up the imports, we can define the function producing the plots that we'll use later."
   ]
  },
  {
   "cell_type": "code",
   "execution_count": 2,
   "id": "electrical-greeting",
   "metadata": {},
   "outputs": [],
   "source": [
    "def plot_latitude_profile(full_df,df,plotdir,key,label,a_colour,m_colour,lat_bin,avg_method,min_method,max_method,model) :\n",
    "\n",
    "    \"\"\"\n",
    "    Plot latitude profile comparisons of aircraft and model data.\n",
    "    \"\"\"\n",
    "\n",
    "    # Define the figure.\n",
    "    fig,ax = pre.setup_figure()\n",
    "\n",
    "    # Define the data.\n",
    "    lat_data = df['Latitude']\n",
    "    data = pre.read_data_values(df, model)\n",
    "\n",
    "    # Plot the data.\n",
    "    plt.scatter(lat_data,data['a_avg'],s=50,c=a_colour,label='Aircraft')\n",
    "    \n",
    "    if(model):\n",
    "        plt.scatter(lat_data,data['m_avg'],s=50,c=m_colour,label='Model')     \n",
    "        # Add a legend.\n",
    "        plt.legend(fontsize=30,markerscale=2)\n",
    "\n",
    "    # Set the axes labels.\n",
    "    plt.xlabel('Latitude / degrees north',fontsize=50,labelpad=10)\n",
    "    plt.ylabel(label,fontsize=50,labelpad=10)\n",
    "\n",
    "    # Set the axes ticks.\n",
    "    ax.tick_params(labelsize=30)\n",
    "\n",
    "    #plt.show()\n",
    "    # Save the figure.\n",
    "    plt.savefig(plotdir+key+'_Latitude_Profile.png')\n",
    "    plt.close()\n",
    "\n",
    "    \"\"\"\n",
    "    Plot latitude profile comparisons of aircraft and model data with binned data.\n",
    "    \"\"\"\n",
    "\n",
    "    # Define the figure.\n",
    "    fig,ax = pre.setup_figure()\n",
    "\n",
    "    # Define the data.\n",
    "    data = pre.bin_latitude_data(full_df,avg_method,min_method,max_method,lat_bin, model)\n",
    "\n",
    "    # Plot the data.\n",
    "    plt.plot(data['binned'],data['a_avg'],lw=5,c=a_colour,label='Aircraft')\n",
    "    plt.fill_between(data['binned'],data['a_min'],data['a_max'],fc=a_colour,ec=None,alpha=0.5)\n",
    "    \n",
    "    if(model):\n",
    "        plt.plot(data['binned'],data['m_avg'],lw=5,c=m_colour,label='Model')\n",
    "        plt.fill_between(data['binned'],data['m_min'],data['m_max'],fc=m_colour,ec=None,alpha=0.5)\n",
    "        # Add a legend.\n",
    "        plt.legend(fontsize=30,markerscale=2)\n",
    "\n",
    "    # Set the axes labels.\n",
    "    plt.xlabel('Latitude / degrees north',fontsize=50,labelpad=10)\n",
    "    plt.ylabel(label,fontsize=50,labelpad=10)\n",
    "\n",
    "    # Set the axes ticks.\n",
    "    ax.tick_params(labelsize=30)\n",
    "\n",
    "    #plt.show()\n",
    "    # Save the figure.\n",
    "    plt.savefig(plotdir+key+'_Latitude_Profile_Binned.png')\n",
    "    plt.close()"
   ]
  },
  {
   "cell_type": "markdown",
   "id": "encouraging-cookbook",
   "metadata": {},
   "source": [
    "## Specify the flight number & model data"
   ]
  },
  {
   "cell_type": "code",
   "execution_count": 3,
   "id": "systematic-illustration",
   "metadata": {},
   "outputs": [],
   "source": [
    "# Set the flight number.\n",
    "# Current valid options are M270, M296 and M302.\n",
    "flight_number = 'C110'  \n",
    "\n",
    "# Specify whether you have model data to plot.\n",
    "model = True"
   ]
  },
  {
   "cell_type": "markdown",
   "id": "shared-command",
   "metadata": {},
   "source": [
    "## Prepare the data and plot for each pollution species"
   ]
  },
  {
   "cell_type": "code",
   "execution_count": 4,
   "id": "informed-google",
   "metadata": {},
   "outputs": [],
   "source": [
    "species_dict = pre.species_dictionary()\n",
    "setup = pre.setup_notebook(flight_number, model)\n",
    "optns = setup[4]\n",
    "for key in species_dict.keys() :\n",
    "    code,label,column_key,unit_conv = species_dict[key]['code'],species_dict[key]['label'],species_dict[key]['column_key'],species_dict[key]['unit_conv']\n",
    "\n",
    "        # Combine the aircraft and model data.\n",
    "    df = pre.combine_data(setup,code)\n",
    "\n",
    "        # Resample the data.\n",
    "    resample_df = pre.resample_data(df,optns['resample_time'],optns['avg_method'],optns['min_method'],optns['max_method'],model)\n",
    "    \n",
    "    plot_latitude_profile(df,resample_df,setup[5],key,label,optns['a_colour'],optns['m_colour'],optns['lat_bin'],optns['avg_method'],optns['min_method'],optns['max_method'], model)"
   ]
  },
  {
   "cell_type": "code",
   "execution_count": null,
   "id": "34b8e939-9295-4f91-a32b-16320c3f8088",
   "metadata": {},
   "outputs": [],
   "source": []
  }
 ],
 "metadata": {
  "kernelspec": {
   "display_name": "Python 3 (ipykernel)",
   "language": "python",
   "name": "python3"
  },
  "language_info": {
   "codemirror_mode": {
    "name": "ipython",
    "version": 3
   },
   "file_extension": ".py",
   "mimetype": "text/x-python",
   "name": "python",
   "nbconvert_exporter": "python",
   "pygments_lexer": "ipython3",
   "version": "3.7.12"
  }
 },
 "nbformat": 4,
 "nbformat_minor": 5
}
