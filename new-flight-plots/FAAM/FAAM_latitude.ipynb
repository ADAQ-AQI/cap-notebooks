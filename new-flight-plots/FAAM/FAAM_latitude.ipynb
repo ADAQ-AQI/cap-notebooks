{
 "cells": [
  {
   "cell_type": "markdown",
   "id": "boring-mainstream",
   "metadata": {},
   "source": [
    "# Plot latitude profiles of aircraft pollution data"
   ]
  },
  {
   "cell_type": "markdown",
   "id": "everyday-frank",
   "metadata": {},
   "source": [
    "## Setup imports"
   ]
  },
  {
   "cell_type": "code",
   "execution_count": 1,
   "id": "spectacular-sierra",
   "metadata": {},
   "outputs": [],
   "source": [
    "import matplotlib.pyplot as plt\n",
    "import prep as pre"
   ]
  },
  {
   "cell_type": "markdown",
   "id": "comparative-siemens",
   "metadata": {},
   "source": [
    "## Define plotting function"
   ]
  },
  {
   "cell_type": "code",
   "execution_count": 2,
   "id": "advisory-surrey",
   "metadata": {},
   "outputs": [],
   "source": [
    "def plot_latitude_profile(x_data, y_data) :\n",
    "\n",
    "    fig = plt.figure(figsize=(15,15))\n",
    "    ax  = plt.axes([.2,.15,.75,.7])\n",
    "\n",
    "    plt.scatter(x_data,y_data,s=100,label='Aircraft')\n",
    "    plt.xlabel('Latitude / degrees north',fontsize=50,labelpad=10)\n",
    "    plt.ylabel(species_label,fontsize=50,labelpad=10)\n",
    "\n",
    "    ax.tick_params(labelsize=30)\n",
    "\n",
    "    plt.legend(fontsize=30,markerscale=2)\n",
    "\n",
    "    #plt.show()\n",
    "    plt.savefig(pre.plotdir+species_key+'_Latitude_Profile.png')\n",
    "    plt.close()"
   ]
  },
  {
   "cell_type": "markdown",
   "id": "distinct-joining",
   "metadata": {},
   "source": [
    "## Prepare the data and plot for each pollution species"
   ]
  },
  {
   "cell_type": "code",
   "execution_count": 3,
   "id": "human-harbor",
   "metadata": {},
   "outputs": [],
   "source": [
    "species_dict = pre.species_dictionary()\n",
    "df = pre.data\n",
    "\n",
    "for species in species_dict :\n",
    "    species_key = species\n",
    "    species_code = species_dict[species]['code']\n",
    "    species_label = species_dict[species]['label']\n",
    "\n",
    "    lat_data = df['Latitude / degrees north'][:].values\n",
    "    conc_data = df[species_code][:].values\n",
    "\n",
    "    plot_latitude_profile(lat_data, conc_data)"
   ]
  },
  {
   "cell_type": "code",
   "execution_count": null,
   "id": "velvet-condition",
   "metadata": {},
   "outputs": [],
   "source": []
  }
 ],
 "metadata": {
  "kernelspec": {
   "display_name": "Python 3",
   "language": "python",
   "name": "python3"
  },
  "language_info": {
   "codemirror_mode": {
    "name": "ipython",
    "version": 3
   },
   "file_extension": ".py",
   "mimetype": "text/x-python",
   "name": "python",
   "nbconvert_exporter": "python",
   "pygments_lexer": "ipython3",
   "version": "3.6.6"
  }
 },
 "nbformat": 4,
 "nbformat_minor": 5
}
