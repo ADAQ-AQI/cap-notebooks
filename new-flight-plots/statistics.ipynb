{
 "cells": [
  {
   "cell_type": "markdown",
   "id": "fiscal-target",
   "metadata": {},
   "source": [
    "#     Calculate model bias and plot a timeseries of bias\n"
   ]
  },
  {
   "cell_type": "markdown",
   "id": "secret-raising",
   "metadata": {},
   "source": [
    "## Setup imports"
   ]
  },
  {
   "cell_type": "code",
   "execution_count": 1,
   "id": "tropical-slovenia",
   "metadata": {},
   "outputs": [],
   "source": [
    "import matplotlib.pyplot as plt\n",
    "import numpy as np\n",
    "import pandas as pd\n",
    "import notebook_prepare as pre"
   ]
  },
  {
   "cell_type": "markdown",
   "id": "vertical-architect",
   "metadata": {},
   "source": [
    "## Define plotting function"
   ]
  },
  {
   "cell_type": "markdown",
   "id": "fcb42eec-5927-42a7-a6bd-d85aa669928b",
   "metadata": {},
   "source": [
    "Now that we've set up the imports, we can define the function producing the plots that we'll use later."
   ]
  },
  {
   "cell_type": "code",
   "execution_count": 2,
   "id": "sixth-telephone",
   "metadata": {},
   "outputs": [],
   "source": [
    "def statistics(df,plotdir,key,label,resample_time,avg_method,min_method,max_method) :\n",
    "\n",
    "    # Define the figure.\n",
    "    fig,ax = pre.setup_figure()\n",
    "\n",
    "    # Define the data.\n",
    "    time_data     = pd.to_datetime(df.index)\n",
    "    aircraft_data = df['Aircraft'][:].tolist()\n",
    "    model_data    = df['Model'][:].tolist()\n",
    "\n",
    "    # Calculate the bias.\n",
    "    bias = [x-y for x,y in zip(model_data,aircraft_data)]\n",
    "    mean_bias = str(\"{:.2f}\".format(np.nanmean(bias)))\n",
    "\n",
    "    # Resample the data.\n",
    "    new_df = pd.DataFrame()\n",
    "    new_df['Bias'] = pd.Series(bias,index=time_data)\n",
    "    if avg_method == 'mean' :\n",
    "        avg_df = new_df.resample(resample_time).mean()\n",
    "    if avg_method == 'median' :\n",
    "        avg_df = new_df.resample(resample_time).median()\n",
    "    min_df = new_df.resample(resample_time).quantile(min_method)\n",
    "    max_df = new_df.resample(resample_time).quantile(max_method)\n",
    "\n",
    "    # Define the data to plot.\n",
    "    time_data = avg_df.index\n",
    "    avg_data  = avg_df['Bias'][:].tolist()\n",
    "    min_data  = min_df['Bias'][:].tolist()\n",
    "    max_data  = max_df['Bias'][:].tolist()\n",
    "\n",
    "    # Plot the data.\n",
    "    plt.plot(time_data,avg_data,lw=5,c='cadetblue')\n",
    "    plt.fill_between(time_data,min_data,max_data,fc='cadetblue',ec=None,alpha=0.5)\n",
    "\n",
    "    # Set the axes labels.\n",
    "    plt.xlabel('Time / UTC',fontsize=50,labelpad=10)\n",
    "    plt.ylabel('Model Bias '+label,fontsize=50,labelpad=10)\n",
    "\n",
    "    # Set the axes ticks.\n",
    "    time_ticks,time_labels = pre.calculate_time_markers(time_data)\n",
    "    plt.xticks(time_ticks,rotation=45)\n",
    "    ax.set_xticklabels(time_labels)\n",
    "    ax.tick_params(labelsize=30)\n",
    "\n",
    "    # Add the mean bias as a title.\n",
    "    plt.title('Mean Bias = '+mean_bias,fontsize=40,y=1.05)\n",
    "\n",
    "    #plt.show()\n",
    "    # Save the figure.\n",
    "    plt.savefig(plotdir+key+'_Timeseries_Of_Bias.png')\n",
    "    plt.close()"
   ]
  },
  {
   "cell_type": "markdown",
   "id": "israeli-aside",
   "metadata": {},
   "source": [
    "## Specify the flight number"
   ]
  },
  {
   "cell_type": "code",
   "execution_count": 3,
   "id": "rocky-george",
   "metadata": {},
   "outputs": [],
   "source": [
    "# Set the flight number.\n",
    "# Current valid options are M270, M296 and M302.\n",
    "flight_number = 'C110'  "
   ]
  },
  {
   "cell_type": "markdown",
   "id": "australian-family",
   "metadata": {},
   "source": [
    "## Prepare the data and plot for each pollution species"
   ]
  },
  {
   "cell_type": "code",
   "execution_count": 4,
   "id": "individual-alexandria",
   "metadata": {},
   "outputs": [],
   "source": [
    "species_dict = pre.species_dictionary()\n",
    "setup = pre.setup_notebook(flight_number,True)\n",
    "optns = setup[4]\n",
    "for key in species_dict.keys() :\n",
    "    code,label,column_key,unit_conv = species_dict[key]['code'],species_dict[key]['label'],species_dict[key]['column_key'],species_dict[key]['unit_conv']\n",
    "\n",
    "        # Combine the aircraft and model data.\n",
    "    df = pre.combine_data(setup,code)\n",
    "    \n",
    "    statistics(df,setup[5],key,label,optns['resample_time'],optns['avg_method'],optns['min_method'],optns['max_method'])"
   ]
  },
  {
   "cell_type": "code",
   "execution_count": null,
   "id": "juvenile-allah",
   "metadata": {},
   "outputs": [],
   "source": []
  }
 ],
 "metadata": {
  "kernelspec": {
   "display_name": "Python 3 (ipykernel)",
   "language": "python",
   "name": "python3"
  },
  "language_info": {
   "codemirror_mode": {
    "name": "ipython",
    "version": 3
   },
   "file_extension": ".py",
   "mimetype": "text/x-python",
   "name": "python",
   "nbconvert_exporter": "python",
   "pygments_lexer": "ipython3",
   "version": "3.7.12"
  }
 },
 "nbformat": 4,
 "nbformat_minor": 5
}
