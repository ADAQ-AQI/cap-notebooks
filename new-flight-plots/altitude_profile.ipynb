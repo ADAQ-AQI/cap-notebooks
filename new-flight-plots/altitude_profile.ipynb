{
 "cells": [
  {
   "cell_type": "markdown",
   "id": "chemical-indicator",
   "metadata": {},
   "source": [
    "# Altitude Profiles\n"
   ]
  },
  {
   "cell_type": "markdown",
   "id": "cf8a0a70-67af-47aa-b314-0aca3eb826b9",
   "metadata": {},
   "source": [
    "This notebook can plot altitude profile comparisons of aircraft and model data, both as a scatter graph and as a line graph, by sorting the altitude data into bins."
   ]
  },
  {
   "cell_type": "markdown",
   "id": "considerable-threat",
   "metadata": {},
   "source": [
    "## Setup imports"
   ]
  },
  {
   "cell_type": "code",
   "execution_count": 1,
   "id": "allied-hungarian",
   "metadata": {},
   "outputs": [],
   "source": [
    "import matplotlib.pyplot as plt\n",
    "\n",
    "import notebook_prepare as pre\n",
    "\n",
    "# Stops warnings from being printed.\n",
    "import warnings\n",
    "warnings.filterwarnings('ignore')"
   ]
  },
  {
   "cell_type": "markdown",
   "id": "swiss-buddy",
   "metadata": {},
   "source": [
    "## Define plotting function"
   ]
  },
  {
   "cell_type": "markdown",
   "id": "284d608b-f39b-4f0a-8f67-7651fb5f569a",
   "metadata": {},
   "source": [
    "Now that we've set up the imports, we can define the function producing the plots that we'll use later."
   ]
  },
  {
   "cell_type": "code",
   "execution_count": 2,
   "id": "regular-caribbean",
   "metadata": {},
   "outputs": [],
   "source": [
    "def plot_altitude_profile(full_df,df,plotdir,key,label,a_colour,m_colour,alt_bin,avg_method,min_method,max_method,model) :\n",
    "    \n",
    "    \"\"\"\n",
    "    Plot altitude profile comparisons of aircraft and model data.\n",
    "    \"\"\"\n",
    "\n",
    "    # Define the figure.\n",
    "    fig,ax = pre.setup_figure()\n",
    "\n",
    "    # Define the altitude data.\n",
    "    alt_data = df['Altitude']\n",
    "    \n",
    "    # Read the aircraft and/or model data from the data frame.\n",
    "    data = pre.read_data_values(df,model)\n",
    "\n",
    "    # Plot the data; a scatter plot of average pollution recorded by the aircraft against altitude.\n",
    "    # Change marker size by adjusting 's'.\n",
    "    plt.scatter(data['a_avg'],alt_data,s=50,c=a_colour,label='Aircraft')\n",
    "        \n",
    "    # Do the same for the model data, if it exists.\n",
    "    if(model):\n",
    "        # Change marker size by adjusting 's'.\n",
    "        plt.scatter(data['m_avg'],alt_data,s=50,c=m_colour,label='Model')\n",
    "        # Add a legend.\n",
    "        plt.legend(fontsize=30,markerscale=2)\n",
    "\n",
    "    # Set the axes labels.\n",
    "    plt.xlabel(label,fontsize=50,labelpad=10)\n",
    "    plt.ylabel('Altitude / m',fontsize=50,labelpad=10)\n",
    "\n",
    "    # Set the axes ticks.\n",
    "    ax.tick_params(labelsize=30)\n",
    "\n",
    "    #plt.show()\n",
    "    # Save the figure.\n",
    "    plt.savefig(plotdir+key+'_Altitude_Profile.png')\n",
    "    plt.close()\n",
    "\n",
    "    \"\"\"\n",
    "    Plot altitude profile comparisons of aircraft and model data with binned data.\n",
    "    \"\"\"\n",
    "\n",
    "    # Define the figure.\n",
    "    fig,ax = pre.setup_figure()\n",
    "\n",
    "    # Define the binned data; the pollution data is sorted into altitude bins of predefined width (i.e. 50 metres).\n",
    "    data = pre.bin_altitude_data(full_df,avg_method,min_method,max_method,alt_bin,model)\n",
    "\n",
    "    # Plot the data; a line plot of the average pollution in each bin against altitude.\n",
    "    plt.plot(data['a_avg'], data['binned'],lw=5,c=a_colour,label='Aircraft')\n",
    "    # Display the data range for each bin.\n",
    "    plt.fill_betweenx(data['binned'], data['a_min'], data['a_max'],fc=a_colour,ec=None,alpha=0.5)\n",
    "    \n",
    "    # Do the same for the model data, if it exists.\n",
    "    if(model):\n",
    "        plt.plot(data['m_avg'], data['binned'],lw=5,c=m_colour,label='Model')\n",
    "        plt.fill_betweenx(data['binned'], data['m_min'], data['m_max'],fc=m_colour,ec=None,alpha=0.5)\n",
    "        # Add a legend.\n",
    "        plt.legend(fontsize=30,markerscale=2)\n",
    "\n",
    "    # Set the axes labels.\n",
    "    plt.xlabel(label,fontsize=50,labelpad=10)\n",
    "    plt.ylabel('Altitude / m',fontsize=50,labelpad=10)\n",
    "\n",
    "    # Set the axes ticks.\n",
    "    ax.tick_params(labelsize=30)\n",
    "\n",
    "    #plt.show()\n",
    "    # Save the figure.\n",
    "    plt.savefig(plotdir+key+'_Altitude_Profile_Binned.png')\n",
    "    plt.close()"
   ]
  },
  {
   "cell_type": "markdown",
   "id": "greek-mountain",
   "metadata": {},
   "source": [
    "## Specify the flight number & model data"
   ]
  },
  {
   "cell_type": "code",
   "execution_count": 3,
   "id": "suspected-commodity",
   "metadata": {},
   "outputs": [],
   "source": [
    "# Set the flight number.\n",
    "# Current valid options are M270, M296 and M302.\n",
    "flight_number = 'C110'  \n",
    "\n",
    "# Specify whether you have model data to plot.\n",
    "model = True"
   ]
  },
  {
   "cell_type": "markdown",
   "id": "unlikely-hierarchy",
   "metadata": {},
   "source": [
    "## Prepare the data and plot for each pollution species"
   ]
  },
  {
   "cell_type": "code",
   "execution_count": 4,
   "id": "young-winter",
   "metadata": {},
   "outputs": [],
   "source": [
    "# Define the pollutant species.\n",
    "species_dict = pre.species_dictionary()\n",
    "\n",
    "# Define various options, including flight information, data location and sampling parameters.\n",
    "setup = pre.setup_notebook(flight_number, model) \n",
    "optns = setup[4]\n",
    "\n",
    "# Loop through the pollutant species, producing plots for each.\n",
    "for key in species_dict.keys() :\n",
    "    \n",
    "    # Setup the species information.\n",
    "    code,label,column_key,unit_conv = species_dict[key]['code'],species_dict[key]['label'],species_dict[key]['column_key'],species_dict[key]['unit_conv']\n",
    "\n",
    "    # Combine the aircraft and model data.\n",
    "    df = pre.combine_data(setup,code)\n",
    "    \n",
    "    # Resample the data.\n",
    "    resample_df = pre.resample_data(df,optns['resample_time'],optns['avg_method'],optns['min_method'],optns['max_method'], model) \n",
    "    \n",
    "    # Produce the plots.\n",
    "    plot_altitude_profile(df,resample_df,setup[5],key,label,optns['a_colour'],optns['m_colour'],optns['alt_bin'],optns['avg_method'],optns['min_method'],optns['max_method'], model)"
   ]
  },
  {
   "cell_type": "code",
   "execution_count": null,
   "id": "wicked-dividend",
   "metadata": {},
   "outputs": [],
   "source": []
  }
 ],
 "metadata": {
  "kernelspec": {
   "display_name": "Python 3 (ipykernel)",
   "language": "python",
   "name": "python3"
  },
  "language_info": {
   "codemirror_mode": {
    "name": "ipython",
    "version": 3
   },
   "file_extension": ".py",
   "mimetype": "text/x-python",
   "name": "python",
   "nbconvert_exporter": "python",
   "pygments_lexer": "ipython3",
   "version": "3.7.12"
  }
 },
 "nbformat": 4,
 "nbformat_minor": 5
}
