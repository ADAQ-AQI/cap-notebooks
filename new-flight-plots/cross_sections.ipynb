{
 "cells": [
  {
   "cell_type": "markdown",
   "id": "southeast-penetration",
   "metadata": {},
   "source": [
    "#         Plot cross section comparisons of the model and aircraft data\n",
    "\n"
   ]
  },
  {
   "cell_type": "markdown",
   "id": "stable-cisco",
   "metadata": {},
   "source": [
    "## Setup imports"
   ]
  },
  {
   "cell_type": "code",
   "execution_count": 1,
   "id": "oriented-october",
   "metadata": {},
   "outputs": [],
   "source": [
    "import matplotlib.pyplot as plt\n",
    "import numpy as np\n",
    "import notebook_prepare as pre"
   ]
  },
  {
   "cell_type": "markdown",
   "id": "interesting-handbook",
   "metadata": {},
   "source": [
    "## Define plotting function"
   ]
  },
  {
   "cell_type": "markdown",
   "id": "9bbb8974-d6ec-472d-a54b-9137de42f7b6",
   "metadata": {},
   "source": [
    "Now that we've set up the imports, we can define the function producing the plots that we'll use later."
   ]
  },
  {
   "cell_type": "code",
   "execution_count": 2,
   "id": "absolute-niagara",
   "metadata": {},
   "outputs": [],
   "source": [
    "def plot_cross_sections(df,plotdir,key,label,column,model) :\n",
    "    # Define the figure.\n",
    "    fig = plt.figure(figsize=(15,15))\n",
    "    ax  = plt.axes([.2,.05,.75,.8])\n",
    "\n",
    "    # Define the data.\n",
    "    time_data = df.index\n",
    "    alt_data = df['Altitude'][:]\n",
    "    data = pre.read_data_values(df, model)\n",
    "\n",
    "    if(model):    \n",
    "        # Calculate the minimum and maximum limits.\n",
    "        min = np.nanmin([np.nanmin(data['a_avg']),np.nanmin(column['data'])])\n",
    "        max = np.nanmax([np.nanmax(data['a_avg']),np.nanmax(column['data'])])\n",
    "    \n",
    "        # Plot the model data.\n",
    "        plt.pcolormesh(column['time'],column['alt'],column['data'],zorder=1,cmap=plt.cm.Spectral_r,vmin=min,vmax=max,shading='auto')\n",
    "            \n",
    "        # Plot the boundary layer height.\n",
    "        #plt.plot(time_data,data['bl_avg'],lw=2,ls='dashed',c='black',zorder=3,label='Modelled Boundary Layer Height')\n",
    "\n",
    "        # Add a legend.\n",
    "        #plt.legend(fontsize=30,markerscale=2)\n",
    "        \n",
    "    else:\n",
    "        min = np.nanmin(data['a_avg'])\n",
    "        max = np.nanmax(data['a_avg']) \n",
    "        \n",
    "    # Plot the aircraft data.\n",
    "    plt.scatter(time_data,alt_data,s=50,c=data['a_avg'],cmap=plt.cm.Spectral_r,edgecolors='black',zorder=2,linewidths=0.5,vmin=min,vmax=max)\n",
    "    # Plot the colourbar.\n",
    "    cb = plt.colorbar(ax=ax,orientation='horizontal',shrink=0.8,pad=0.25,extend='both')\n",
    "    cb.ax.tick_params(labelsize=30)\n",
    "    cb.set_label(label,fontsize=30,labelpad=10)\n",
    "\n",
    "    # Set the axes ticks.\n",
    "    time_ticks,time_labels = pre.calculate_time_markers(time_data)\n",
    "    plt.xticks(time_ticks,rotation=45)\n",
    "    ax.set_xticklabels(time_labels)\n",
    "    ax.tick_params(labelsize=30)\n",
    "\n",
    "    # Set the axes labels.\n",
    "    plt.xlabel('Time / UTC',fontsize=50,labelpad=10)\n",
    "    plt.ylabel('Altitude / m',fontsize=50,labelpad=10)\n",
    "\n",
    "    #plt.show()\n",
    "    # Save the figure.\n",
    "    plt.savefig(plotdir+key+'_Cross_Section.png')\n",
    "    plt.close()"
   ]
  },
  {
   "cell_type": "markdown",
   "id": "about-laptop",
   "metadata": {},
   "source": [
    "## Specify the flight number & model data"
   ]
  },
  {
   "cell_type": "code",
   "execution_count": 3,
   "id": "diagnostic-shoot",
   "metadata": {},
   "outputs": [],
   "source": [
    "# Set the flight number.\n",
    "# Current valid options are M270, M296 and M302.\n",
    "flight_number = 'C110'  \n",
    "\n",
    "# Specify whether you have model data to plot.\n",
    "model = True"
   ]
  },
  {
   "cell_type": "markdown",
   "id": "previous-insurance",
   "metadata": {},
   "source": [
    "## Prepare the data and plot for each pollution species"
   ]
  },
  {
   "cell_type": "code",
   "execution_count": 4,
   "id": "functioning-thing",
   "metadata": {},
   "outputs": [],
   "source": [
    "species_dict = pre.species_dictionary()\n",
    "setup = pre.setup_notebook(flight_number, model)\n",
    "optns = setup[4]\n",
    "for key in species_dict.keys() :\n",
    "    code,label,column_key,unit_conv = species_dict[key]['code'],species_dict[key]['label'],species_dict[key]['column_key'],species_dict[key]['unit_conv']\n",
    "\n",
    "        # Combine the aircraft and model data.\n",
    "    df = pre.combine_data(setup,code)\n",
    "\n",
    "        # Resample the data.\n",
    "    resample_df = pre.resample_data(df,optns['resample_time'],optns['avg_method'],optns['min_method'],optns['max_method'], model)\n",
    "    \n",
    "\n",
    "        # Read the cross section data.\n",
    "    if(model):\n",
    "        column = pre.read_cross_section(setup[6],setup[7],column_key,unit_conv,setup[0],setup[1],setup[2],setup[8])\n",
    "    else: column = None\n",
    "\n",
    "    plot_cross_sections(resample_df,setup[5],key,label,column,model)"
   ]
  },
  {
   "cell_type": "code",
   "execution_count": null,
   "id": "c58804bf-7a72-4ec5-9a69-d65044b025ed",
   "metadata": {},
   "outputs": [],
   "source": []
  }
 ],
 "metadata": {
  "kernelspec": {
   "display_name": "Python 3 (ipykernel)",
   "language": "python",
   "name": "python3"
  },
  "language_info": {
   "codemirror_mode": {
    "name": "ipython",
    "version": 3
   },
   "file_extension": ".py",
   "mimetype": "text/x-python",
   "name": "python",
   "nbconvert_exporter": "python",
   "pygments_lexer": "ipython3",
   "version": "3.7.12"
  }
 },
 "nbformat": 4,
 "nbformat_minor": 5
}
