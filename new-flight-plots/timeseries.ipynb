{
 "cells": [
  {
   "cell_type": "markdown",
   "id": "promotional-tracy",
   "metadata": {},
   "source": [
    "# Plot timeseries comparisons of aircraft and model data"
   ]
  },
  {
   "cell_type": "markdown",
   "id": "casual-analysis",
   "metadata": {},
   "source": [
    "This notebook will demonstrate how to plot multiple timeseries graphs, comparing aircraft pollution data to models."
   ]
  },
  {
   "cell_type": "markdown",
   "id": "retired-footage",
   "metadata": {},
   "source": [
    "## Setup imports"
   ]
  },
  {
   "cell_type": "code",
   "execution_count": 1,
   "id": "fluid-portable",
   "metadata": {},
   "outputs": [],
   "source": [
    "import matplotlib.pyplot as plt\n",
    "\n",
    "import notebook_prepare as pre"
   ]
  },
  {
   "cell_type": "markdown",
   "id": "promising-professional",
   "metadata": {},
   "source": [
    "## Define plotting function"
   ]
  },
  {
   "cell_type": "markdown",
   "id": "89f0d335-7467-4a07-a41e-67bfe7baffaf",
   "metadata": {},
   "source": [
    "Now that we've set up the imports, we can define the function producing the plots that we'll use later."
   ]
  },
  {
   "cell_type": "code",
   "execution_count": 2,
   "id": "contained-mapping",
   "metadata": {},
   "outputs": [],
   "source": [
    "def plot_timeseries(df,key,label,a_colour,m_colour,model,plotdir) :\n",
    "\n",
    "    # Define the figure.\n",
    "    fig,ax = pre.setup_figure()\n",
    "\n",
    "    # Define the data.\n",
    "    time_data = df.index\n",
    "    data = pre.read_data_values(df, model)\n",
    "\n",
    "    # Plot the data.\n",
    "    plt.plot(time_data,data['a_avg'],lw=5,c=a_colour,label='Aircraft')\n",
    "    plt.fill_between(time_data,data['a_min'],data['a_max'],fc=a_colour,ec=None,alpha=0.5)\n",
    "    \n",
    "    if(model):\n",
    "        plt.plot(time_data,data['m_avg'],lw=5,c=m_colour,label='Model')\n",
    "        plt.fill_between(time_data,data['m_min'],data['m_max'],fc=m_colour,ec=None,alpha=0.5)\n",
    "        # Add a legend.\n",
    "        plt.legend(fontsize=30,markerscale=2)\n",
    "\n",
    "    # Set the axes labels.\n",
    "    plt.xlabel('Time / UTC',fontsize=50,labelpad=10)\n",
    "    plt.ylabel(label,fontsize=50,labelpad=10)\n",
    "\n",
    "    # Set the axes ticks.\n",
    "    time_ticks,time_labels = pre.calculate_time_markers(time_data)\n",
    "    plt.xticks(time_ticks,rotation=45)\n",
    "    ax.set_xticklabels(time_labels)\n",
    "    ax.tick_params(labelsize=30)\n",
    "\n",
    "    #plt.show()\n",
    "    \n",
    "    # Save the figure.\n",
    "    plt.savefig(plotdir+key+'_Timeseries.png')\n",
    "    plt.close()"
   ]
  },
  {
   "cell_type": "markdown",
   "id": "specified-spine",
   "metadata": {},
   "source": [
    "## Specify the flight number & model data"
   ]
  },
  {
   "cell_type": "code",
   "execution_count": 3,
   "id": "painful-association",
   "metadata": {},
   "outputs": [],
   "source": [
    "# Set the flight number.\n",
    "# Current valid options are M270, M296 and M302.\n",
    "flight_number = 'C110'  \n",
    "\n",
    "# Specify whether you have model data to plot.\n",
    "model = True"
   ]
  },
  {
   "cell_type": "markdown",
   "id": "disabled-lottery",
   "metadata": {},
   "source": [
    "## Prepare the data and plot the timeseries for each pollution species"
   ]
  },
  {
   "cell_type": "code",
   "execution_count": 4,
   "id": "diverse-scott",
   "metadata": {},
   "outputs": [],
   "source": [
    "species_dict = pre.species_dictionary()\n",
    "setup = pre.setup_notebook(flight_number, model)\n",
    "optns = setup[4]\n",
    "for key in species_dict.keys() :\n",
    "    code,label,column_key,unit_conv = species_dict[key]['code'],species_dict[key]['label'],species_dict[key]['column_key'],species_dict[key]['unit_conv']\n",
    "\n",
    "        # Combine the aircraft and model data.\n",
    "    df = pre.combine_data(setup,code)\n",
    "\n",
    "        # Resample the data.\n",
    "    resample_df = pre.resample_data(df,optns['resample_time'],optns['avg_method'],optns['min_method'],optns['max_method'],model)\n",
    "    \n",
    "    plot_timeseries(resample_df,key,label,optns['a_colour'],optns['m_colour'],model,setup[5])"
   ]
  },
  {
   "cell_type": "code",
   "execution_count": null,
   "id": "annual-hormone",
   "metadata": {},
   "outputs": [],
   "source": []
  }
 ],
 "metadata": {
  "kernelspec": {
   "display_name": "Python 3 (ipykernel)",
   "language": "python",
   "name": "python3"
  },
  "language_info": {
   "codemirror_mode": {
    "name": "ipython",
    "version": 3
   },
   "file_extension": ".py",
   "mimetype": "text/x-python",
   "name": "python",
   "nbconvert_exporter": "python",
   "pygments_lexer": "ipython3",
   "version": "3.7.12"
  }
 },
 "nbformat": 4,
 "nbformat_minor": 5
}
