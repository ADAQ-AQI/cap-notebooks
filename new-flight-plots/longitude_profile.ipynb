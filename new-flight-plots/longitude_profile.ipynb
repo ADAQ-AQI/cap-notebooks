{
 "cells": [
  {
   "cell_type": "markdown",
   "id": "textile-packet",
   "metadata": {},
   "source": [
    "#     Plot longitude profile comparisons of aircraft and model data, and compare both with binned data\n"
   ]
  },
  {
   "cell_type": "markdown",
   "id": "specific-clock",
   "metadata": {},
   "source": [
    "## Setup imports"
   ]
  },
  {
   "cell_type": "code",
   "execution_count": 1,
   "id": "prerequisite-intellectual",
   "metadata": {},
   "outputs": [],
   "source": [
    "import matplotlib.pyplot as plt\n",
    "\n",
    "import notebook_prepare as pre"
   ]
  },
  {
   "cell_type": "markdown",
   "id": "three-stable",
   "metadata": {},
   "source": [
    "## Define plotting function"
   ]
  },
  {
   "cell_type": "markdown",
   "id": "6016e3cd-a3f7-480d-959b-827d1113343d",
   "metadata": {},
   "source": [
    "Now that we've set up the imports, we can define the function producing the plots that we'll use later."
   ]
  },
  {
   "cell_type": "code",
   "execution_count": 2,
   "id": "surprising-calgary",
   "metadata": {},
   "outputs": [],
   "source": [
    "def plot_longitude_profile(full_df,df,plotdir,key,label,a_colour,m_colour,lon_bin,avg_method,min_method,max_method,model) :\n",
    "\n",
    "    \"\"\"\n",
    "    Plot longitude profile comparisons of aircraft and model data.\n",
    "    \"\"\"\n",
    "\n",
    "    # Define the figure.\n",
    "    fig,ax = pre.setup_figure()\n",
    "\n",
    "    # Define the data.\n",
    "    lon_data = df['Longitude']\n",
    "    data = pre.read_data_values(df, model)\n",
    "\n",
    "    # Plot the data.\n",
    "    plt.scatter(lon_data,data['a_avg'],s=50,c=a_colour,label='Aircraft')\n",
    "    \n",
    "    if(model):\n",
    "        plt.scatter(lon_data,data['m_avg'],s=50,c=m_colour,label='Model')    \n",
    "        # Add a legend.\n",
    "        plt.legend(fontsize=30,markerscale=2)\n",
    "\n",
    "    # Set the axes labels.\n",
    "    plt.xlabel('Longitude / degrees east',fontsize=50,labelpad=10)\n",
    "    plt.ylabel(label,fontsize=50,labelpad=10)\n",
    "\n",
    "    # Set the axes ticks.\n",
    "    ax.tick_params(labelsize=30)\n",
    "\n",
    "    #plt.show()\n",
    "    # Save the figure.\n",
    "    plt.savefig(plotdir+key+'_Longitude_Profile.png')\n",
    "    plt.close()\n",
    "\n",
    "    \"\"\"\n",
    "    Plot longitude profile comparisons of aircraft and model data with binned data.\n",
    "    \"\"\"\n",
    "\n",
    "    # Define the figure.\n",
    "    fig,ax = pre.setup_figure()\n",
    "\n",
    "    # Define the data.\n",
    "    data = pre.bin_longitude_data(full_df,avg_method,min_method,max_method,lon_bin,model)\n",
    "\n",
    "    # Plot the data.\n",
    "    plt.plot(data['binned'],data['a_avg'],lw=5,c=a_colour,label='Aircraft')\n",
    "    plt.fill_between(data['binned'],data['a_min'],data['a_max'],fc=a_colour,ec=None,alpha=0.5)\n",
    "    \n",
    "    if(model):\n",
    "        plt.plot(data['binned'],data['m_avg'],lw=5,c=m_colour,label='Model')\n",
    "        plt.fill_between(data['binned'],data['m_min'],data['m_max'],fc=m_colour,ec=None,alpha=0.5)\n",
    "        # Add a legend.\n",
    "        plt.legend(fontsize=30,markerscale=2)\n",
    "\n",
    "    # Set the axes labels.\n",
    "    plt.xlabel('Longitude / degrees east',fontsize=50,labelpad=10)\n",
    "    plt.ylabel(label,fontsize=50,labelpad=10)\n",
    "\n",
    "    # Set the axes ticks.\n",
    "    ax.tick_params(labelsize=30)\n",
    "\n",
    "    #plt.show()\n",
    "    # Save the figure.\n",
    "    plt.savefig(plotdir+key+'_Longitude_Profile_Binned.png')\n",
    "    plt.close()"
   ]
  },
  {
   "cell_type": "markdown",
   "id": "permanent-anderson",
   "metadata": {},
   "source": [
    "## Specify the flight number & model data"
   ]
  },
  {
   "cell_type": "code",
   "execution_count": 3,
   "id": "identical-hunger",
   "metadata": {},
   "outputs": [],
   "source": [
    "# Set the flight number.\n",
    "# Current valid options are M270, M296 and M302.\n",
    "flight_number = 'C110'  \n",
    "\n",
    "# Specify whether you have model data to plot.\n",
    "model = True"
   ]
  },
  {
   "cell_type": "markdown",
   "id": "eastern-mumbai",
   "metadata": {},
   "source": [
    "## Prepare the data and plot for each pollution species"
   ]
  },
  {
   "cell_type": "code",
   "execution_count": 4,
   "id": "local-clinic",
   "metadata": {},
   "outputs": [],
   "source": [
    "species_dict = pre.species_dictionary()\n",
    "setup = pre.setup_notebook(flight_number, model)\n",
    "optns = setup[4]\n",
    "for key in species_dict.keys() :\n",
    "    code,label,column_key,unit_conv = species_dict[key]['code'],species_dict[key]['label'],species_dict[key]['column_key'],species_dict[key]['unit_conv']\n",
    "\n",
    "        # Combine the aircraft and model data.\n",
    "    df = pre.combine_data(setup,code)\n",
    "\n",
    "        # Resample the data.\n",
    "    resample_df = pre.resample_data(df,optns['resample_time'],optns['avg_method'],optns['min_method'],optns['max_method'],model)\n",
    "    \n",
    "    plot_longitude_profile(df,resample_df,setup[5],key,label,optns['a_colour'],optns['m_colour'],optns['lon_bin'],optns['avg_method'],optns['min_method'],optns['max_method'], model)\n"
   ]
  },
  {
   "cell_type": "code",
   "execution_count": null,
   "id": "33e26805-fc8d-4014-a49c-c3c0eb646e0f",
   "metadata": {},
   "outputs": [],
   "source": []
  }
 ],
 "metadata": {
  "kernelspec": {
   "display_name": "Python 3 (ipykernel)",
   "language": "python",
   "name": "python3"
  },
  "language_info": {
   "codemirror_mode": {
    "name": "ipython",
    "version": 3
   },
   "file_extension": ".py",
   "mimetype": "text/x-python",
   "name": "python",
   "nbconvert_exporter": "python",
   "pygments_lexer": "ipython3",
   "version": "3.7.12"
  }
 },
 "nbformat": 4,
 "nbformat_minor": 5
}
