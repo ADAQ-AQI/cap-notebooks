{
 "cells": [
  {
   "cell_type": "markdown",
   "id": "stainless-maine",
   "metadata": {},
   "source": [
    "#     Plot latitude and longitude curtain plots\n"
   ]
  },
  {
   "cell_type": "markdown",
   "id": "electrical-leadership",
   "metadata": {},
   "source": [
    "## Setup imports"
   ]
  },
  {
   "cell_type": "code",
   "execution_count": 1,
   "id": "scientific-nutrition",
   "metadata": {},
   "outputs": [],
   "source": [
    "import matplotlib.pyplot as plt\n",
    "import numpy as np\n",
    "import notebook_prepare as pre"
   ]
  },
  {
   "cell_type": "markdown",
   "id": "alive-senegal",
   "metadata": {},
   "source": [
    "## Define plotting function"
   ]
  },
  {
   "cell_type": "markdown",
   "id": "a7f255da-e7c9-40c2-855a-e63e7c9a559f",
   "metadata": {},
   "source": [
    "Now that we've set up the imports, we can define the function producing the plots that we'll use later."
   ]
  },
  {
   "cell_type": "code",
   "execution_count": 2,
   "id": "44f3a002-2c72-4571-a462-ded453c35750",
   "metadata": {},
   "outputs": [],
   "source": [
    "def create_plot(x_data, alt_data, data, diff, min, max, label, filename, x_label, model, plotdir) :\n",
    "\n",
    "    # Define the figure.\n",
    "    fig = plt.figure(figsize=(25,15))\n",
    "    ax0 = fig.add_subplot(1,3,1)\n",
    "\n",
    "    # Plot the aircraft data.\n",
    "    plt0 = ax0.scatter(x_data,alt_data,c=data['a_avg'],marker='X',s=50,cmap=plt.cm.Spectral_r,vmin=min,vmax=max)\n",
    "    if not(model): ax0.set_xlabel(x_label,fontsize=40,labelpad=20)\n",
    "    ax0.set_ylabel('Altitude / m',fontsize=40,labelpad=20)\n",
    "    ax0.tick_params(labelsize=30)\n",
    "    ax0.grid()\n",
    "    ax0.set_title('Aircraft',fontsize=40)\n",
    "    cb0 = plt.colorbar(plt0,ax=ax0,orientation='vertical',pad=0.1,extend='both')\n",
    "    cb0.set_label(label,fontsize=30,labelpad=10)\n",
    "    cb0.ax.tick_params(labelsize=20)\n",
    "\n",
    "    if(model):\n",
    "        # Plot the model data.\n",
    "        ax1 = fig.add_subplot(1,3,2)\n",
    "        plt1 = ax1.scatter(x_data,alt_data,c=data['m_avg'],marker='X',s=50,cmap=plt.cm.Spectral_r,vmin=min,vmax=max)\n",
    "        ax1.set_xlabel(x_label,fontsize=40,labelpad=20)\n",
    "        ax1.tick_params(left=False,labelleft=False,labelsize=30)\n",
    "        ax1.grid()\n",
    "        ax1.set_title('Model',fontsize=40)\n",
    "        cb1 = plt.colorbar(plt1,ax=ax1,orientation='vertical',pad=0.1,extend='both')\n",
    "        cb1.set_label(label,fontsize=30,labelpad=10)\n",
    "        cb1.ax.tick_params(labelsize=20)\n",
    "\n",
    "        ax2 = fig.add_subplot(1,3,3)\n",
    "        # Plot the difference data.\n",
    "        plt2 = ax2.scatter(x_data,alt_data,c=diff['data'],marker='X',s=50,cmap=plt.cm.RdBu_r,vmin=diff['min_lim'],vmax=diff['max_lim'])\n",
    "        ax2.tick_params(left=False,labelleft=False,labelsize=30)\n",
    "        ax2.grid()\n",
    "        ax2.set_title('Difference',fontsize=40)\n",
    "        cb2 = plt.colorbar(plt2,ax=ax2,orientation='vertical',pad=0.1,extend='both')\n",
    "        cb2.set_label(label+' (Model - Observation)',fontsize=30,labelpad=10)\n",
    "        cb2.ax.tick_params(labelsize=20)\n",
    "\n",
    "    #plt.show()\n",
    "    # Save the figure.\n",
    "    plt.savefig(plotdir+key+'_'+filename+'_Curtain.png')\n",
    "    plt.close()"
   ]
  },
  {
   "cell_type": "markdown",
   "id": "bb889404-f151-49d0-8a1c-571797c55c5c",
   "metadata": {},
   "source": [
    "Here we define the data and limits, and call the plotting function twice, producing curtain plots for both latitude and longitude."
   ]
  },
  {
   "cell_type": "code",
   "execution_count": 3,
   "id": "resident-opinion",
   "metadata": {},
   "outputs": [],
   "source": [
    "def plot_curtain(df,plotdir,key,label, model) :\n",
    "\n",
    "    # Define the data.\n",
    "    alt_data = df['Altitude'][:]\n",
    "    lat_data = df['Latitude'][:]\n",
    "    lon_data = df['Longitude'][:]\n",
    "    data = pre.read_data_values(df, model)\n",
    "    diff = {}\n",
    "    \n",
    "    # Calculate the minimum and maximum limits.\n",
    "    if(model):\n",
    "        min = np.nanmin([np.nanmin(data['a_avg']),np.nanmin(data['m_avg'])])\n",
    "        max = np.nanmax([np.nanmax(data['a_avg']),np.nanmax(data['m_avg'])])\n",
    "        \n",
    "        # Calculate the difference between model and observations.\n",
    "        diff['data'] = [x-y for x,y in zip(data['m_avg'],data['a_avg'])]\n",
    "\n",
    "        # Determine the min and max.\n",
    "        diff_min = np.nanmin(diff['data'])\n",
    "        diff_max = np.nanmax(diff['data'])\n",
    "        limits = np.sqrt(np.nanmax([diff_min**2,diff_max**2]))\n",
    "        diff['min_lim'] = limits*-1\n",
    "        diff['max_lim'] = limits\n",
    "    \n",
    "    else:\n",
    "        min = np.nanmin(data['a_avg'])\n",
    "        max = np.nanmax(data['a_avg']) \n",
    "\n",
    "    create_plot(lat_data, alt_data, data, diff, min, max, label, 'Latitude', 'Latitude / degrees north', model, plotdir)\n",
    "    create_plot(lon_data, alt_data, data, diff, min, max, label, 'Longitude', 'Longitude / degrees east', model, plotdir)"
   ]
  },
  {
   "cell_type": "markdown",
   "id": "balanced-address",
   "metadata": {},
   "source": [
    "## Specify the flight number & model data"
   ]
  },
  {
   "cell_type": "code",
   "execution_count": 4,
   "id": "assigned-tribune",
   "metadata": {},
   "outputs": [],
   "source": [
    "# Set the flight number.\n",
    "# Current valid options are M270, M296 and M302.\n",
    "flight_number = 'C110'  \n",
    "\n",
    "# Specify whether you have model data to plot.\n",
    "model = True"
   ]
  },
  {
   "cell_type": "markdown",
   "id": "parliamentary-compiler",
   "metadata": {},
   "source": [
    "## Prepare the data and plot for each pollution species"
   ]
  },
  {
   "cell_type": "code",
   "execution_count": 5,
   "id": "innocent-plenty",
   "metadata": {},
   "outputs": [],
   "source": [
    "species_dict = pre.species_dictionary()\n",
    "setup = pre.setup_notebook(flight_number, model)\n",
    "optns = setup[4]\n",
    "for key in species_dict.keys() :\n",
    "    code,label,column_key,unit_conv = species_dict[key]['code'],species_dict[key]['label'],species_dict[key]['column_key'],species_dict[key]['unit_conv']\n",
    "\n",
    "        # Combine the aircraft and model data.\n",
    "    df = pre.combine_data(setup,code)\n",
    "\n",
    "        # Resample the data.\n",
    "    resample_df = pre.resample_data(df,optns['resample_time'],optns['avg_method'],optns['min_method'],optns['max_method'],model)\n",
    "    \n",
    "    plot_curtain(resample_df,setup[5],key,label,model)"
   ]
  },
  {
   "cell_type": "code",
   "execution_count": null,
   "id": "constitutional-mississippi",
   "metadata": {},
   "outputs": [],
   "source": []
  }
 ],
 "metadata": {
  "kernelspec": {
   "display_name": "Python 3 (ipykernel)",
   "language": "python",
   "name": "python3"
  },
  "language_info": {
   "codemirror_mode": {
    "name": "ipython",
    "version": 3
   },
   "file_extension": ".py",
   "mimetype": "text/x-python",
   "name": "python",
   "nbconvert_exporter": "python",
   "pygments_lexer": "ipython3",
   "version": "3.7.12"
  }
 },
 "nbformat": 4,
 "nbformat_minor": 5
}
