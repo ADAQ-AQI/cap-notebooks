{
 "cells": [
  {
   "cell_type": "markdown",
   "id": "extreme-baghdad",
   "metadata": {},
   "source": [
    "#     Plot correlation comparisons of aircraft and model data"
   ]
  },
  {
   "cell_type": "markdown",
   "id": "emerging-centre",
   "metadata": {},
   "source": [
    "## Setup imports"
   ]
  },
  {
   "cell_type": "code",
   "execution_count": 1,
   "id": "governmental-africa",
   "metadata": {},
   "outputs": [],
   "source": [
    "import matplotlib.pyplot as plt\n",
    "import numpy as np\n",
    "import notebook_prepare as pre"
   ]
  },
  {
   "cell_type": "markdown",
   "id": "vital-campbell",
   "metadata": {},
   "source": [
    "## Define plotting function"
   ]
  },
  {
   "cell_type": "markdown",
   "id": "d154ca2d-ba8a-4b90-8e5e-fc560556814f",
   "metadata": {},
   "source": [
    "Now that we've set up the imports, we can define the function producing the plots that we'll use later."
   ]
  },
  {
   "cell_type": "code",
   "execution_count": 2,
   "id": "brief-catholic",
   "metadata": {},
   "outputs": [],
   "source": [
    "def plot_correlations(df,plotdir,key,label) :\n",
    "\n",
    "    # Define the figure.\n",
    "    fig,ax = pre.setup_figure()\n",
    "\n",
    "    # Define the data.\n",
    "    alt_data = df['Altitude'][:]\n",
    "    data = pre.read_data_values(df, True)\n",
    "\n",
    "    # Plot the data.\n",
    "    plt.scatter(data['a_avg'],data['m_avg'],s=50,c=alt_data)\n",
    "\n",
    "    # Plot a 1:1 agreement line.\n",
    "    min = np.nanmin([np.nanmin(data['a_avg']),np.nanmin(data['m_avg'])])\n",
    "    max = np.nanmax([np.nanmax(data['a_avg']),np.nanmax(data['m_avg'])])\n",
    "    plt.plot([min,max],[min,max],lw=5,ls='dashed',c='grey')\n",
    "\n",
    "##    # Add a shaded region represention aircraft data below a value of 1.\n",
    "##    # This is used to represent SO2 data below 1ppb which is below the limit of detection.\n",
    "##    ymin,ymax = ax.get_ylim()\n",
    "##    xmin,xmax = ax.get_xlim()\n",
    "##    plt.fill_betweenx([ymin,ymax],[xmin,xmin],[1,1],ec=None,fc='black',alpha=0.2)\n",
    "\n",
    "    # Set the axes labels.\n",
    "    plt.xlabel('Aircraft '+label,fontsize=50,labelpad=10)\n",
    "    plt.ylabel('Model '+label,fontsize=50,labelpad=10)\n",
    "\n",
    "    # Set the axes ticks.\n",
    "    ax.tick_params(labelsize=30)\n",
    "\n",
    "    # Plot the colourbar.\n",
    "    cb = plt.colorbar(ax=ax,orientation='vertical',shrink=0.8,pad=0.05,extend='both')\n",
    "    cb.ax.tick_params(labelsize=25)\n",
    "    cb.set_label('Altitude / m',fontsize=30,labelpad=10)\n",
    "\n",
    "    #plt.show()\n",
    "    # Save the figure.\n",
    "    plt.savefig(plotdir+key+'_Correlation.png')\n",
    "    plt.close()"
   ]
  },
  {
   "cell_type": "markdown",
   "id": "verbal-profession",
   "metadata": {},
   "source": [
    "## Specify the flight number"
   ]
  },
  {
   "cell_type": "code",
   "execution_count": 3,
   "id": "remarkable-smart",
   "metadata": {},
   "outputs": [],
   "source": [
    "# Set the flight number.\n",
    "# Current valid options are M270, M296 and M302.\n",
    "flight_number = 'C110'  "
   ]
  },
  {
   "cell_type": "markdown",
   "id": "official-utilization",
   "metadata": {},
   "source": [
    "## Prepare the data and plot for each pollution species"
   ]
  },
  {
   "cell_type": "code",
   "execution_count": 4,
   "id": "contained-raise",
   "metadata": {},
   "outputs": [],
   "source": [
    "species_dict = pre.species_dictionary()\n",
    "setup = pre.setup_notebook(flight_number,True)\n",
    "optns = setup[4]\n",
    "for key in species_dict.keys() :\n",
    "    code,label,column_key,unit_conv = species_dict[key]['code'],species_dict[key]['label'],species_dict[key]['column_key'],species_dict[key]['unit_conv']\n",
    "\n",
    "        # Combine the aircraft and model data.\n",
    "    df = pre.combine_data(setup,code)\n",
    "\n",
    "        # Resample the data.\n",
    "    resample_df = pre.resample_data(df,optns['resample_time'],optns['avg_method'],optns['min_method'],optns['max_method'],True)\n",
    "    \n",
    "    plot_correlations(resample_df,setup[5],key,label)"
   ]
  },
  {
   "cell_type": "code",
   "execution_count": null,
   "id": "smooth-comparison",
   "metadata": {},
   "outputs": [],
   "source": []
  }
 ],
 "metadata": {
  "kernelspec": {
   "display_name": "Python 3 (ipykernel)",
   "language": "python",
   "name": "python3"
  },
  "language_info": {
   "codemirror_mode": {
    "name": "ipython",
    "version": 3
   },
   "file_extension": ".py",
   "mimetype": "text/x-python",
   "name": "python",
   "nbconvert_exporter": "python",
   "pygments_lexer": "ipython3",
   "version": "3.7.12"
  }
 },
 "nbformat": 4,
 "nbformat_minor": 5
}
