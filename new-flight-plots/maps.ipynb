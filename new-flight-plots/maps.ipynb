{
 "cells": [
  {
   "cell_type": "markdown",
   "id": "nervous-ranch",
   "metadata": {},
   "source": [
    "#     Plot maps"
   ]
  },
  {
   "cell_type": "markdown",
   "id": "cubic-divorce",
   "metadata": {},
   "source": [
    "## Setup imports"
   ]
  },
  {
   "cell_type": "code",
   "execution_count": 1,
   "id": "infectious-nudist",
   "metadata": {},
   "outputs": [],
   "source": [
    "import matplotlib.pyplot as plt\n",
    "import numpy as np\n",
    "import cartopy.crs as ccrs\n",
    "import notebook_prepare as pre"
   ]
  },
  {
   "cell_type": "markdown",
   "id": "indian-holly",
   "metadata": {},
   "source": [
    "## Define plotting function"
   ]
  },
  {
   "cell_type": "markdown",
   "id": "9c764675-f3e8-4986-a449-f2e932c47f80",
   "metadata": {},
   "source": [
    "Now that we've set up the imports, we can define the function producing the plots that we'll use later."
   ]
  },
  {
   "cell_type": "code",
   "execution_count": 2,
   "id": "81466117-2480-4988-ba4e-f320f8ad578c",
   "metadata": {},
   "outputs": [],
   "source": [
    "def plot_track(df,plotdir) :\n",
    "\n",
    "    \"\"\"\n",
    "    Plot maps of aircraft track.\n",
    "    \"\"\"\n",
    "\n",
    "    # Define the figure.\n",
    "    fig = plt.figure(figsize=(25,15))\n",
    "    ax4 = pre.setup_map(fig,1,False)\n",
    "\n",
    "    # Define the data.\n",
    "    lat_data = df['Latitude'][:]\n",
    "    lon_data = df['Longitude'][:]\n",
    "    alt_data = df['Altitude'][:]\n",
    "\n",
    "    # Plot the data.\n",
    "    plt4 = ax4.scatter(lon_data,lat_data,s=200,c=alt_data,cmap=plt.cm.summer,ec='black',zorder=3,transform=ccrs.PlateCarree())\n",
    "\n",
    "    # Plot the colourbar.\n",
    "    cb4 = plt.colorbar(plt4,ax=ax4,orientation='vertical',pad=0.1,extend='both')\n",
    "    cb4.ax.tick_params(labelsize=20)\n",
    "    cb4.set_label('Altitude / m',fontsize=20,labelpad=10)\n",
    "\n",
    "    #plt.show()\n",
    "    # Save the figure.\n",
    "    plt.savefig(plotdir+key+'_Map_Track.png')\n",
    "    plt.close()"
   ]
  },
  {
   "cell_type": "code",
   "execution_count": 3,
   "id": "adult-reply",
   "metadata": {},
   "outputs": [],
   "source": [
    "def plot_maps(df,plotdir,key,label,model) :\n",
    "\n",
    "    \"\"\"\n",
    "    Plot maps of aircraft data.\n",
    "    \"\"\"\n",
    "\n",
    "    # Define the figure.\n",
    "    fig = plt.figure(figsize=(25,15))\n",
    "    ax0 = pre.setup_map(fig,1,model)\n",
    "    ax0.set_title('Aircraft',fontsize=40)\n",
    "\n",
    "    # Define the data.\n",
    "    lat_data = df['Latitude'][:]\n",
    "    lon_data = df['Longitude'][:]\n",
    "    alt_data = df['Altitude'][:]\n",
    "    data = pre.read_data_values(df, model)\n",
    "\n",
    "    # Determine the minimum and maximum values.\n",
    "    if(model):\n",
    "        min = np.nanmin([np.nanmin(data['a_avg']),np.nanmin(data['m_avg'])])\n",
    "        max = np.nanmax([np.nanmax(data['a_avg']),np.nanmax(data['m_avg'])])\n",
    "    \n",
    "    else:\n",
    "        min = np.nanmin(data['a_avg'])\n",
    "        max = np.nanmax(data['a_avg']) \n",
    "\n",
    "    # Plot the data.\n",
    "    plt0 = ax0.scatter(lon_data,lat_data,s=200,c=data['a_avg'],cmap=plt.cm.Spectral_r,ec='black',vmin=min,vmax=max,zorder=3,transform=ccrs.PlateCarree())\n",
    "\n",
    "    # Plot the colourbar.\n",
    "    cb0 = plt.colorbar(plt0,ax=ax0,orientation='vertical',pad=0.1,extend='both')\n",
    "    cb0.ax.tick_params(labelsize=20)\n",
    "    \n",
    "    if(model):\n",
    "        \"\"\"\n",
    "        Plot maps of model data.\n",
    "        \"\"\"\n",
    "\n",
    "        # Define the figure.\n",
    "        ax1 = pre.setup_map(fig,2,model)\n",
    "        ax1.set_title('Model',fontsize=40)\n",
    "\n",
    "        # Plot the data.\n",
    "        plt1 = ax1.scatter(lon_data,lat_data,s=200,c=data['m_avg'],cmap=plt.cm.Spectral_r,ec='black',vmin=min,vmax=max,zorder=3,transform=ccrs.PlateCarree())\n",
    "\n",
    "        # Plot the colourbar.\n",
    "        cb1 = plt.colorbar(plt1,ax=ax1,orientation='vertical',pad=0.1,extend='both')\n",
    "        cb1.ax.tick_params(labelsize=20)\n",
    "\n",
    "        \"\"\"\n",
    "        Plot maps of model - observation difference data.\n",
    "        \"\"\"\n",
    "\n",
    "        # Define the figure.\n",
    "        ax2 = pre.setup_map(fig,3,model)\n",
    "        ax2.set_title('Difference',fontsize=40)\n",
    "\n",
    "        # Calculate the difference between model and observations.\n",
    "        diff_data = [x-y for x,y in zip(data['m_avg'],data['a_avg'])]\n",
    "\n",
    "        # Determine the min and max.\n",
    "        min = np.nanmin(diff_data)\n",
    "        max = np.nanmax(diff_data)\n",
    "        limits = np.sqrt(np.nanmax([min**2,max**2]))\n",
    "        min_lim = limits*-1\n",
    "        max_lim = limits\n",
    "\n",
    "        # Plot the data.\n",
    "        plt2 = ax2.scatter(lon_data,lat_data,s=200,c=diff_data,cmap=plt.cm.RdBu_r,ec='black',zorder=3,vmin=min_lim,vmax=max_lim,transform=ccrs.PlateCarree())\n",
    "\n",
    "        # Plot the colourbar.\n",
    "        cb2 = plt.colorbar(plt2,ax=ax2,orientation='vertical',pad=0.1,extend='both')\n",
    "        cb2.ax.tick_params(labelsize=20)\n",
    "        \n",
    "    fig.supxlabel(label,fontsize=40, ha=\"center\")    \n",
    "\n",
    "    #plt.show()\n",
    "    \n",
    "    # Save the figure.\n",
    "    plt.savefig(plotdir+key+'_Map.png')\n",
    "    plt.close()\n",
    "    "
   ]
  },
  {
   "cell_type": "markdown",
   "id": "derived-exclusive",
   "metadata": {},
   "source": [
    "## Specify the flight number & model data"
   ]
  },
  {
   "cell_type": "code",
   "execution_count": 4,
   "id": "mental-agent",
   "metadata": {},
   "outputs": [],
   "source": [
    "# Set the flight number.\n",
    "# Current valid options are M270, M296 and M302.\n",
    "flight_number = 'C110'  \n",
    "\n",
    "# Specify whether you have model data to plot.\n",
    "model = True"
   ]
  },
  {
   "cell_type": "markdown",
   "id": "prerequisite-receiver",
   "metadata": {},
   "source": [
    "## Prepare the data and plot for each pollution species"
   ]
  },
  {
   "cell_type": "code",
   "execution_count": 5,
   "id": "divided-prime",
   "metadata": {},
   "outputs": [],
   "source": [
    "species_dict = pre.species_dictionary()\n",
    "setup = pre.setup_notebook(flight_number, model)\n",
    "optns = setup[4]\n",
    "\n",
    "for key in species_dict.keys() :\n",
    "    code,label,column_key,unit_conv = species_dict[key]['code'],species_dict[key]['label'],species_dict[key]['column_key'],species_dict[key]['unit_conv']\n",
    "\n",
    "        # Combine the aircraft and model data.\n",
    "    df = pre.combine_data(setup,code)\n",
    "        # Resample the data.\n",
    "    resample_df = pre.resample_data(df,optns['resample_time'],optns['avg_method'],optns['min_method'],optns['max_method'], model)\n",
    "    #wind_df = pre.resample_wind_data(df,optns['resample_time']) #not used?\n",
    "\n",
    "    plot_maps(resample_df,setup[5],key,label, model)\n",
    "\n",
    "plot_track(resample_df,setup[5])"
   ]
  },
  {
   "cell_type": "code",
   "execution_count": null,
   "id": "981b4a05-2d71-4f71-9d71-c51817330897",
   "metadata": {},
   "outputs": [],
   "source": []
  }
 ],
 "metadata": {
  "kernelspec": {
   "display_name": "Python 3 (ipykernel)",
   "language": "python",
   "name": "python3"
  },
  "language_info": {
   "codemirror_mode": {
    "name": "ipython",
    "version": 3
   },
   "file_extension": ".py",
   "mimetype": "text/x-python",
   "name": "python",
   "nbconvert_exporter": "python",
   "pygments_lexer": "ipython3",
   "version": "3.7.12"
  }
 },
 "nbformat": 4,
 "nbformat_minor": 5
}
