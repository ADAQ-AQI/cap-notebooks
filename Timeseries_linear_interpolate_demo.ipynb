{
 "cells": [
  {
   "cell_type": "markdown",
   "metadata": {},
   "source": [
    "# Timeseries Linear Interpolation Demo\n",
    "\n",
    "This notebook will demonstrate how to make a call to the code which will convert a raw dataset into a subset and plot (provided by __[hvPlot timeseries](https://hvplot.holoviz.org/user_guide/Timeseries_Data.html)__) of a linear-interpolated timeseries dataset at a single given point (location).\n",
    "\n",
    "Using linear interpolation will provide a timeseries of data values at a single given point in space, defaulting to ground level for altitude. Linear polynomials are used to construct new data points within the range of a discrete set of known data points."
   ]
  },
  {
   "cell_type": "code",
   "execution_count": null,
   "metadata": {},
   "outputs": [],
   "source": [
    "import os\n",
    "from bokeh.models.formatters import DatetimeTickFormatter\n",
    "\n",
    "import cap_sample_data\n",
    "from clean_air.visualise import dataset_renderer\n"
   ]
  },
  {
   "cell_type": "markdown",
   "metadata": {},
   "source": [
    "## Load the data"
   ]
  },
  {
   "cell_type": "markdown",
   "metadata": {},
   "source": [
    "Define your input data - here we have used some gridded model data. \n",
    "Data can be passed to the Timeseries calculator as either a filepath or a DataSubset object.  \n",
    "Given that the calculator itself makes the conversion to the DataSubset object, we will use a simple filepath."
   ]
  },
  {
   "cell_type": "code",
   "execution_count": null,
   "metadata": {},
   "outputs": [],
   "source": [
    "SAMPLEDIR = cap_sample_data.path\n",
    "raw_data_filepath = os.path.join(SAMPLEDIR, \"model_full\", \"aqum_hourly_o3_20200520.nc\")"
   ]
  },
  {
   "cell_type": "markdown",
   "metadata": {},
   "source": [
    "## Convert data to Timeseries data subset"
   ]
  },
  {
   "cell_type": "markdown",
   "metadata": {},
   "source": [
    "First, we use the Timeseries calculator to produce a DataSubset object with our data and coordinates we are interested in. Then we can call linear_interpolate() to extract the data at the desired location."
   ]
  },
  {
   "cell_type": "code",
   "execution_count": null,
   "metadata": {},
   "outputs": [],
   "source": [
    "interpolated_data = dataset_renderer.TimeSeries(data=raw_data_filepath, x=-19200, y=97200).linear_interpolate()"
   ]
  },
  {
   "cell_type": "markdown",
   "metadata": {},
   "source": [
    "## Call the plot renderer"
   ]
  },
  {
   "cell_type": "markdown",
   "metadata": {},
   "source": [
    "Now the data has been extracted and reduced to a timeseries, we can call the renderer to convert it to a pandas dataframe, so it can be plotted with hvplot(). We can also add some styling.\n"
   ]
  },
  {
   "cell_type": "code",
   "execution_count": null,
   "metadata": {},
   "outputs": [],
   "source": [
    "df = dataset_renderer.Renderer(interpolated_data).render()\n",
    "\n",
    "formatter = DatetimeTickFormatter(hours='%H:%M')\n",
    "\n",
    "df.hvplot(xformatter=formatter, title=\"Mass Concentration of Ozone in Air Timeseries\", ylabel=\"Ozone in ug m-3\")"
   ]
  },
  {
   "cell_type": "markdown",
   "metadata": {},
   "source": [
    "We can also easily plot more than one dataframe on the same graph, using the `*` operator."
   ]
  },
  {
   "cell_type": "code",
   "execution_count": null,
   "metadata": {},
   "outputs": [],
   "source": [
    "pm10_data_filepath = os.path.join(SAMPLEDIR, \"model_full\", \"aqum_hourly_pm10_20200520.nc\")\n",
    "interpolated_pm10 = dataset_renderer.TimeSeries(data=pm10_data_filepath, x=-19200, y=97200).linear_interpolate()\n",
    "df_pm10 = dataset_renderer.Renderer(interpolated_pm10).render()\n",
    "\n",
    "df.hvplot(xformatter=formatter, title=\"Mass Concentration of Particulates in Air Timeseries\", ylabel=\"Concentration in ug m-3\") * df_pm10.hvplot()"
   ]
  }
 ],
 "metadata": {
  "kernelspec": {
   "display_name": "Python 3.8.12 ('cap_env')",
   "language": "python",
   "name": "python3"
  },
  "language_info": {
   "codemirror_mode": {
    "name": "ipython",
    "version": 3
   },
   "file_extension": ".py",
   "mimetype": "text/x-python",
   "name": "python",
   "nbconvert_exporter": "python",
   "pygments_lexer": "ipython3",
   "version": "3.8.12"
  },
  "vscode": {
   "interpreter": {
    "hash": "fb2698964798af12b425d4961a7fbbcbec2193d91461de82199fff1eba1ff631"
   }
  }
 },
 "nbformat": 4,
 "nbformat_minor": 4
}
