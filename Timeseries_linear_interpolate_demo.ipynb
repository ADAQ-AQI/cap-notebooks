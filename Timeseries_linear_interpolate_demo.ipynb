{
 "cells": [
  {
   "cell_type": "markdown",
   "metadata": {},
   "source": [
    "# Timeseries Linear Interpolation Demo\n",
    "\n",
    "This notebook will demonstrate how to make a call to the code which will convert a raw dataset into a subset and plot (provided by __[hvPlot timeseries](https://hvplot.holoviz.org/user_guide/Timeseries_Data.html)__) of a linear-interpolated timeseries dataset at a single given point (location).\n",
    "\n",
    "Using linear interpolation will provide a timeseries of data values at a single given point in space, defaulting to ground level for altitude. Linear polynomials are used to construct new data points within the range of a discrete set of known data points."
   ]
  },
  {
   "cell_type": "code",
   "execution_count": 7,
   "metadata": {},
   "outputs": [],
   "source": [
    "import os\n",
    "import hvplot.pandas\n",
    "from bokeh.models.formatters import DatetimeTickFormatter\n",
    "\n",
    "import cap_sample_data\n",
    "from clean_air.visualise import dataset_renderer\n"
   ]
  },
  {
   "cell_type": "markdown",
   "metadata": {},
   "source": [
    "## Load the data"
   ]
  },
  {
   "cell_type": "markdown",
   "metadata": {},
   "source": [
    "Define your input data - here we have used some gridded model data. \n",
    "Data can be passed to the Timeseries calculator as either a filepath or a DataSubset object.  \n",
    "Given that the calculator itself makes the conversion to the DataSubset object, we will use a simple filepath."
   ]
  },
  {
   "cell_type": "code",
   "execution_count": 8,
   "metadata": {},
   "outputs": [],
   "source": [
    "SAMPLEDIR = cap_sample_data.path\n",
    "raw_data_filepath = os.path.join(SAMPLEDIR, \"model_full\", \"aqum_hourly_o3_20200520.nc\")"
   ]
  },
  {
   "cell_type": "markdown",
   "metadata": {},
   "source": [
    "## Convert data to Timeseries data subset"
   ]
  },
  {
   "cell_type": "markdown",
   "metadata": {},
   "source": [
    "First, we use the Timeseries calculator to produce a DataSubset object with our data and coordinates we are interested in. Then we can call linear_interpolate() to extract the data at the desired location."
   ]
  },
  {
   "cell_type": "code",
   "execution_count": 9,
   "metadata": {},
   "outputs": [
    {
     "name": "stderr",
     "output_type": "stream",
     "text": [
      "/home/h04/twilson/.conda/envs/cap_env/lib/python3.8/site-packages/iris/coords.py:1979: UserWarning: Collapsing a non-contiguous coordinate. Metadata may not be fully descriptive for 'projection_y_coordinate'.\n",
      "  warnings.warn(msg.format(self.name()))\n",
      "/home/h04/twilson/.conda/envs/cap_env/lib/python3.8/site-packages/iris/coords.py:1979: UserWarning: Collapsing a non-contiguous coordinate. Metadata may not be fully descriptive for 'projection_x_coordinate'.\n",
      "  warnings.warn(msg.format(self.name()))\n"
     ]
    }
   ],
   "source": [
    "interpolated_data = dataset_renderer.TimeSeries(data=raw_data_filepath, x=-19200, y=97200).linear_interpolate()"
   ]
  },
  {
   "cell_type": "markdown",
   "metadata": {},
   "source": [
    "## Call the plot renderer"
   ]
  },
  {
   "attachments": {},
   "cell_type": "markdown",
   "metadata": {},
   "source": [
    "Now the data has been extracted and reduced to a timeseries, we can call the renderer to convert it to a pandas series, so it can be plotted with hvplot(). We can also add some styling.\n"
   ]
  },
  {
   "cell_type": "code",
   "execution_count": 10,
   "metadata": {},
   "outputs": [
    {
     "data": {},
     "metadata": {},
     "output_type": "display_data"
    },
    {
     "data": {
      "application/vnd.holoviews_exec.v0+json": "",
      "text/html": [
       "<div id='1984'>\n",
       "  <div class=\"bk-root\" id=\"92599122-38fb-4ac8-bd03-d75bd87e1a4f\" data-root-id=\"1984\"></div>\n",
       "</div>\n",
       "<script type=\"application/javascript\">(function(root) {\n",
       "  function embed_document(root) {\n",
       "    var docs_json = {\"71b4eb7d-99ad-45ae-b7e3-2ebf4c74b232\":{\"defs\":[{\"extends\":null,\"module\":null,\"name\":\"ReactiveHTML1\",\"overrides\":[],\"properties\":[]},{\"extends\":null,\"module\":null,\"name\":\"FlexBox1\",\"overrides\":[],\"properties\":[{\"default\":\"flex-start\",\"kind\":null,\"name\":\"align_content\"},{\"default\":\"flex-start\",\"kind\":null,\"name\":\"align_items\"},{\"default\":\"row\",\"kind\":null,\"name\":\"flex_direction\"},{\"default\":\"wrap\",\"kind\":null,\"name\":\"flex_wrap\"},{\"default\":\"flex-start\",\"kind\":null,\"name\":\"justify_content\"}]},{\"extends\":null,\"module\":null,\"name\":\"GridStack1\",\"overrides\":[],\"properties\":[{\"default\":\"warn\",\"kind\":null,\"name\":\"mode\"},{\"default\":null,\"kind\":null,\"name\":\"ncols\"},{\"default\":null,\"kind\":null,\"name\":\"nrows\"},{\"default\":true,\"kind\":null,\"name\":\"allow_resize\"},{\"default\":true,\"kind\":null,\"name\":\"allow_drag\"},{\"default\":[],\"kind\":null,\"name\":\"state\"}]},{\"extends\":null,\"module\":null,\"name\":\"click1\",\"overrides\":[],\"properties\":[{\"default\":\"\",\"kind\":null,\"name\":\"terminal_output\"},{\"default\":\"\",\"kind\":null,\"name\":\"debug_name\"},{\"default\":0,\"kind\":null,\"name\":\"clears\"}]},{\"extends\":null,\"module\":null,\"name\":\"NotificationAreaBase1\",\"overrides\":[],\"properties\":[{\"default\":\"bottom-right\",\"kind\":null,\"name\":\"position\"},{\"default\":0,\"kind\":null,\"name\":\"_clear\"}]},{\"extends\":null,\"module\":null,\"name\":\"NotificationArea1\",\"overrides\":[],\"properties\":[{\"default\":[],\"kind\":null,\"name\":\"notifications\"},{\"default\":\"bottom-right\",\"kind\":null,\"name\":\"position\"},{\"default\":0,\"kind\":null,\"name\":\"_clear\"},{\"default\":[{\"background\":\"#ffc107\",\"icon\":{\"className\":\"fas fa-exclamation-triangle\",\"color\":\"white\",\"tagName\":\"i\"},\"type\":\"warning\"},{\"background\":\"#007bff\",\"icon\":{\"className\":\"fas fa-info-circle\",\"color\":\"white\",\"tagName\":\"i\"},\"type\":\"info\"}],\"kind\":null,\"name\":\"types\"}]},{\"extends\":null,\"module\":null,\"name\":\"Notification\",\"overrides\":[],\"properties\":[{\"default\":null,\"kind\":null,\"name\":\"background\"},{\"default\":3000,\"kind\":null,\"name\":\"duration\"},{\"default\":null,\"kind\":null,\"name\":\"icon\"},{\"default\":\"\",\"kind\":null,\"name\":\"message\"},{\"default\":null,\"kind\":null,\"name\":\"notification_type\"},{\"default\":false,\"kind\":null,\"name\":\"_destroyed\"}]},{\"extends\":null,\"module\":null,\"name\":\"TemplateActions1\",\"overrides\":[],\"properties\":[{\"default\":0,\"kind\":null,\"name\":\"open_modal\"},{\"default\":0,\"kind\":null,\"name\":\"close_modal\"}]},{\"extends\":null,\"module\":null,\"name\":\"MaterialTemplateActions1\",\"overrides\":[],\"properties\":[{\"default\":0,\"kind\":null,\"name\":\"open_modal\"},{\"default\":0,\"kind\":null,\"name\":\"close_modal\"}]}],\"roots\":{\"references\":[{\"attributes\":{\"days\":[1,4,7,10,13,16,19,22,25,28]},\"id\":\"2048\",\"type\":\"DaysTicker\"},{\"attributes\":{\"bottom_units\":\"screen\",\"coordinates\":null,\"fill_alpha\":0.5,\"fill_color\":\"lightgrey\",\"group\":null,\"left_units\":\"screen\",\"level\":\"overlay\",\"line_alpha\":1.0,\"line_color\":\"black\",\"line_dash\":[4,4],\"line_width\":2,\"right_units\":\"screen\",\"syncable\":false,\"top_units\":\"screen\"},\"id\":\"2010\",\"type\":\"BoxAnnotation\"},{\"attributes\":{\"mantissas\":[1,2,5],\"max_interval\":500.0,\"num_minor_ticks\":0},\"id\":\"2044\",\"type\":\"AdaptiveTicker\"},{\"attributes\":{\"days\":[1,2,3,4,5,6,7,8,9,10,11,12,13,14,15,16,17,18,19,20,21,22,23,24,25,26,27,28,29,30,31]},\"id\":\"2047\",\"type\":\"DaysTicker\"},{\"attributes\":{\"months\":[0,2,4,6,8,10]},\"id\":\"2052\",\"type\":\"MonthsTicker\"},{\"attributes\":{\"line_color\":\"#30a2da\",\"line_width\":2,\"x\":{\"field\":\"Time\"},\"y\":{\"field\":\"mass_concentration_of_ozone_in_air \\n in ug/m3\"}},\"id\":\"2026\",\"type\":\"Line\"},{\"attributes\":{\"source\":{\"id\":\"2018\"}},\"id\":\"2025\",\"type\":\"CDSView\"},{\"attributes\":{},\"id\":\"2009\",\"type\":\"ResetTool\"},{\"attributes\":{\"days\":[1,8,15,22]},\"id\":\"2049\",\"type\":\"DaysTicker\"},{\"attributes\":{},\"id\":\"2002\",\"type\":\"BasicTicker\"},{\"attributes\":{},\"id\":\"2007\",\"type\":\"WheelZoomTool\"},{\"attributes\":{\"base\":24,\"mantissas\":[1,2,4,6,8,12],\"max_interval\":43200000.0,\"min_interval\":3600000.0,\"num_minor_ticks\":0},\"id\":\"2046\",\"type\":\"AdaptiveTicker\"},{\"attributes\":{},\"id\":\"2005\",\"type\":\"SaveTool\"},{\"attributes\":{\"line_alpha\":0.1,\"line_color\":\"#30a2da\",\"line_width\":2,\"x\":{\"field\":\"Time\"},\"y\":{\"field\":\"mass_concentration_of_ozone_in_air \\n in ug/m3\"}},\"id\":\"2022\",\"type\":\"Line\"},{\"attributes\":{\"overlay\":{\"id\":\"2010\"}},\"id\":\"2008\",\"type\":\"BoxZoomTool\"},{\"attributes\":{\"base\":60,\"mantissas\":[1,2,5,10,15,20,30],\"max_interval\":1800000.0,\"min_interval\":1000.0,\"num_minor_ticks\":0},\"id\":\"2045\",\"type\":\"AdaptiveTicker\"},{\"attributes\":{},\"id\":\"2006\",\"type\":\"PanTool\"},{\"attributes\":{\"axis\":{\"id\":\"1997\"},\"coordinates\":null,\"grid_line_color\":null,\"group\":null,\"ticker\":null},\"id\":\"2000\",\"type\":\"Grid\"},{\"attributes\":{\"num_minor_ticks\":5,\"tickers\":[{\"id\":\"2044\"},{\"id\":\"2045\"},{\"id\":\"2046\"},{\"id\":\"2047\"},{\"id\":\"2048\"},{\"id\":\"2049\"},{\"id\":\"2050\"},{\"id\":\"2051\"},{\"id\":\"2052\"},{\"id\":\"2053\"},{\"id\":\"2054\"},{\"id\":\"2055\"}]},\"id\":\"1998\",\"type\":\"DatetimeTicker\"},{\"attributes\":{\"days\":[1,15]},\"id\":\"2050\",\"type\":\"DaysTicker\"},{\"attributes\":{\"axis_label\":\"Time\",\"coordinates\":null,\"formatter\":{\"id\":\"2028\"},\"group\":null,\"major_label_policy\":{\"id\":\"2029\"},\"ticker\":{\"id\":\"1998\"}},\"id\":\"1997\",\"type\":\"DatetimeAxis\"},{\"attributes\":{\"axis\":{\"id\":\"2001\"},\"coordinates\":null,\"dimension\":1,\"grid_line_color\":null,\"group\":null,\"ticker\":null},\"id\":\"2004\",\"type\":\"Grid\"},{\"attributes\":{\"months\":[0,6]},\"id\":\"2054\",\"type\":\"MonthsTicker\"},{\"attributes\":{\"end\":93.27200317382812,\"reset_end\":93.27200317382812,\"reset_start\":81.60800170898438,\"start\":81.60800170898438,\"tags\":[[[\"mass_concentration_of_ozone_in_air \\n in ug/m3\",\"mass_concentration_of_ozone_in_air \\n in ug/m3\",null]]]},\"id\":\"1986\",\"type\":\"Range1d\"},{\"attributes\":{\"below\":[{\"id\":\"1997\"}],\"center\":[{\"id\":\"2000\"},{\"id\":\"2004\"}],\"height\":300,\"left\":[{\"id\":\"2001\"}],\"margin\":[5,5,5,5],\"min_border_bottom\":10,\"min_border_left\":10,\"min_border_right\":10,\"min_border_top\":10,\"renderers\":[{\"id\":\"2024\"}],\"sizing_mode\":\"fixed\",\"title\":{\"id\":\"1989\"},\"toolbar\":{\"id\":\"2011\"},\"width\":700,\"x_range\":{\"id\":\"1985\"},\"x_scale\":{\"id\":\"1993\"},\"y_range\":{\"id\":\"1986\"},\"y_scale\":{\"id\":\"1995\"}},\"id\":\"1988\",\"subtype\":\"Figure\",\"type\":\"Plot\"},{\"attributes\":{},\"id\":\"2033\",\"type\":\"AllLabels\"},{\"attributes\":{\"axis_label\":\"Ozone in ug m-3\",\"coordinates\":null,\"formatter\":{\"id\":\"2032\"},\"group\":null,\"major_label_policy\":{\"id\":\"2033\"},\"ticker\":{\"id\":\"2002\"}},\"id\":\"2001\",\"type\":\"LinearAxis\"},{\"attributes\":{},\"id\":\"1993\",\"type\":\"LinearScale\"},{\"attributes\":{\"months\":[0,1,2,3,4,5,6,7,8,9,10,11]},\"id\":\"2051\",\"type\":\"MonthsTicker\"},{\"attributes\":{\"children\":[{\"id\":\"1988\"}],\"height\":300,\"margin\":[0,0,0,0],\"name\":\"Row03108\",\"sizing_mode\":\"fixed\",\"tags\":[\"embedded\"],\"width\":700},\"id\":\"1984\",\"type\":\"Row\"},{\"attributes\":{\"end\":1590019200000.0,\"reset_end\":1590019200000.0,\"reset_start\":1589936400000.0,\"start\":1589936400000.0,\"tags\":[[[\"Time\",\"Time\",null]]]},\"id\":\"1985\",\"type\":\"Range1d\"},{\"attributes\":{},\"id\":\"2032\",\"type\":\"BasicTickFormatter\"},{\"attributes\":{\"coordinates\":null,\"group\":null,\"text\":\"Mass Concentration of Ozone in Air Timeseries\",\"text_color\":\"black\",\"text_font_size\":\"12pt\"},\"id\":\"1989\",\"type\":\"Title\"},{\"attributes\":{\"data\":{\"Time\":{\"__ndarray__\":\"AABogvkid0IAAFDx/CJ3QgAAOGAAI3dCAAAgzwMjd0IAAAg+ByN3QgAA8KwKI3dCAADYGw4jd0IAAMCKESN3QgAAqPkUI3dCAACQaBgjd0IAAHjXGyN3QgAAYEYfI3dCAABItSIjd0IAADAkJiN3QgAAGJMpI3dCAAAAAi0jd0IAAOhwMCN3QgAA0N8zI3dCAAC4Tjcjd0IAAKC9OiN3QgAAiCw+I3dCAABwm0Ejd0IAAFgKRSN3QgAAQHlII3dC\",\"dtype\":\"float64\",\"order\":\"little\",\"shape\":[24]},\"mass_concentration_of_ozone_in_air \\n in ug/m3\":{\"__ndarray__\":\"9iilQilcrUITg61C7FGvQpDCtELsUbdCUri2QocWtEI837FCw/WwQvhTsEJANa9CNV61QpqZuEJI4bVCeemtQjMzqkI4ia1CtvOvQuxRr0KHFqxCCteqQq5Hq0IAAKxC\",\"dtype\":\"float32\",\"order\":\"little\",\"shape\":[24]},\"mass_concentration_of_ozone_in_air_in_ug_over_m3\":{\"__ndarray__\":\"9iilQilcrUITg61C7FGvQpDCtELsUbdCUri2QocWtEI837FCw/WwQvhTsEJANa9CNV61QpqZuEJI4bVCeemtQjMzqkI4ia1CtvOvQuxRr0KHFqxCCteqQq5Hq0IAAKxC\",\"dtype\":\"float32\",\"order\":\"little\",\"shape\":[24]}},\"selected\":{\"id\":\"2019\"},\"selection_policy\":{\"id\":\"2041\"}},\"id\":\"2018\",\"type\":\"ColumnDataSource\"},{\"attributes\":{},\"id\":\"2029\",\"type\":\"AllLabels\"},{\"attributes\":{},\"id\":\"1995\",\"type\":\"LinearScale\"},{\"attributes\":{},\"id\":\"2019\",\"type\":\"Selection\"},{\"attributes\":{\"months\":[0,4,8]},\"id\":\"2053\",\"type\":\"MonthsTicker\"},{\"attributes\":{},\"id\":\"2041\",\"type\":\"UnionRenderers\"},{\"attributes\":{},\"id\":\"2055\",\"type\":\"YearsTicker\"},{\"attributes\":{\"coordinates\":null,\"data_source\":{\"id\":\"2018\"},\"glyph\":{\"id\":\"2021\"},\"group\":null,\"hover_glyph\":null,\"muted_glyph\":{\"id\":\"2023\"},\"nonselection_glyph\":{\"id\":\"2022\"},\"selection_glyph\":{\"id\":\"2026\"},\"view\":{\"id\":\"2025\"}},\"id\":\"2024\",\"type\":\"GlyphRenderer\"},{\"attributes\":{\"hours\":[\"%H:%M\"]},\"id\":\"2028\",\"type\":\"DatetimeTickFormatter\"},{\"attributes\":{\"tools\":[{\"id\":\"1987\"},{\"id\":\"2005\"},{\"id\":\"2006\"},{\"id\":\"2007\"},{\"id\":\"2008\"},{\"id\":\"2009\"}]},\"id\":\"2011\",\"type\":\"Toolbar\"},{\"attributes\":{\"callback\":null,\"formatters\":{\"@{Time}\":\"datetime\"},\"renderers\":[{\"id\":\"2024\"}],\"tags\":[\"hv_created\"],\"tooltips\":[[\"Time\",\"@{Time}{%F %T}\"],[\"mass_concentration_of_ozone_in_air \\n in ug/m3\",\"@{mass_concentration_of_ozone_in_air_in_ug_over_m3}\"]]},\"id\":\"1987\",\"type\":\"HoverTool\"},{\"attributes\":{\"line_alpha\":0.2,\"line_color\":\"#30a2da\",\"line_width\":2,\"x\":{\"field\":\"Time\"},\"y\":{\"field\":\"mass_concentration_of_ozone_in_air \\n in ug/m3\"}},\"id\":\"2023\",\"type\":\"Line\"},{\"attributes\":{\"line_color\":\"#30a2da\",\"line_width\":2,\"x\":{\"field\":\"Time\"},\"y\":{\"field\":\"mass_concentration_of_ozone_in_air \\n in ug/m3\"}},\"id\":\"2021\",\"type\":\"Line\"}],\"root_ids\":[\"1984\"]},\"title\":\"Bokeh Application\",\"version\":\"2.4.3\"}};\n",
       "    var render_items = [{\"docid\":\"71b4eb7d-99ad-45ae-b7e3-2ebf4c74b232\",\"root_ids\":[\"1984\"],\"roots\":{\"1984\":\"92599122-38fb-4ac8-bd03-d75bd87e1a4f\"}}];\n",
       "    root.Bokeh.embed.embed_items_notebook(docs_json, render_items);\n",
       "    for (const render_item of render_items) {\n",
       "      for (const root_id of render_item.root_ids) {\n",
       "\tconst id_el = document.getElementById(root_id)\n",
       "\tif (id_el.children.length && (id_el.children[0].className === 'bk-root')) {\n",
       "\t  const root_el = id_el.children[0]\n",
       "\t  root_el.id = root_el.id + '-rendered'\n",
       "\t}\n",
       "      }\n",
       "    }\n",
       "  }\n",
       "  if (root.Bokeh !== undefined && root.Bokeh.Panel !== undefined) {\n",
       "    embed_document(root);\n",
       "  } else {\n",
       "    var attempts = 0;\n",
       "    var timer = setInterval(function(root) {\n",
       "      if (root.Bokeh !== undefined && root.Bokeh.Panel !== undefined) {\n",
       "        clearInterval(timer);\n",
       "        embed_document(root);\n",
       "      } else if (document.readyState == \"complete\") {\n",
       "        attempts++;\n",
       "        if (attempts > 200) {\n",
       "          clearInterval(timer);\n",
       "          console.log(\"Bokeh: ERROR: Unable to run BokehJS code because BokehJS library is missing\");\n",
       "        }\n",
       "      }\n",
       "    }, 25, root)\n",
       "  }\n",
       "})(window);</script>"
      ],
      "text/plain": [
       ":Curve   [Time]   (mass_concentration_of_ozone_in_air \n",
       " in ug/m3)"
      ]
     },
     "execution_count": 10,
     "metadata": {
      "application/vnd.holoviews_exec.v0+json": {
       "id": "1984"
      }
     },
     "output_type": "execute_result"
    }
   ],
   "source": [
    "df = dataset_renderer.Renderer(interpolated_data).render()\n",
    "\n",
    "formatter = DatetimeTickFormatter(hours='%H:%M')\n",
    "\n",
    "df.hvplot(xformatter=formatter, title=\"Mass Concentration of Ozone in Air Timeseries\", ylabel=\"Ozone in ug m-3\")"
   ]
  },
  {
   "cell_type": "markdown",
   "metadata": {},
   "source": [
    "We can also easily plot more than one dataframe on the same graph, using the `*` operator."
   ]
  },
  {
   "cell_type": "code",
   "execution_count": 11,
   "metadata": {},
   "outputs": [
    {
     "name": "stderr",
     "output_type": "stream",
     "text": [
      "/home/h04/twilson/.conda/envs/cap_env/lib/python3.8/site-packages/iris/coords.py:1979: UserWarning: Collapsing a non-contiguous coordinate. Metadata may not be fully descriptive for 'projection_y_coordinate'.\n",
      "  warnings.warn(msg.format(self.name()))\n",
      "/home/h04/twilson/.conda/envs/cap_env/lib/python3.8/site-packages/iris/coords.py:1979: UserWarning: Collapsing a non-contiguous coordinate. Metadata may not be fully descriptive for 'projection_x_coordinate'.\n",
      "  warnings.warn(msg.format(self.name()))\n"
     ]
    },
    {
     "data": {},
     "metadata": {},
     "output_type": "display_data"
    },
    {
     "data": {
      "application/vnd.holoviews_exec.v0+json": "",
      "text/html": [
       "<div id='2167'>\n",
       "  <div class=\"bk-root\" id=\"ac99b4fa-5b97-44a4-a868-d1e56e9ef0c6\" data-root-id=\"2167\"></div>\n",
       "</div>\n",
       "<script type=\"application/javascript\">(function(root) {\n",
       "  function embed_document(root) {\n",
       "    var docs_json = {\"1bcc590a-40df-42fe-a270-75ca280aa145\":{\"defs\":[{\"extends\":null,\"module\":null,\"name\":\"ReactiveHTML1\",\"overrides\":[],\"properties\":[]},{\"extends\":null,\"module\":null,\"name\":\"FlexBox1\",\"overrides\":[],\"properties\":[{\"default\":\"flex-start\",\"kind\":null,\"name\":\"align_content\"},{\"default\":\"flex-start\",\"kind\":null,\"name\":\"align_items\"},{\"default\":\"row\",\"kind\":null,\"name\":\"flex_direction\"},{\"default\":\"wrap\",\"kind\":null,\"name\":\"flex_wrap\"},{\"default\":\"flex-start\",\"kind\":null,\"name\":\"justify_content\"}]},{\"extends\":null,\"module\":null,\"name\":\"GridStack1\",\"overrides\":[],\"properties\":[{\"default\":\"warn\",\"kind\":null,\"name\":\"mode\"},{\"default\":null,\"kind\":null,\"name\":\"ncols\"},{\"default\":null,\"kind\":null,\"name\":\"nrows\"},{\"default\":true,\"kind\":null,\"name\":\"allow_resize\"},{\"default\":true,\"kind\":null,\"name\":\"allow_drag\"},{\"default\":[],\"kind\":null,\"name\":\"state\"}]},{\"extends\":null,\"module\":null,\"name\":\"click1\",\"overrides\":[],\"properties\":[{\"default\":\"\",\"kind\":null,\"name\":\"terminal_output\"},{\"default\":\"\",\"kind\":null,\"name\":\"debug_name\"},{\"default\":0,\"kind\":null,\"name\":\"clears\"}]},{\"extends\":null,\"module\":null,\"name\":\"NotificationAreaBase1\",\"overrides\":[],\"properties\":[{\"default\":\"bottom-right\",\"kind\":null,\"name\":\"position\"},{\"default\":0,\"kind\":null,\"name\":\"_clear\"}]},{\"extends\":null,\"module\":null,\"name\":\"NotificationArea1\",\"overrides\":[],\"properties\":[{\"default\":[],\"kind\":null,\"name\":\"notifications\"},{\"default\":\"bottom-right\",\"kind\":null,\"name\":\"position\"},{\"default\":0,\"kind\":null,\"name\":\"_clear\"},{\"default\":[{\"background\":\"#ffc107\",\"icon\":{\"className\":\"fas fa-exclamation-triangle\",\"color\":\"white\",\"tagName\":\"i\"},\"type\":\"warning\"},{\"background\":\"#007bff\",\"icon\":{\"className\":\"fas fa-info-circle\",\"color\":\"white\",\"tagName\":\"i\"},\"type\":\"info\"}],\"kind\":null,\"name\":\"types\"}]},{\"extends\":null,\"module\":null,\"name\":\"Notification\",\"overrides\":[],\"properties\":[{\"default\":null,\"kind\":null,\"name\":\"background\"},{\"default\":3000,\"kind\":null,\"name\":\"duration\"},{\"default\":null,\"kind\":null,\"name\":\"icon\"},{\"default\":\"\",\"kind\":null,\"name\":\"message\"},{\"default\":null,\"kind\":null,\"name\":\"notification_type\"},{\"default\":false,\"kind\":null,\"name\":\"_destroyed\"}]},{\"extends\":null,\"module\":null,\"name\":\"TemplateActions1\",\"overrides\":[],\"properties\":[{\"default\":0,\"kind\":null,\"name\":\"open_modal\"},{\"default\":0,\"kind\":null,\"name\":\"close_modal\"}]},{\"extends\":null,\"module\":null,\"name\":\"MaterialTemplateActions1\",\"overrides\":[],\"properties\":[{\"default\":0,\"kind\":null,\"name\":\"open_modal\"},{\"default\":0,\"kind\":null,\"name\":\"close_modal\"}]}],\"roots\":{\"references\":[{\"attributes\":{},\"id\":\"2193\",\"type\":\"ResetTool\"},{\"attributes\":{\"end\":1590019200000.0,\"reset_end\":1590019200000.0,\"reset_start\":1589936400000.0,\"start\":1589936400000.0,\"tags\":[[[\"Time\",\"Time\",null]]]},\"id\":\"2168\",\"type\":\"Range1d\"},{\"attributes\":{\"bottom_units\":\"screen\",\"coordinates\":null,\"fill_alpha\":0.5,\"fill_color\":\"lightgrey\",\"group\":null,\"left_units\":\"screen\",\"level\":\"overlay\",\"line_alpha\":1.0,\"line_color\":\"black\",\"line_dash\":[4,4],\"line_width\":2,\"right_units\":\"screen\",\"syncable\":false,\"top_units\":\"screen\"},\"id\":\"2194\",\"type\":\"BoxAnnotation\"},{\"attributes\":{\"line_color\":\"#fc4f30\",\"line_width\":2,\"x\":{\"field\":\"Time\"},\"y\":{\"field\":\"mass_concentration_of_pm10_ambient_aerosol_in_air \\n in ug/m3\"}},\"id\":\"2227\",\"type\":\"Line\"},{\"attributes\":{},\"id\":\"2251\",\"type\":\"YearsTicker\"},{\"attributes\":{},\"id\":\"2208\",\"type\":\"BasicTickFormatter\"},{\"attributes\":{\"line_alpha\":0.2,\"line_color\":\"#fc4f30\",\"line_width\":2,\"x\":{\"field\":\"Time\"},\"y\":{\"field\":\"mass_concentration_of_pm10_ambient_aerosol_in_air \\n in ug/m3\"}},\"id\":\"2224\",\"type\":\"Line\"},{\"attributes\":{\"coordinates\":null,\"data_source\":{\"id\":\"2210\"},\"glyph\":{\"id\":\"2213\"},\"group\":null,\"hover_glyph\":null,\"muted_glyph\":{\"id\":\"2215\"},\"nonselection_glyph\":{\"id\":\"2214\"},\"selection_glyph\":{\"id\":\"2218\"},\"view\":{\"id\":\"2217\"}},\"id\":\"2216\",\"type\":\"GlyphRenderer\"},{\"attributes\":{\"line_alpha\":0.1,\"line_color\":\"#30a2da\",\"line_width\":2,\"x\":{\"field\":\"Time\"},\"y\":{\"field\":\"mass_concentration_of_ozone_in_air \\n in ug/m3\"}},\"id\":\"2214\",\"type\":\"Line\"},{\"attributes\":{\"children\":[{\"id\":\"2172\"}],\"height\":300,\"margin\":[0,0,0,0],\"name\":\"Row03477\",\"sizing_mode\":\"fixed\",\"tags\":[\"embedded\"],\"width\":700},\"id\":\"2167\",\"type\":\"Row\"},{\"attributes\":{\"source\":{\"id\":\"2210\"}},\"id\":\"2217\",\"type\":\"CDSView\"},{\"attributes\":{\"data\":{\"Time\":{\"__ndarray__\":\"AABogvkid0IAAFDx/CJ3QgAAOGAAI3dCAAAgzwMjd0IAAAg+ByN3QgAA8KwKI3dCAADYGw4jd0IAAMCKESN3QgAAqPkUI3dCAACQaBgjd0IAAHjXGyN3QgAAYEYfI3dCAABItSIjd0IAADAkJiN3QgAAGJMpI3dCAAAAAi0jd0IAAOhwMCN3QgAA0N8zI3dCAAC4Tjcjd0IAAKC9OiN3QgAAiCw+I3dCAABwm0Ejd0IAAFgKRSN3QgAAQHlII3dC\",\"dtype\":\"float64\",\"order\":\"little\",\"shape\":[24]},\"mass_concentration_of_pm10_ambient_aerosol_in_air \\n in ug/m3\":{\"__ndarray__\":\"H4XbQB+Fu0AAAKBArkehQI/C5UDy0hVBppv0QO58r0CamclAmpnZQGdmDkE+Cl9BH4WbQQAAoEHZzptBzcxUQaRwLUGkcBVBcT0CQcuh9UAAANBA7FHoQBkE1kAAAJBA\",\"dtype\":\"float32\",\"order\":\"little\",\"shape\":[24]},\"mass_concentration_of_pm10_ambient_aerosol_in_air_in_ug_over_m3\":{\"__ndarray__\":\"H4XbQB+Fu0AAAKBArkehQI/C5UDy0hVBppv0QO58r0CamclAmpnZQGdmDkE+Cl9BH4WbQQAAoEHZzptBzcxUQaRwLUGkcBVBcT0CQcuh9UAAANBA7FHoQBkE1kAAAJBA\",\"dtype\":\"float32\",\"order\":\"little\",\"shape\":[24]}},\"selected\":{\"id\":\"2220\"},\"selection_policy\":{\"id\":\"2237\"}},\"id\":\"2219\",\"type\":\"ColumnDataSource\"},{\"attributes\":{\"months\":[0,4,8]},\"id\":\"2249\",\"type\":\"MonthsTicker\"},{\"attributes\":{\"mantissas\":[1,2,5],\"max_interval\":500.0,\"num_minor_ticks\":0},\"id\":\"2240\",\"type\":\"AdaptiveTicker\"},{\"attributes\":{\"end\":101.08000335693359,\"reset_end\":101.08000335693359,\"reset_start\":-4.280000305175781,\"start\":-4.280000305175781,\"tags\":[[[\"mass_concentration_of_ozone_in_air \\n in ug/m3\",\"mass_concentration_of_ozone_in_air \\n in ug/m3\",null]]]},\"id\":\"2169\",\"type\":\"Range1d\"},{\"attributes\":{},\"id\":\"2179\",\"type\":\"LinearScale\"},{\"attributes\":{\"line_color\":\"#30a2da\",\"line_width\":2,\"x\":{\"field\":\"Time\"},\"y\":{\"field\":\"mass_concentration_of_ozone_in_air \\n in ug/m3\"}},\"id\":\"2218\",\"type\":\"Line\"},{\"attributes\":{},\"id\":\"2209\",\"type\":\"AllLabels\"},{\"attributes\":{\"line_alpha\":0.2,\"line_color\":\"#30a2da\",\"line_width\":2,\"x\":{\"field\":\"Time\"},\"y\":{\"field\":\"mass_concentration_of_ozone_in_air \\n in ug/m3\"}},\"id\":\"2215\",\"type\":\"Line\"},{\"attributes\":{\"axis\":{\"id\":\"2181\"},\"coordinates\":null,\"grid_line_color\":null,\"group\":null,\"ticker\":null},\"id\":\"2184\",\"type\":\"Grid\"},{\"attributes\":{\"base\":24,\"mantissas\":[1,2,4,6,8,12],\"max_interval\":43200000.0,\"min_interval\":3600000.0,\"num_minor_ticks\":0},\"id\":\"2242\",\"type\":\"AdaptiveTicker\"},{\"attributes\":{},\"id\":\"2237\",\"type\":\"UnionRenderers\"},{\"attributes\":{\"callback\":null,\"formatters\":{\"@{Time}\":\"datetime\"},\"renderers\":[{\"id\":\"2225\"}],\"tags\":[\"hv_created\"],\"tooltips\":[[\"Time\",\"@{Time}{%F %T}\"],[\"mass_concentration_of_pm10_ambient_aerosol_in_air \\n in ug/m3\",\"@{mass_concentration_of_pm10_ambient_aerosol_in_air_in_ug_over_m3}\"]]},\"id\":\"2171\",\"type\":\"HoverTool\"},{\"attributes\":{},\"id\":\"2211\",\"type\":\"Selection\"},{\"attributes\":{\"axis\":{\"id\":\"2185\"},\"coordinates\":null,\"dimension\":1,\"grid_line_color\":null,\"group\":null,\"ticker\":null},\"id\":\"2188\",\"type\":\"Grid\"},{\"attributes\":{\"months\":[0,6]},\"id\":\"2250\",\"type\":\"MonthsTicker\"},{\"attributes\":{},\"id\":\"2177\",\"type\":\"LinearScale\"},{\"attributes\":{\"line_color\":\"#30a2da\",\"line_width\":2,\"x\":{\"field\":\"Time\"},\"y\":{\"field\":\"mass_concentration_of_ozone_in_air \\n in ug/m3\"}},\"id\":\"2213\",\"type\":\"Line\"},{\"attributes\":{\"months\":[0,2,4,6,8,10]},\"id\":\"2248\",\"type\":\"MonthsTicker\"},{\"attributes\":{\"axis_label\":\"Concentration in ug m-3\",\"coordinates\":null,\"formatter\":{\"id\":\"2208\"},\"group\":null,\"major_label_policy\":{\"id\":\"2209\"},\"ticker\":{\"id\":\"2186\"}},\"id\":\"2185\",\"type\":\"LinearAxis\"},{\"attributes\":{\"months\":[0,1,2,3,4,5,6,7,8,9,10,11]},\"id\":\"2247\",\"type\":\"MonthsTicker\"},{\"attributes\":{\"line_alpha\":0.1,\"line_color\":\"#fc4f30\",\"line_width\":2,\"x\":{\"field\":\"Time\"},\"y\":{\"field\":\"mass_concentration_of_pm10_ambient_aerosol_in_air \\n in ug/m3\"}},\"id\":\"2223\",\"type\":\"Line\"},{\"attributes\":{\"tools\":[{\"id\":\"2170\"},{\"id\":\"2171\"},{\"id\":\"2189\"},{\"id\":\"2190\"},{\"id\":\"2191\"},{\"id\":\"2192\"},{\"id\":\"2193\"}]},\"id\":\"2195\",\"type\":\"Toolbar\"},{\"attributes\":{\"callback\":null,\"formatters\":{\"@{Time}\":\"datetime\"},\"renderers\":[{\"id\":\"2216\"}],\"tags\":[\"hv_created\"],\"tooltips\":[[\"Time\",\"@{Time}{%F %T}\"],[\"mass_concentration_of_ozone_in_air \\n in ug/m3\",\"@{mass_concentration_of_ozone_in_air_in_ug_over_m3}\"]]},\"id\":\"2170\",\"type\":\"HoverTool\"},{\"attributes\":{\"coordinates\":null,\"group\":null,\"text\":\"Mass Concentration of Particulates in Air Timeseries\",\"text_color\":\"black\",\"text_font_size\":\"12pt\"},\"id\":\"2173\",\"type\":\"Title\"},{\"attributes\":{\"data\":{\"Time\":{\"__ndarray__\":\"AABogvkid0IAAFDx/CJ3QgAAOGAAI3dCAAAgzwMjd0IAAAg+ByN3QgAA8KwKI3dCAADYGw4jd0IAAMCKESN3QgAAqPkUI3dCAACQaBgjd0IAAHjXGyN3QgAAYEYfI3dCAABItSIjd0IAADAkJiN3QgAAGJMpI3dCAAAAAi0jd0IAAOhwMCN3QgAA0N8zI3dCAAC4Tjcjd0IAAKC9OiN3QgAAiCw+I3dCAABwm0Ejd0IAAFgKRSN3QgAAQHlII3dC\",\"dtype\":\"float64\",\"order\":\"little\",\"shape\":[24]},\"mass_concentration_of_ozone_in_air \\n in ug/m3\":{\"__ndarray__\":\"9iilQilcrUITg61C7FGvQpDCtELsUbdCUri2QocWtEI837FCw/WwQvhTsEJANa9CNV61QpqZuEJI4bVCeemtQjMzqkI4ia1CtvOvQuxRr0KHFqxCCteqQq5Hq0IAAKxC\",\"dtype\":\"float32\",\"order\":\"little\",\"shape\":[24]},\"mass_concentration_of_ozone_in_air_in_ug_over_m3\":{\"__ndarray__\":\"9iilQilcrUITg61C7FGvQpDCtELsUbdCUri2QocWtEI837FCw/WwQvhTsEJANa9CNV61QpqZuEJI4bVCeemtQjMzqkI4ia1CtvOvQuxRr0KHFqxCCteqQq5Hq0IAAKxC\",\"dtype\":\"float32\",\"order\":\"little\",\"shape\":[24]}},\"selected\":{\"id\":\"2211\"},\"selection_policy\":{\"id\":\"2235\"}},\"id\":\"2210\",\"type\":\"ColumnDataSource\"},{\"attributes\":{\"source\":{\"id\":\"2219\"}},\"id\":\"2226\",\"type\":\"CDSView\"},{\"attributes\":{\"below\":[{\"id\":\"2181\"}],\"center\":[{\"id\":\"2184\"},{\"id\":\"2188\"}],\"height\":300,\"left\":[{\"id\":\"2185\"}],\"margin\":[5,5,5,5],\"min_border_bottom\":10,\"min_border_left\":10,\"min_border_right\":10,\"min_border_top\":10,\"renderers\":[{\"id\":\"2216\"},{\"id\":\"2225\"}],\"sizing_mode\":\"fixed\",\"title\":{\"id\":\"2173\"},\"toolbar\":{\"id\":\"2195\"},\"width\":700,\"x_range\":{\"id\":\"2168\"},\"x_scale\":{\"id\":\"2177\"},\"y_range\":{\"id\":\"2169\"},\"y_scale\":{\"id\":\"2179\"}},\"id\":\"2172\",\"subtype\":\"Figure\",\"type\":\"Plot\"},{\"attributes\":{\"base\":60,\"mantissas\":[1,2,5,10,15,20,30],\"max_interval\":1800000.0,\"min_interval\":1000.0,\"num_minor_ticks\":0},\"id\":\"2241\",\"type\":\"AdaptiveTicker\"},{\"attributes\":{},\"id\":\"2220\",\"type\":\"Selection\"},{\"attributes\":{\"days\":[1,2,3,4,5,6,7,8,9,10,11,12,13,14,15,16,17,18,19,20,21,22,23,24,25,26,27,28,29,30,31]},\"id\":\"2243\",\"type\":\"DaysTicker\"},{\"attributes\":{\"axis_label\":\"Time\",\"coordinates\":null,\"formatter\":{\"id\":\"2204\"},\"group\":null,\"major_label_policy\":{\"id\":\"2205\"},\"ticker\":{\"id\":\"2182\"}},\"id\":\"2181\",\"type\":\"DatetimeAxis\"},{\"attributes\":{\"num_minor_ticks\":5,\"tickers\":[{\"id\":\"2240\"},{\"id\":\"2241\"},{\"id\":\"2242\"},{\"id\":\"2243\"},{\"id\":\"2244\"},{\"id\":\"2245\"},{\"id\":\"2246\"},{\"id\":\"2247\"},{\"id\":\"2248\"},{\"id\":\"2249\"},{\"id\":\"2250\"},{\"id\":\"2251\"}]},\"id\":\"2182\",\"type\":\"DatetimeTicker\"},{\"attributes\":{},\"id\":\"2190\",\"type\":\"PanTool\"},{\"attributes\":{},\"id\":\"2235\",\"type\":\"UnionRenderers\"},{\"attributes\":{},\"id\":\"2205\",\"type\":\"AllLabels\"},{\"attributes\":{},\"id\":\"2191\",\"type\":\"WheelZoomTool\"},{\"attributes\":{\"days\":[1,8,15,22]},\"id\":\"2245\",\"type\":\"DaysTicker\"},{\"attributes\":{\"coordinates\":null,\"data_source\":{\"id\":\"2219\"},\"glyph\":{\"id\":\"2222\"},\"group\":null,\"hover_glyph\":null,\"muted_glyph\":{\"id\":\"2224\"},\"nonselection_glyph\":{\"id\":\"2223\"},\"selection_glyph\":{\"id\":\"2227\"},\"view\":{\"id\":\"2226\"}},\"id\":\"2225\",\"type\":\"GlyphRenderer\"},{\"attributes\":{},\"id\":\"2186\",\"type\":\"BasicTicker\"},{\"attributes\":{\"line_color\":\"#fc4f30\",\"line_width\":2,\"x\":{\"field\":\"Time\"},\"y\":{\"field\":\"mass_concentration_of_pm10_ambient_aerosol_in_air \\n in ug/m3\"}},\"id\":\"2222\",\"type\":\"Line\"},{\"attributes\":{\"days\":[1,4,7,10,13,16,19,22,25,28]},\"id\":\"2244\",\"type\":\"DaysTicker\"},{\"attributes\":{},\"id\":\"2189\",\"type\":\"SaveTool\"},{\"attributes\":{\"days\":[1,15]},\"id\":\"2246\",\"type\":\"DaysTicker\"},{\"attributes\":{\"hours\":[\"%H:%M\"]},\"id\":\"2204\",\"type\":\"DatetimeTickFormatter\"},{\"attributes\":{\"overlay\":{\"id\":\"2194\"}},\"id\":\"2192\",\"type\":\"BoxZoomTool\"}],\"root_ids\":[\"2167\"]},\"title\":\"Bokeh Application\",\"version\":\"2.4.3\"}};\n",
       "    var render_items = [{\"docid\":\"1bcc590a-40df-42fe-a270-75ca280aa145\",\"root_ids\":[\"2167\"],\"roots\":{\"2167\":\"ac99b4fa-5b97-44a4-a868-d1e56e9ef0c6\"}}];\n",
       "    root.Bokeh.embed.embed_items_notebook(docs_json, render_items);\n",
       "    for (const render_item of render_items) {\n",
       "      for (const root_id of render_item.root_ids) {\n",
       "\tconst id_el = document.getElementById(root_id)\n",
       "\tif (id_el.children.length && (id_el.children[0].className === 'bk-root')) {\n",
       "\t  const root_el = id_el.children[0]\n",
       "\t  root_el.id = root_el.id + '-rendered'\n",
       "\t}\n",
       "      }\n",
       "    }\n",
       "  }\n",
       "  if (root.Bokeh !== undefined && root.Bokeh.Panel !== undefined) {\n",
       "    embed_document(root);\n",
       "  } else {\n",
       "    var attempts = 0;\n",
       "    var timer = setInterval(function(root) {\n",
       "      if (root.Bokeh !== undefined && root.Bokeh.Panel !== undefined) {\n",
       "        clearInterval(timer);\n",
       "        embed_document(root);\n",
       "      } else if (document.readyState == \"complete\") {\n",
       "        attempts++;\n",
       "        if (attempts > 200) {\n",
       "          clearInterval(timer);\n",
       "          console.log(\"Bokeh: ERROR: Unable to run BokehJS code because BokehJS library is missing\");\n",
       "        }\n",
       "      }\n",
       "    }, 25, root)\n",
       "  }\n",
       "})(window);</script>"
      ],
      "text/plain": [
       ":Overlay\n",
       "   .Curve.Mass_concentration_of_ozone_in_air_in_ug_over_m3                :Curve   [Time]   (mass_concentration_of_ozone_in_air \n",
       " in ug/m3)\n",
       "   .Curve.Mass_concentration_of_pm10_ambient_aerosol_in_air_in_ug_over_m3 :Curve   [Time]   (mass_concentration_of_pm10_ambient_aerosol_in_air \n",
       " in ug/m3)"
      ]
     },
     "execution_count": 11,
     "metadata": {
      "application/vnd.holoviews_exec.v0+json": {
       "id": "2167"
      }
     },
     "output_type": "execute_result"
    }
   ],
   "source": [
    "pm10_data_filepath = os.path.join(SAMPLEDIR, \"model_full\", \"aqum_hourly_pm10_20200520.nc\")\n",
    "interpolated_pm10 = dataset_renderer.TimeSeries(data=pm10_data_filepath, x=-19200, y=97200).linear_interpolate()\n",
    "df_pm10 = dataset_renderer.Renderer(interpolated_pm10).render()\n",
    "\n",
    "df.hvplot(xformatter=formatter, title=\"Mass Concentration of Particulates in Air Timeseries\", ylabel=\"Concentration in ug m-3\", legend=False) * df_pm10.hvplot(legend=False)"
   ]
  }
 ],
 "metadata": {
  "kernelspec": {
   "display_name": "cap_env",
   "language": "python",
   "name": "python3"
  },
  "language_info": {
   "codemirror_mode": {
    "name": "ipython",
    "version": 3
   },
   "file_extension": ".py",
   "mimetype": "text/x-python",
   "name": "python",
   "nbconvert_exporter": "python",
   "pygments_lexer": "ipython3",
   "version": "3.8.15"
  },
  "vscode": {
   "interpreter": {
    "hash": "87b966479b9aa4c0ee8b47762b9da59e19a9e60a102d788ba55adae756e42394"
   }
  }
 },
 "nbformat": 4,
 "nbformat_minor": 4
}
