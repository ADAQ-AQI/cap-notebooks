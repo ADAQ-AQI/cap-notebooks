{
 "cells": [
  {
   "cell_type": "markdown",
   "metadata": {},
   "source": [
    "# Timeseries Spatial Average Demo"
   ]
  },
  {
   "cell_type": "markdown",
   "metadata": {},
   "source": [
    "This notebook will demonstrate how to call the code to produce timeseries DataSubsets and plots for several different forms of input data requiring different spatial calculations, namely the following:\n",
    "1. A box (defined by cell coordinates at the corners of the box)\n",
    "2. A polygon (defined as a shapely Polygon object)\n",
    "3. Multiple polygons (defined as a shapely MultiPolygon object).\n",
    "\n",
    "Using spatial averaging will provide a timeseries of the mean data values for the given 2D shape, defaulting to ground level for altitude. The data within the shape is extracted and then averaged, to provide new data points for the timeseries."
   ]
  },
  {
   "cell_type": "code",
   "execution_count": null,
   "metadata": {},
   "outputs": [],
   "source": [
    "import os\n",
    "from shapely.geometry import Polygon, MultiPolygon\n",
    "\n",
    "import cap_sample_data\n",
    "from clean_air.visualise import dataset_renderer"
   ]
  },
  {
   "cell_type": "markdown",
   "metadata": {},
   "source": [
    "## Load the data"
   ]
  },
  {
   "cell_type": "markdown",
   "metadata": {},
   "source": [
    "Define your input data - here we have used some gridded model data. \n",
    "Data can be passed to the Timeseries calculator as either a filepath or a DataSubset object.  \n",
    "Given that the calculator itself makes the conversion to the DataSubset object, we will use a simple filepath."
   ]
  },
  {
   "cell_type": "code",
   "execution_count": null,
   "metadata": {},
   "outputs": [],
   "source": [
    "SAMPLEDIR = cap_sample_data.path\n",
    "raw_data_filepath = os.path.join(SAMPLEDIR, \"model_full\", \"aqum_hourly_o3_20200520.nc\")"
   ]
  },
  {
   "cell_type": "markdown",
   "metadata": {},
   "source": [
    "## Scenario 1: Plotting a box"
   ]
  },
  {
   "cell_type": "markdown",
   "metadata": {},
   "source": [
    "Load the data through Timeseries with spatial average specified.  \n",
    "Here we have used arbitrary values for coords to use as the corners of the box (in the form (xmin, ymin, xmax, ymax)), and also specified 'box' as the shape we want to use for data processing."
   ]
  },
  {
   "cell_type": "code",
   "execution_count": null,
   "metadata": {},
   "outputs": [],
   "source": [
    "box_data = dataset_renderer.TimeSeries(raw_data_filepath).spatial_average(shape='box', coords=[0, 0, 6000, 8000])"
   ]
  },
  {
   "cell_type": "markdown",
   "metadata": {},
   "source": [
    "We can now plot our Timeseries object."
   ]
  },
  {
   "cell_type": "code",
   "execution_count": null,
   "metadata": {},
   "outputs": [],
   "source": [
    "box_df = dataset_renderer.Renderer(box_data).render()\n",
    "box_df.hvplot()"
   ]
  },
  {
   "cell_type": "markdown",
   "metadata": {},
   "source": [
    "## Scenario 2: Plotting a polygon"
   ]
  },
  {
   "cell_type": "markdown",
   "metadata": {},
   "source": [
    "Here we have used arbitrary coordinates as the corners of a very simple Polygon object."
   ]
  },
  {
   "cell_type": "code",
   "execution_count": null,
   "metadata": {},
   "outputs": [],
   "source": [
    "shape = Polygon([(0, 0), (1000, 1000), (1000, 0)])"
   ]
  },
  {
   "cell_type": "markdown",
   "metadata": {},
   "source": [
    "Now we can pass this shape to the Timeseries calculator to load a subset, as in the previous scenario."
   ]
  },
  {
   "cell_type": "code",
   "execution_count": null,
   "metadata": {},
   "outputs": [],
   "source": [
    "shape_data = dataset_renderer.TimeSeries(raw_data_filepath).spatial_average(shape)"
   ]
  },
  {
   "cell_type": "markdown",
   "metadata": {},
   "source": [
    "And now we can plot the object.\n"
   ]
  },
  {
   "cell_type": "code",
   "execution_count": null,
   "metadata": {},
   "outputs": [],
   "source": [
    "shape_df = dataset_renderer.Renderer(shape_data).render()\n",
    "shape_df.hvplot()"
   ]
  },
  {
   "cell_type": "markdown",
   "metadata": {},
   "source": [
    "## Scenario 3: Plotting multiple polygons as side-by-side plots "
   ]
  },
  {
   "cell_type": "markdown",
   "metadata": {},
   "source": [
    "In this scenario we have input in the form of a shapely MultiPolygon object representing a list of Polygons.  There are a lot of rules about how we define these objects, please see this link for further information:\n",
    "https://shapely.readthedocs.io/en/stable/manual.html#MultiPolygon\n",
    "\n",
    "Here we have defined two triangles which do not intersect each other and put them in a list to create a MultiPolygon object."
   ]
  },
  {
   "cell_type": "code",
   "execution_count": null,
   "metadata": {},
   "outputs": [],
   "source": [
    "poly_one = Polygon([(0, 0), (100000, 100000), (100000, 0)])\n",
    "poly_two = Polygon([(-100000, -100000), (-90000, -90000), (-90000, -10000)])\n",
    "shapes = MultiPolygon([poly_one, poly_two])"
   ]
  },
  {
   "cell_type": "markdown",
   "metadata": {},
   "source": [
    "We can use this object in the same way that we do single Polygon objects to extract a list of DataSubsets, and then find the spatial average for each."
   ]
  },
  {
   "cell_type": "code",
   "execution_count": null,
   "metadata": {},
   "outputs": [],
   "source": [
    "shapes_data = dataset_renderer.TimeSeries(raw_data_filepath).spatial_average(shapes)"
   ]
  },
  {
   "cell_type": "markdown",
   "metadata": {},
   "source": [
    "Once again we can use this to call the renderer. This will produce a pandas dataframe with additional columns, one for each polygon. These will then be automatically plotted as overlaid lines."
   ]
  },
  {
   "cell_type": "code",
   "execution_count": null,
   "metadata": {},
   "outputs": [],
   "source": [
    "shapes_df = dataset_renderer.Renderer(shapes_data).render()\n",
    "shapes_df.hvplot(title=\"Mass Concentration of Ozone in Air Timeseries\", value_label=\"Ozone in ug m-3\")"
   ]
  },
  {
   "cell_type": "markdown",
   "metadata": {},
   "source": [
    "We can also produce separate subplots, simply using `subplots=True` (more information is available __[here](https://hvplot.holoviz.org/user_guide/Subplots.html)__).  "
   ]
  },
  {
   "cell_type": "code",
   "execution_count": null,
   "metadata": {},
   "outputs": [],
   "source": [
    "shapes_df.hvplot(subplots=True, width=500, height=400, value_label=\"Ozone in ug m-3\")"
   ]
  }
 ],
 "metadata": {
  "kernelspec": {
   "display_name": "Python 3.8.12 ('cap_env')",
   "language": "python",
   "name": "python3"
  },
  "language_info": {
   "codemirror_mode": {
    "name": "ipython",
    "version": 3
   },
   "file_extension": ".py",
   "mimetype": "text/x-python",
   "name": "python",
   "nbconvert_exporter": "python",
   "pygments_lexer": "ipython3",
   "version": "3.8.12"
  },
  "vscode": {
   "interpreter": {
    "hash": "fb2698964798af12b425d4961a7fbbcbec2193d91461de82199fff1eba1ff631"
   }
  }
 },
 "nbformat": 4,
 "nbformat_minor": 4
}
