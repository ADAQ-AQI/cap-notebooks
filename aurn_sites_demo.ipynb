{
 "cells": [
  {
   "cell_type": "markdown",
   "metadata": {},
   "source": [
    "# Multiple Point Sites Demo\n",
    "#### This notebook will show you how to access the AURN site data from the Clean Air Framework object store and display it on an interactive map.\n",
    "\n",
    "## Setup"
   ]
  },
  {
   "cell_type": "code",
   "execution_count": null,
   "metadata": {},
   "outputs": [],
   "source": [
    "import os\n",
    "\n",
    "import folium\n",
    "from clean_air.visualise import generate_map_based_visualisations as gmbv\n",
    "from clean_air.data.storage import create_aurn_datastore, AURNSite\n",
    "from typing import List"
   ]
  },
  {
   "cell_type": "markdown",
   "metadata": {},
   "source": [
    "#### Now access the AURN site data through a read-only datastore instance from the Clean Air Framework object store, and define a location to save your map to.\n",
    "\n",
    "#### Then you can call clean_air's `get_aurn_sites_site_map` function as shown below to create a map of the given sites."
   ]
  },
  {
   "cell_type": "code",
   "execution_count": null,
   "metadata": {},
   "outputs": [],
   "source": [
    "aurn_datastore = create_aurn_datastore()\n",
    "site_data: List[AURNSite] = list(aurn_datastore.all())\n",
    "\n",
    "save_path = os.path.join(\"assets\", \"tmp_output_files\", \"Aurn_sites_map.html\")\n",
    "\n",
    "sites_map = gmbv.get_aurn_sites_site_map(site_data, save_path)"
   ]
  },
  {
   "cell_type": "markdown",
   "metadata": {},
   "source": [
    "#### Now you just need to call 'display' with your sites_map variable to produce an interactive map of your sites data."
   ]
  },
  {
   "cell_type": "code",
   "execution_count": null,
   "metadata": {},
   "outputs": [],
   "source": [
    "display(sites_map)"
   ]
  },
  {
   "cell_type": "markdown",
   "metadata": {},
   "source": [
    "#### As ever, you can also call 'type' with your saved output to check that it has been converted to a Folium map."
   ]
  },
  {
   "cell_type": "code",
   "execution_count": null,
   "metadata": {},
   "outputs": [],
   "source": [
    "type(sites_map)"
   ]
  }
 ],
 "metadata": {
  "kernelspec": {
   "display_name": "Python 3.8.12 ('cap_env')",
   "language": "python",
   "name": "python3"
  },
  "language_info": {
   "codemirror_mode": {
    "name": "ipython",
    "version": 3
   },
   "file_extension": ".py",
   "mimetype": "text/x-python",
   "name": "python",
   "nbconvert_exporter": "python",
   "pygments_lexer": "ipython3",
   "version": "3.8.12"
  },
  "vscode": {
   "interpreter": {
    "hash": "fb2698964798af12b425d4961a7fbbcbec2193d91461de82199fff1eba1ff631"
   }
  }
 },
 "nbformat": 4,
 "nbformat_minor": 4
}
