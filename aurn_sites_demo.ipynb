{
 "cells": [
  {
   "cell_type": "markdown",
   "metadata": {},
   "source": [
    "# Multiple Point Sites Demo\n",
    "#### This notebook will show you how to display a whole set of single-point sites (such as AURN site data) on an interactive map.\n",
    "\n",
    "## Setup"
   ]
  },
  {
   "cell_type": "code",
   "execution_count": null,
   "metadata": {},
   "outputs": [],
   "source": [
    "import os\n",
    "\n",
    "import folium\n",
    "from clean_air.visualise import generate_map_based_visualisations as gmbv"
   ]
  },
  {
   "cell_type": "markdown",
   "metadata": {},
   "source": [
    "#### Now set up some variables defining the location of your input data (here we have used some AURN model data) and a location to save your map to.\n",
    "\n",
    "#### Then you can call clean_air's `get_aurn__sites_site_map` function as shown below to create a map of the given sites."
   ]
  },
  {
   "cell_type": "code",
   "execution_count": null,
   "metadata": {},
   "outputs": [],
   "source": [
    "SAMPLEDIR = \"/data/cap-sample-data\"\n",
    "site_data = os.path.join(SAMPLEDIR, \"AURN\",\"AURN_Site_Information.csv\")\n",
    "save_path = os.path.join(\"assets\", \"tmp_output_files\", \"Aurn_sites_map.html\")\n",
    "\n",
    "sites_map = gmbv.get_aurn__sites_site_map(site_data, save_path)"
   ]
  },
  {
   "cell_type": "markdown",
   "metadata": {},
   "source": [
    "#### Now you just need to call 'display' with your sites_map variable to produce a fabulous interactive map of your sites data.\n",
    "\n",
    "#### Take a look and play around with it a bit."
   ]
  },
  {
   "cell_type": "code",
   "execution_count": null,
   "metadata": {},
   "outputs": [],
   "source": [
    "display(sites_map)"
   ]
  },
  {
   "cell_type": "markdown",
   "metadata": {},
   "source": [
    "#### As ever, you can also call 'type' with your saved output to check that it has been converted to a Folium map."
   ]
  },
  {
   "cell_type": "code",
   "execution_count": null,
   "metadata": {},
   "outputs": [],
   "source": [
    "type(sites_map)"
   ]
  }
 ],
 "metadata": {
  "kernelspec": {
   "display_name": "general_env",
   "language": "python",
   "name": "general_env"
  },
  "language_info": {
   "codemirror_mode": {
    "name": "ipython",
    "version": 3
   },
   "file_extension": ".py",
   "mimetype": "text/x-python",
   "name": "python",
   "nbconvert_exporter": "python",
   "pygments_lexer": "ipython3",
   "version": "3.8.8"
  }
 },
 "nbformat": 4,
 "nbformat_minor": 4
}
