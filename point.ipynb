{
 "cells": [
  {
   "cell_type": "markdown",
   "metadata": {},
   "source": [
    "# Viewing Single-Point Data\n",
    "#### This notebook will demonstrate how to extract a single point of data and some options for displaying it.\n",
    "\n",
    "## Setup"
   ]
  },
  {
   "cell_type": "code",
   "execution_count": 1,
   "metadata": {},
   "outputs": [],
   "source": [
    "import os\n",
    "import warnings\n",
    "\n",
    "import iris\n",
    "import iris.quickplot as qplt\n",
    "import matplotlib.pyplot as plt\n",
    "\n",
    "import cap_sample_data\n",
    "from clean_air.data import DataSubset\n",
    "\n",
    "warnings.filterwarnings(\"ignore\", message=\".*\\*approx\\* keyword argument\")"
   ]
  },
  {
   "cell_type": "code",
   "execution_count": 2,
   "metadata": {},
   "outputs": [],
   "source": [
    "SAMPLEDIR = cap_sample_data.path"
   ]
  },
  {
   "cell_type": "markdown",
   "metadata": {},
   "source": [
    "## Extracting a point\n",
    "#### Once all your imports and variables are set up correctly, you can use the 'DataSubset' function of clean_air to select a dataset, and then the 'extract_point' function of this subset to extract a single point from the data, specified by an x,y point value.\n",
    "\n",
    "#### Please note that the x,y point value should be supplied as a coordinate in metres, although you can change the coordinate reference system (CRS) using the optional parameter 'crs' if you would prefer to supply coordinates, for example, in degrees.  In this case the function will accept your coordinates in your chosen CRS and convert for the map construction."
   ]
  },
  {
   "cell_type": "code",
   "execution_count": 3,
   "metadata": {},
   "outputs": [
    {
     "ename": "OSError",
     "evalue": "One or more of the files specified did not exist:\n    * \"/net/home/h06/cbosley/Projects/adaq-aqi/cap-notebooks/files\" didn't match any files",
     "output_type": "error",
     "traceback": [
      "\u001b[0;31m---------------------------------------------------------------------------\u001b[0m",
      "\u001b[0;31mOSError\u001b[0m                                   Traceback (most recent call last)",
      "\u001b[1;32m/home/h06/cbosley/Projects/adaq-aqi/cap-notebooks/point.ipynb Cell 5\u001b[0m in \u001b[0;36m<module>\u001b[0;34m\u001b[0m\n\u001b[1;32m      <a href='vscode-notebook-cell:/home/h06/cbosley/Projects/adaq-aqi/cap-notebooks/point.ipynb#W4sZmlsZQ%3D%3D?line=0'>1</a>\u001b[0m ds \u001b[39m=\u001b[39m DataSubset(\n\u001b[1;32m      <a href='vscode-notebook-cell:/home/h06/cbosley/Projects/adaq-aqi/cap-notebooks/point.ipynb#W4sZmlsZQ%3D%3D?line=1'>2</a>\u001b[0m     {\u001b[39m\"\u001b[39m\u001b[39mfiles\u001b[39m\u001b[39m\"\u001b[39m: os\u001b[39m.\u001b[39mpath\u001b[39m.\u001b[39mjoin(SAMPLEDIR, \u001b[39m\"\u001b[39m\u001b[39mmodel_full\u001b[39m\u001b[39m\"\u001b[39m, \u001b[39m\"\u001b[39m\u001b[39maqum_daily*\u001b[39m\u001b[39m\"\u001b[39m)},\n\u001b[1;32m      <a href='vscode-notebook-cell:/home/h06/cbosley/Projects/adaq-aqi/cap-notebooks/point.ipynb#W4sZmlsZQ%3D%3D?line=2'>3</a>\u001b[0m )\n\u001b[0;32m----> <a href='vscode-notebook-cell:/home/h06/cbosley/Projects/adaq-aqi/cap-notebooks/point.ipynb#W4sZmlsZQ%3D%3D?line=3'>4</a>\u001b[0m cube \u001b[39m=\u001b[39m ds\u001b[39m.\u001b[39;49mextract_point((\u001b[39m100\u001b[39;49m, \u001b[39m200\u001b[39;49m), crs\u001b[39m=\u001b[39;49m\u001b[39mNone\u001b[39;49;00m)\n",
      "File \u001b[0;32m/net/home/h06/cbosley/Projects/adaq-aqi/cap/src/clean_air/data/data_subset.py:73\u001b[0m, in \u001b[0;36mDataSubset.extract_point\u001b[0;34m(self, point, crs)\u001b[0m\n\u001b[1;32m     63\u001b[0m \u001b[39m\"\"\"\u001b[39;00m\n\u001b[1;32m     64\u001b[0m \u001b[39mExtract a rectangular area of gridded data.\u001b[39;00m\n\u001b[1;32m     65\u001b[0m \n\u001b[0;32m   (...)\u001b[0m\n\u001b[1;32m     69\u001b[0m \u001b[39m        dataset by default.\u001b[39;00m\n\u001b[1;32m     70\u001b[0m \u001b[39m\"\"\"\u001b[39;00m\n\u001b[1;32m     71\u001b[0m point \u001b[39m=\u001b[39m shapely\u001b[39m.\u001b[39mgeometry\u001b[39m.\u001b[39mPoint(point)\n\u001b[0;32m---> 73\u001b[0m cube \u001b[39m=\u001b[39m \u001b[39mself\u001b[39;49m\u001b[39m.\u001b[39;49m_load_cube()\n\u001b[1;32m     75\u001b[0m \u001b[39m# Ensure coordinate systems match\u001b[39;00m\n\u001b[1;32m     76\u001b[0m \u001b[39mif\u001b[39;00m crs \u001b[39mis\u001b[39;00m \u001b[39mnot\u001b[39;00m \u001b[39mNone\u001b[39;00m:\n",
      "File \u001b[0;32m/net/home/h06/cbosley/Projects/adaq-aqi/cap/src/clean_air/data/data_subset.py:55\u001b[0m, in \u001b[0;36mDataSubset._load_cube\u001b[0;34m(self, force)\u001b[0m\n\u001b[1;32m     53\u001b[0m \u001b[39melse\u001b[39;00m:\n\u001b[1;32m     54\u001b[0m     \u001b[39mtry\u001b[39;00m:\n\u001b[0;32m---> 55\u001b[0m         cube \u001b[39m=\u001b[39m iris\u001b[39m.\u001b[39;49mload_cube(\u001b[39mself\u001b[39;49m\u001b[39m.\u001b[39;49mmetadata, constraints)\n\u001b[1;32m     56\u001b[0m     \u001b[39mexcept\u001b[39;00m \u001b[39mAttributeError\u001b[39;00m:\n\u001b[1;32m     57\u001b[0m         cube \u001b[39m=\u001b[39m iris\u001b[39m.\u001b[39mload_cube(\u001b[39mself\u001b[39m\u001b[39m.\u001b[39mmetadata[\u001b[39m'\u001b[39m\u001b[39mfiles\u001b[39m\u001b[39m'\u001b[39m], constraints)\n",
      "File \u001b[0;32m~/.conda/envs/cap_env/lib/python3.8/site-packages/iris/__init__.py:333\u001b[0m, in \u001b[0;36mload_cube\u001b[0;34m(uris, constraint, callback)\u001b[0m\n\u001b[1;32m    330\u001b[0m \u001b[39mif\u001b[39;00m \u001b[39mlen\u001b[39m(constraints) \u001b[39m!=\u001b[39m \u001b[39m1\u001b[39m:\n\u001b[1;32m    331\u001b[0m     \u001b[39mraise\u001b[39;00m \u001b[39mValueError\u001b[39;00m(\u001b[39m\"\u001b[39m\u001b[39monly a single constraint is allowed\u001b[39m\u001b[39m\"\u001b[39m)\n\u001b[0;32m--> 333\u001b[0m cubes \u001b[39m=\u001b[39m _load_collection(uris, constraints, callback)\u001b[39m.\u001b[39mcubes()\n\u001b[1;32m    335\u001b[0m \u001b[39mtry\u001b[39;00m:\n\u001b[1;32m    336\u001b[0m     cube \u001b[39m=\u001b[39m cubes\u001b[39m.\u001b[39mmerge_cube()\n",
      "File \u001b[0;32m~/.conda/envs/cap_env/lib/python3.8/site-packages/iris/__init__.py:270\u001b[0m, in \u001b[0;36m_load_collection\u001b[0;34m(uris, constraints, callback)\u001b[0m\n\u001b[1;32m    268\u001b[0m \u001b[39mtry\u001b[39;00m:\n\u001b[1;32m    269\u001b[0m     cubes \u001b[39m=\u001b[39m _generate_cubes(uris, callback, constraints)\n\u001b[0;32m--> 270\u001b[0m     result \u001b[39m=\u001b[39m _CubeFilterCollection\u001b[39m.\u001b[39;49mfrom_cubes(cubes, constraints)\n\u001b[1;32m    271\u001b[0m \u001b[39mexcept\u001b[39;00m \u001b[39mEOFError\u001b[39;00m \u001b[39mas\u001b[39;00m e:\n\u001b[1;32m    272\u001b[0m     \u001b[39mraise\u001b[39;00m iris\u001b[39m.\u001b[39mexceptions\u001b[39m.\u001b[39mTranslationError(\n\u001b[1;32m    273\u001b[0m         \u001b[39m\"\u001b[39m\u001b[39mThe file appears empty or incomplete: \u001b[39m\u001b[39m{!r}\u001b[39;00m\u001b[39m\"\u001b[39m\u001b[39m.\u001b[39mformat(\u001b[39mstr\u001b[39m(e))\n\u001b[1;32m    274\u001b[0m     )\n",
      "File \u001b[0;32m~/.conda/envs/cap_env/lib/python3.8/site-packages/iris/cube.py:115\u001b[0m, in \u001b[0;36m_CubeFilterCollection.from_cubes\u001b[0;34m(cubes, constraints)\u001b[0m\n\u001b[1;32m    113\u001b[0m pairs \u001b[39m=\u001b[39m [_CubeFilter(constraint) \u001b[39mfor\u001b[39;00m constraint \u001b[39min\u001b[39;00m constraints]\n\u001b[1;32m    114\u001b[0m collection \u001b[39m=\u001b[39m _CubeFilterCollection(pairs)\n\u001b[0;32m--> 115\u001b[0m \u001b[39mfor\u001b[39;00m cube \u001b[39min\u001b[39;00m cubes:\n\u001b[1;32m    116\u001b[0m     collection\u001b[39m.\u001b[39madd_cube(cube)\n\u001b[1;32m    117\u001b[0m \u001b[39mreturn\u001b[39;00m collection\n",
      "File \u001b[0;32m~/.conda/envs/cap_env/lib/python3.8/site-packages/iris/__init__.py:255\u001b[0m, in \u001b[0;36m_generate_cubes\u001b[0;34m(uris, callback, constraints)\u001b[0m\n\u001b[1;32m    253\u001b[0m \u001b[39mif\u001b[39;00m scheme \u001b[39m==\u001b[39m \u001b[39m\"\u001b[39m\u001b[39mfile\u001b[39m\u001b[39m\"\u001b[39m:\n\u001b[1;32m    254\u001b[0m     part_names \u001b[39m=\u001b[39m [x[\u001b[39m1\u001b[39m] \u001b[39mfor\u001b[39;00m x \u001b[39min\u001b[39;00m groups]\n\u001b[0;32m--> 255\u001b[0m     \u001b[39mfor\u001b[39;00m cube \u001b[39min\u001b[39;00m iris\u001b[39m.\u001b[39mio\u001b[39m.\u001b[39mload_files(part_names, callback, constraints):\n\u001b[1;32m    256\u001b[0m         \u001b[39myield\u001b[39;00m cube\n\u001b[1;32m    257\u001b[0m \u001b[39melif\u001b[39;00m scheme \u001b[39min\u001b[39;00m [\u001b[39m\"\u001b[39m\u001b[39mhttp\u001b[39m\u001b[39m\"\u001b[39m, \u001b[39m\"\u001b[39m\u001b[39mhttps\u001b[39m\u001b[39m\"\u001b[39m]:\n",
      "File \u001b[0;32m~/.conda/envs/cap_env/lib/python3.8/site-packages/iris/io/__init__.py:189\u001b[0m, in \u001b[0;36mload_files\u001b[0;34m(filenames, callback, constraints)\u001b[0m\n\u001b[1;32m    176\u001b[0m \u001b[39m\"\"\"\u001b[39;00m\n\u001b[1;32m    177\u001b[0m \u001b[39mTakes a list of filenames which may also be globs, and optionally a\u001b[39;00m\n\u001b[1;32m    178\u001b[0m \u001b[39mconstraint set and a callback function, and returns a\u001b[39;00m\n\u001b[0;32m   (...)\u001b[0m\n\u001b[1;32m    185\u001b[0m \n\u001b[1;32m    186\u001b[0m \u001b[39m\"\"\"\u001b[39;00m\n\u001b[1;32m    187\u001b[0m \u001b[39mfrom\u001b[39;00m \u001b[39miris\u001b[39;00m\u001b[39m.\u001b[39;00m\u001b[39mfileformats\u001b[39;00m \u001b[39mimport\u001b[39;00m FORMAT_AGENT\n\u001b[0;32m--> 189\u001b[0m all_file_paths \u001b[39m=\u001b[39m expand_filespecs(filenames)\n\u001b[1;32m    191\u001b[0m \u001b[39m# Create default dict mapping iris format handler to its associated filenames\u001b[39;00m\n\u001b[1;32m    192\u001b[0m handler_map \u001b[39m=\u001b[39m collections\u001b[39m.\u001b[39mdefaultdict(\u001b[39mlist\u001b[39m)\n",
      "File \u001b[0;32m~/.conda/envs/cap_env/lib/python3.8/site-packages/iris/io/__init__.py:170\u001b[0m, in \u001b[0;36mexpand_filespecs\u001b[0;34m(file_specs)\u001b[0m\n\u001b[1;32m    168\u001b[0m         \u001b[39melse\u001b[39;00m:\n\u001b[1;32m    169\u001b[0m             msg \u001b[39m+\u001b[39m\u001b[39m=\u001b[39m \u001b[39m'\u001b[39m\u001b[39m\\n\u001b[39;00m\u001b[39m    * \u001b[39m\u001b[39m\"\u001b[39m\u001b[39m{}\u001b[39;00m\u001b[39m\"\u001b[39m\u001b[39m didn\u001b[39m\u001b[39m\\'\u001b[39;00m\u001b[39mt match any files\u001b[39m\u001b[39m'\u001b[39m\u001b[39m.\u001b[39mformat(pattern)\n\u001b[0;32m--> 170\u001b[0m     \u001b[39mraise\u001b[39;00m \u001b[39mIOError\u001b[39;00m(msg)\n\u001b[1;32m    172\u001b[0m \u001b[39mreturn\u001b[39;00m [fname \u001b[39mfor\u001b[39;00m fnames \u001b[39min\u001b[39;00m all_expanded \u001b[39mfor\u001b[39;00m fname \u001b[39min\u001b[39;00m fnames]\n",
      "\u001b[0;31mOSError\u001b[0m: One or more of the files specified did not exist:\n    * \"/net/home/h06/cbosley/Projects/adaq-aqi/cap-notebooks/files\" didn't match any files"
     ]
    }
   ],
   "source": [
    "ds = DataSubset(\n",
    "    {\"files\": os.path.join(SAMPLEDIR, \"model_full\", \"aqum_daily*\")},\n",
    ")\n",
    "cube = ds.extract_point((100, 200), crs=None)"
   ]
  },
  {
   "cell_type": "markdown",
   "metadata": {},
   "source": [
    "## Viewing the data\n",
    "\n",
    "#### You can view the data point and all of its attributes by calling the variable containing your point, as shown below."
   ]
  },
  {
   "cell_type": "code",
   "execution_count": null,
   "metadata": {},
   "outputs": [],
   "source": [
    "cube"
   ]
  },
  {
   "cell_type": "markdown",
   "metadata": {},
   "source": [
    "#### You can now use one of Iris' plotting modes and add some matplotlib mapping options to display the data graphically. For more information regarding these values, take a look at the Iris or matplotlib reference guides:\n",
    "\n",
    "https://scitools-iris.readthedocs.io/en/latest/generated/api/iris/quickplot.html?highlight=quickplot#module-iris.quickplot\n",
    "\n",
    "https://matplotlib.org/stable/api/_as_gen/matplotlib.pyplot.gca.html#matplotlib.pyplot.gca"
   ]
  },
  {
   "cell_type": "code",
   "execution_count": null,
   "metadata": {},
   "outputs": [],
   "source": [
    "qplt.points(cube.collapsed(\"time\", iris.analysis.MEAN))\n",
    "plt.gca().coastlines()\n",
    "plt.show()"
   ]
  },
  {
   "cell_type": "markdown",
   "metadata": {},
   "source": [
    "#### Here is another example of some plotting options which can be used to view the data."
   ]
  },
  {
   "cell_type": "code",
   "execution_count": null,
   "metadata": {},
   "outputs": [],
   "source": [
    "qplt.plot(iris.util.squeeze(cube))"
   ]
  }
 ],
 "metadata": {
  "kernelspec": {
   "display_name": "Python 3.8.12 ('cap_env')",
   "language": "python",
   "name": "python3"
  },
  "language_info": {
   "codemirror_mode": {
    "name": "ipython",
    "version": 3
   },
   "file_extension": ".py",
   "mimetype": "text/x-python",
   "name": "python",
   "nbconvert_exporter": "python",
   "pygments_lexer": "ipython3",
   "version": "3.8.12"
  },
  "vscode": {
   "interpreter": {
    "hash": "fb2698964798af12b425d4961a7fbbcbec2193d91461de82199fff1eba1ff631"
   }
  }
 },
 "nbformat": 4,
 "nbformat_minor": 4
}
