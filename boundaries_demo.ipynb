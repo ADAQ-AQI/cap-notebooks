{
 "cells": [
  {
   "cell_type": "markdown",
   "metadata": {},
   "source": [
    "# Boundaries Demo\n",
    "#### This notebook will show you how to display boundaries for regions on an interactive map. To display LSOA, MSOA, use the appropriate input file: https://metoffice.atlassian.net/wiki/spaces/AD/pages/3643310095/Requirements+list+for+location+time+periods+calculations+data\n",
    "\n",
    "## Setup"
   ]
  },
  {
   "cell_type": "code",
   "execution_count": null,
   "metadata": {},
   "outputs": [],
   "source": [
    "import os\n",
    "import folium\n",
    "\n",
    "import cap_sample_data\n",
    "from clean_air.visualise import generate_map_based_visualisations as gmbv"
   ]
  },
  {
   "cell_type": "markdown",
   "metadata": {},
   "source": [
    "#### Now set up some variables defining the location of your input data (here we have used some regional boundary data) and a location to save your map to.\n",
    "\n",
    "#### Then you can call clean_air's `get_boundaries` function as shown below to create a map of the given boundaries."
   ]
  },
  {
   "cell_type": "code",
   "execution_count": null,
   "metadata": {},
   "outputs": [],
   "source": [
    "SAMPLEDIR = cap_sample_data.path\n",
    "boundary_data = os.path.join(SAMPLEDIR, \"shapefiles\",\"NUTS_Level_1_boundries500mgjsn.geojson\")\n",
    "save_path = os.path.join(\"assets\", \"tmp_output_files\", \"boundaries.html\")\n",
    "\n",
    "boundary_map = gmbv.get_boundaries(boundary_data, save_path)"
   ]
  },
  {
   "cell_type": "markdown",
   "metadata": {},
   "source": [
    "#### Now you just need to call 'display' with your sites_map variable to produce an interactive map of your boundaries."
   ]
  },
  {
   "cell_type": "code",
   "execution_count": null,
   "metadata": {},
   "outputs": [],
   "source": [
    "display(boundary_map)"
   ]
  },
  {
   "cell_type": "markdown",
   "metadata": {},
   "source": [
    "#### As ever, you can also call 'type' with your saved output to check that it has been converted to a Folium map."
   ]
  },
  {
   "cell_type": "code",
   "execution_count": null,
   "metadata": {},
   "outputs": [],
   "source": [
    "type(boundary_map)"
   ]
  }
 ],
 "metadata": {
  "kernelspec": {
   "display_name": "Python 3.8.12 ('cap_env')",
   "language": "python",
   "name": "python3"
  },
  "language_info": {
   "codemirror_mode": {
    "name": "ipython",
    "version": 3
   },
   "file_extension": ".py",
   "mimetype": "text/x-python",
   "name": "python",
   "nbconvert_exporter": "python",
   "pygments_lexer": "ipython3",
   "version": "3.8.12"
  },
  "vscode": {
   "interpreter": {
    "hash": "fb2698964798af12b425d4961a7fbbcbec2193d91461de82199fff1eba1ff631"
   }
  }
 },
 "nbformat": 4,
 "nbformat_minor": 4
}
