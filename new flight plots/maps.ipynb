{
 "cells": [
  {
   "cell_type": "markdown",
   "id": "nervous-ranch",
   "metadata": {},
   "source": [
    "#     Plot maps"
   ]
  },
  {
   "cell_type": "markdown",
   "id": "cubic-divorce",
   "metadata": {},
   "source": [
    "## Setup imports"
   ]
  },
  {
   "cell_type": "code",
   "execution_count": 1,
   "id": "infectious-nudist",
   "metadata": {},
   "outputs": [],
   "source": [
    "import matplotlib.pyplot as plt\n",
    "import numpy as np\n",
    "import cartopy.crs as ccrs\n",
    "import notebook_prepare as pre"
   ]
  },
  {
   "cell_type": "markdown",
   "id": "indian-holly",
   "metadata": {},
   "source": [
    "## Define plotting function"
   ]
  },
  {
   "cell_type": "code",
   "execution_count": 2,
   "id": "adult-reply",
   "metadata": {},
   "outputs": [],
   "source": [
    "def plot_maps(df,wind_df,plotdir,key,label) :\n",
    "\n",
    "    \"\"\"\n",
    "    Plot maps of aircraft track.\n",
    "    \"\"\"\n",
    "\n",
    "    # Define the figure.\n",
    "    fig,ax = pre.setup_map()\n",
    "\n",
    "    # Define the data.\n",
    "    lat_data = df['Latitude'][:]\n",
    "    lon_data = df['Longitude'][:]\n",
    "    alt_data = df['Altitude'][:]\n",
    "\n",
    "    # Plot the data.\n",
    "    plt.scatter(lon_data,lat_data,s=200,c=alt_data,cmap=plt.cm.summer,ec='black',zorder=3,transform=ccrs.PlateCarree())\n",
    "\n",
    "    # Plot the colourbar.\n",
    "    cb = plt.colorbar(ax=ax,orientation='horizontal',shrink=0.8,pad=0.05,extend='both')\n",
    "    cb.ax.tick_params(labelsize=20)\n",
    "    cb.set_label('Altitude / m',fontsize=20,labelpad=10)\n",
    "\n",
    "    plt.show()\n",
    "    # Save the figure.\n",
    "    #plt.savefig(plotdir+key+'_Map_Track.png')\n",
    "    #plt.close()\n",
    "\n",
    "    \"\"\"\n",
    "    Plot maps of aircraft data.\n",
    "    \"\"\"\n",
    "\n",
    "    # Define the figure.\n",
    "    fig,ax = pre.setup_map()\n",
    "\n",
    "    # Define the data.\n",
    "    lat_data = df['Latitude'][:]\n",
    "    lon_data = df['Longitude'][:]\n",
    "    alt_data = df['Altitude'][:]\n",
    "    a_min, a_avg, a_max, m_min, m_avg, m_max, bl_min, bl_avg, bl_max = pre.read_data_values(df)\n",
    "\n",
    "    # Determine the minimum and maximum values.\n",
    "    min = np.nanmin([np.nanmin(a_avg),np.nanmin(m_avg)])\n",
    "    max = np.nanmax([np.nanmax(a_avg),np.nanmax(m_avg)])\n",
    "\n",
    "    # Plot the data.\n",
    "    plt.scatter(lon_data,lat_data,s=200,c=a_avg,cmap=plt.cm.Spectral_r,ec='black',vmin=min,vmax=max,zorder=3,transform=ccrs.PlateCarree())\n",
    "\n",
    "    # Plot the colourbar.\n",
    "    cb = plt.colorbar(ax=ax,orientation='horizontal',shrink=0.8,pad=0.05,extend='both')\n",
    "    cb.ax.tick_params(labelsize=20)\n",
    "    cb.set_label(label,fontsize=20,labelpad=10)\n",
    "\n",
    "    plt.show()\n",
    "    # Save the figure.\n",
    "    #plt.savefig(plotdir+key+'_Map_Aircraft.png')\n",
    "    #plt.close()\n",
    "\n",
    "    \"\"\"\n",
    "    Plot maps of model data.\n",
    "    \"\"\"\n",
    "\n",
    "    # Define the figure.\n",
    "    fig,ax = pre.setup_map()\n",
    "\n",
    "    # Define the data.\n",
    "    lat_data = df['Latitude'][:]\n",
    "    lon_data = df['Longitude'][:]\n",
    "    alt_data = df['Altitude'][:]\n",
    "    a_min, a_avg, a_max, m_min, m_avg, m_max, bl_min, bl_avg, bl_max = pre.read_data_values(df)\n",
    "\n",
    "    # Determine the minimum and maximum values.\n",
    "    min = np.nanmin([np.nanmin(a_avg),np.nanmin(m_avg)])\n",
    "    max = np.nanmax([np.nanmax(a_avg),np.nanmax(m_avg)])\n",
    "\n",
    "    # Plot the data.\n",
    "    plt.scatter(lon_data,lat_data,s=200,c=m_avg,cmap=plt.cm.Spectral_r,ec='black',vmin=min,vmax=max,zorder=3,transform=ccrs.PlateCarree())\n",
    "\n",
    "    # Plot the colourbar.\n",
    "    cb = plt.colorbar(ax=ax,orientation='horizontal',shrink=0.8,pad=0.05,extend='both')\n",
    "    cb.ax.tick_params(labelsize=20)\n",
    "    cb.set_label(label,fontsize=20,labelpad=10)\n",
    "\n",
    "    plt.show()\n",
    "    # Save the figure.\n",
    "    #plt.savefig(plotdir+key+'_Map_Model.png')\n",
    "    #plt.close()\n",
    "\n",
    "    \"\"\"\n",
    "    Plot maps of model - observation difference data.\n",
    "    \"\"\"\n",
    "\n",
    "    # Define the figure.\n",
    "    fig,ax = pre.setup_map()\n",
    "\n",
    "    # Define the data.\n",
    "    lat_data = df['Latitude'][:]\n",
    "    lon_data = df['Longitude'][:]\n",
    "    alt_data = df['Altitude'][:]\n",
    "    a_min, a_avg, a_max, m_min, m_avg, m_max, bl_min, bl_avg, bl_max = pre.read_data_values(df)\n",
    "\n",
    "    # Calculate the difference between model and observations.\n",
    "    diff_data = [x-y for x,y in zip(m_avg,a_avg)]\n",
    "\n",
    "    # Determine the min and max.\n",
    "    min = np.nanmin(diff_data)\n",
    "    max = np.nanmax(diff_data)\n",
    "    limits = np.sqrt(np.nanmax([min**2,max**2]))\n",
    "    min_lim = limits*-1\n",
    "    max_lim = limits\n",
    "\n",
    "    # Plot the data.\n",
    "    plt.scatter(lon_data,lat_data,s=200,c=diff_data,cmap=plt.cm.RdBu_r,ec='black',zorder=3,vmin=min_lim,vmax=max_lim,transform=ccrs.PlateCarree())\n",
    "\n",
    "    # Plot the colourbar.\n",
    "    cb = plt.colorbar(ax=ax,orientation='horizontal',shrink=0.8,pad=0.05,extend='both')\n",
    "    cb.ax.tick_params(labelsize=20)\n",
    "    cb.set_label(label+' (Model - Observation)',fontsize=20,labelpad=10)\n",
    "\n",
    "    plt.show()\n",
    "    # Save the figure.\n",
    "    #plt.savefig(plotdir+key+'_Map_Difference.png')\n",
    "    #plt.close()"
   ]
  },
  {
   "cell_type": "markdown",
   "id": "derived-exclusive",
   "metadata": {},
   "source": [
    "## Specify the flight number"
   ]
  },
  {
   "cell_type": "code",
   "execution_count": 3,
   "id": "mental-agent",
   "metadata": {},
   "outputs": [],
   "source": [
    "# Set the flight number.\n",
    "# Current valid options are M270, M296 and M302.\n",
    "flight_number = 'M296'  "
   ]
  },
  {
   "cell_type": "markdown",
   "id": "prerequisite-receiver",
   "metadata": {},
   "source": [
    "## Prepare the data and plot for each pollution species"
   ]
  },
  {
   "cell_type": "code",
   "execution_count": 4,
   "id": "divided-prime",
   "metadata": {},
   "outputs": [
    {
     "ename": "TypeError",
     "evalue": "setup_notebook() missing 1 required positional argument: 'm_flag'",
     "output_type": "error",
     "traceback": [
      "\u001b[0;31m---------------------------------------------------------------------------\u001b[0m",
      "\u001b[0;31mTypeError\u001b[0m                                 Traceback (most recent call last)",
      "\u001b[0;32m/var/tmp/ipykernel_103706/1567863358.py\u001b[0m in \u001b[0;36m<module>\u001b[0;34m\u001b[0m\n\u001b[1;32m      1\u001b[0m \u001b[0mspecies_dict\u001b[0m \u001b[0;34m=\u001b[0m \u001b[0mpre\u001b[0m\u001b[0;34m.\u001b[0m\u001b[0mspecies_dictionary\u001b[0m\u001b[0;34m(\u001b[0m\u001b[0;34m)\u001b[0m\u001b[0;34m\u001b[0m\u001b[0;34m\u001b[0m\u001b[0m\n\u001b[0;32m----> 2\u001b[0;31m \u001b[0msetup\u001b[0m \u001b[0;34m=\u001b[0m \u001b[0mpre\u001b[0m\u001b[0;34m.\u001b[0m\u001b[0msetup_notebook\u001b[0m\u001b[0;34m(\u001b[0m\u001b[0mflight_number\u001b[0m\u001b[0;34m)\u001b[0m\u001b[0;34m\u001b[0m\u001b[0;34m\u001b[0m\u001b[0m\n\u001b[0m\u001b[1;32m      3\u001b[0m \u001b[0moptns\u001b[0m \u001b[0;34m=\u001b[0m \u001b[0msetup\u001b[0m\u001b[0;34m[\u001b[0m\u001b[0;36m6\u001b[0m\u001b[0;34m]\u001b[0m\u001b[0;34m\u001b[0m\u001b[0;34m\u001b[0m\u001b[0m\n\u001b[1;32m      4\u001b[0m \u001b[0;32mfor\u001b[0m \u001b[0mkey\u001b[0m \u001b[0;32min\u001b[0m \u001b[0mspecies_dict\u001b[0m\u001b[0;34m.\u001b[0m\u001b[0mkeys\u001b[0m\u001b[0;34m(\u001b[0m\u001b[0;34m)\u001b[0m \u001b[0;34m:\u001b[0m\u001b[0;34m\u001b[0m\u001b[0;34m\u001b[0m\u001b[0m\n\u001b[1;32m      5\u001b[0m     \u001b[0mcode\u001b[0m\u001b[0;34m,\u001b[0m\u001b[0mlabel\u001b[0m\u001b[0;34m,\u001b[0m\u001b[0mcolumn_key\u001b[0m\u001b[0;34m,\u001b[0m\u001b[0munit_conv\u001b[0m \u001b[0;34m=\u001b[0m \u001b[0mspecies_dict\u001b[0m\u001b[0;34m[\u001b[0m\u001b[0mkey\u001b[0m\u001b[0;34m]\u001b[0m\u001b[0;34m[\u001b[0m\u001b[0;34m'code'\u001b[0m\u001b[0;34m]\u001b[0m\u001b[0;34m,\u001b[0m\u001b[0mspecies_dict\u001b[0m\u001b[0;34m[\u001b[0m\u001b[0mkey\u001b[0m\u001b[0;34m]\u001b[0m\u001b[0;34m[\u001b[0m\u001b[0;34m'label'\u001b[0m\u001b[0;34m]\u001b[0m\u001b[0;34m,\u001b[0m\u001b[0mspecies_dict\u001b[0m\u001b[0;34m[\u001b[0m\u001b[0mkey\u001b[0m\u001b[0;34m]\u001b[0m\u001b[0;34m[\u001b[0m\u001b[0;34m'column_key'\u001b[0m\u001b[0;34m]\u001b[0m\u001b[0;34m,\u001b[0m\u001b[0mspecies_dict\u001b[0m\u001b[0;34m[\u001b[0m\u001b[0mkey\u001b[0m\u001b[0;34m]\u001b[0m\u001b[0;34m[\u001b[0m\u001b[0;34m'unit_conv'\u001b[0m\u001b[0;34m]\u001b[0m\u001b[0;34m\u001b[0m\u001b[0;34m\u001b[0m\u001b[0m\n",
      "\u001b[0;31mTypeError\u001b[0m: setup_notebook() missing 1 required positional argument: 'm_flag'"
     ]
    }
   ],
   "source": [
    "species_dict = pre.species_dictionary()\n",
    "setup = pre.setup_notebook(flight_number)\n",
    "optns = setup[6]\n",
    "for key in species_dict.keys() :\n",
    "    code,label,column_key,unit_conv = species_dict[key]['code'],species_dict[key]['label'],species_dict[key]['column_key'],species_dict[key]['unit_conv']\n",
    "\n",
    "        # Combine the aircraft and model data.\n",
    "    df = pre.combine_data(setup,code)\n",
    "\n",
    "        # Resample the data.\n",
    "    resample_df = pre.resample_data(df,optns['resample_time'],optns['avg_method'],optns['min_method'],optns['max_method'])\n",
    "    wind_df = pre.resample_wind_data(df,optns['resample_time']) #not used?\n",
    "\n",
    "    plot_maps(resample_df,wind_df,setup[5],key,label)\n"
   ]
  },
  {
   "cell_type": "code",
   "execution_count": null,
   "id": "controlled-sunrise",
   "metadata": {},
   "outputs": [],
   "source": []
  }
 ],
 "metadata": {
  "kernelspec": {
   "display_name": "Python 3 (ipykernel)",
   "language": "python",
   "name": "python3"
  },
  "language_info": {
   "codemirror_mode": {
    "name": "ipython",
    "version": 3
   },
   "file_extension": ".py",
   "mimetype": "text/x-python",
   "name": "python",
   "nbconvert_exporter": "python",
   "pygments_lexer": "ipython3",
   "version": "3.7.12"
  }
 },
 "nbformat": 4,
 "nbformat_minor": 5
}
