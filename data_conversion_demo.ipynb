{
 "cells": [
  {
   "cell_type": "markdown",
   "metadata": {},
   "source": [
    "# Data Conversion Demo\n",
    "#### This notebook will demonstrate the new functionality provided by the metadata conversion file `clean_air.util.file_converter.py`.\n",
    "\n",
    "## Setup"
   ]
  },
  {
   "cell_type": "code",
   "execution_count": null,
   "metadata": {},
   "outputs": [],
   "source": [
    "import os\n",
    "import openpyxl\n",
    "\n",
    "from clean_air.util import file_converter as fc"
   ]
  },
  {
   "cell_type": "markdown",
   "metadata": {},
   "source": [
    "#### You will also need to set up cap-sample-data, as this is currently not in an importable format.  "
   ]
  },
  {
   "cell_type": "code",
   "execution_count": null,
   "metadata": {},
   "outputs": [],
   "source": [
    "SAMPLEDIR = \"/data/cap-sample-data\""
   ]
  },
  {
   "cell_type": "markdown",
   "metadata": {},
   "source": [
    "## Functions\n",
    "#### This file has several methods defined within it, but the following three are intended to be accessed from the front end and as such will be demonstrated here.\n",
    "\n",
    "## 1. convert_excel(filepath, output_location)\n",
    "#### This function is for the ingestion of excel metadata files (drawn from the forms provided by Elle) and conversion of the necessary data into the required output format, which must be specified in the filename parameter.  Here are some examples of how to use it:"
   ]
  },
  {
   "cell_type": "code",
   "execution_count": null,
   "metadata": {},
   "outputs": [],
   "source": [
    "input_data = os.path.join(SAMPLEDIR, \"test_data\", \"metadata_form_responses.xlsx\")\n",
    "save_location = os.path.join(\"assets\", \"tmp_output_files\")\n",
    "\n",
    "# 1.a) Converting to json (make sure you specify filetype in the filename)\n",
    "save_json = os.path.join(save_location, \"metadata.json\")\n",
    "fc.convert_excel(filepath=input_data, output_location=save_json)\n",
    "\n",
    "# 1.b) Converting to yaml (again, specifying filetype as either `.yml` or `.yaml`)\n",
    "save_yaml = os.path.join(save_location, \"metadata.yaml\")\n",
    "fc.convert_excel(filepath=input_data, output_location=save_yaml)"
   ]
  },
  {
   "cell_type": "markdown",
   "metadata": {},
   "source": [
    "#### You can view the output files by navigating through the notebook home page (one level up) into`assets` and then into `tmp_output_files`.  Notice the different output formats in the two files.  I think they are rather lovely.\n",
    "\n",
    "## 2. convert_netcdf(filepath, output_location)\n",
    "#### This is designed to ingest aircraft data in netCDF format into CSV files.  There is no variation in filetype here, it only accepts netCDF as input and only provides CSV as output."
   ]
  },
  {
   "cell_type": "code",
   "execution_count": null,
   "metadata": {},
   "outputs": [],
   "source": [
    "input_data = os.path.join(SAMPLEDIR, \"aircraft\", \"MOCCA_M251_20190903.nc\")\n",
    "save_csv = os.path.join(\"assets\", \"tmp_output_files\", \"MOCCA.csv\")\n",
    "\n",
    "fc.convert_netcdf(filepath=input_data, output_location=save_csv)"
   ]
  },
  {
   "cell_type": "markdown",
   "metadata": {},
   "source": [
    "#### Once again, you can view the output files in `assets`/`tmp_output_files`.  The output format is difficult for a human to read, but easy for a machine.\n",
    "\n",
    "## 3. generate_dataframe(filepath)\n",
    "#### This is just in case we ever need a simple dataframe as opposed to a saved file.  It works for both excel and netCDF input files, and converts directly to a pandas dataframe, without removing or rearranging any data."
   ]
  },
  {
   "cell_type": "code",
   "execution_count": null,
   "metadata": {},
   "outputs": [],
   "source": [
    "# 3.a) Getting a dataframe from an excel file\n",
    "input_data = os.path.join(SAMPLEDIR, \"test_data\", \"metadata_form_responses.xlsx\")\n",
    "excel_df = fc.generate_dataframe(filepath=input_data)\n",
    "\n",
    "excel_df"
   ]
  },
  {
   "cell_type": "code",
   "execution_count": null,
   "metadata": {},
   "outputs": [],
   "source": [
    "# 3.b) Getting a dataframe from a netcdf file\n",
    "input_data = os.path.join(SAMPLEDIR, \"aircraft\", \"MOCCA_M251_20190903.nc\")\n",
    "netcdf_df = fc.generate_dataframe(filepath=input_data)\n",
    "\n",
    "netcdf_df"
   ]
  }
 ],
 "metadata": {
  "kernelspec": {
   "display_name": "geo_env",
   "language": "python",
   "name": "geo_env"
  },
  "language_info": {
   "codemirror_mode": {
    "name": "ipython",
    "version": 3
   },
   "file_extension": ".py",
   "mimetype": "text/x-python",
   "name": "python",
   "nbconvert_exporter": "python",
   "pygments_lexer": "ipython3",
   "version": "3.8.8"
  }
 },
 "nbformat": 4,
 "nbformat_minor": 4
}
