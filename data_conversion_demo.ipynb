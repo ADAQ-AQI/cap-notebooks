{
 "cells": [
  {
   "cell_type": "markdown",
   "metadata": {},
   "source": [
    "# Data Conversion Demo\n",
    "#### This notebook will demonstrate the new functionality provided by the metadata conversion file `clean_air.util.file_converter.py`.\n",
    "\n",
    "## Setup"
   ]
  },
  {
   "cell_type": "code",
   "execution_count": null,
   "metadata": {},
   "outputs": [],
   "source": [
    "import os\n",
    "import openpyxl\n",
    "\n",
    "import cap_sample_data\n",
    "from clean_air.util import file_converter as fc"
   ]
  },
  {
   "cell_type": "markdown",
   "metadata": {},
   "source": [
    "#### You will also need to set up cap-sample-data, as this is currently not in an importable format.  "
   ]
  },
  {
   "cell_type": "code",
   "execution_count": null,
   "metadata": {},
   "outputs": [],
   "source": [
    "SAMPLEDIR = cap_sample_data.path"
   ]
  },
  {
   "cell_type": "markdown",
   "metadata": {},
   "source": [
    "## Functions\n",
    "#### This file has several methods defined within it, but the following three are intended to be accessed from the front end and as such will be demonstrated here.\n",
    "\n",
    "## 1. convert_excel(filepath, output_location)\n",
    "#### This function is for the ingestion of excel metadata files (drawn from the forms provided by Elle) and conversion of the necessary data into the required output format, which must be specified in the filename parameter.  Here are some examples of how to use it:"
   ]
  },
  {
   "cell_type": "code",
   "execution_count": null,
   "metadata": {},
   "outputs": [],
   "source": [
    "# 1) Setting up object with input and output paths\n",
    "input_data = os.path.join(SAMPLEDIR, \"test_data\", \"metadata_form_responses.xlsx\")\n",
    "save_location = os.path.join(\"assets\", \"tmp_output_files\")\n",
    "conversion_file = fc.MetadataForm(input_data, save_location)\n",
    "\n",
    "# 2.a) Converting to json (make sure you specify filetype in the filename)\n",
    "conversion_file.convert_excel('json')\n",
    "\n",
    "# 2.b) Converting to yaml (again, specifying filetype as either `.yml` or `.yaml`)\n",
    "conversion_file.convert_excel('yaml')"
   ]
  },
  {
   "cell_type": "markdown",
   "metadata": {},
   "source": [
    "#### You can view the output files by navigating through the notebook home page (one level up) into `assets` and then into `tmp_output_files`.  Notice the different output formats in the two files.  I think they are rather lovely.\n",
    "\n",
    "## 2. convert_netcdf(filepath, output_location)\n",
    "#### This is designed to ingest aircraft data in netCDF format into CSV files.  There is no variation in filetype here, it only accepts netCDF as input and only provides CSV as output."
   ]
  },
  {
   "cell_type": "code",
   "execution_count": null,
   "metadata": {},
   "outputs": [],
   "source": [
    "# 1) Set up your datafile object\n",
    "input_data = os.path.join(SAMPLEDIR, \"aircraft\", \"MOCCA_M251_20190903.nc\")\n",
    "save_csv = os.path.join(\"assets\", \"tmp_output_files\", \"MOCCA.csv\")\n",
    "conversion_file = fc.DataFile(input_data, save_csv)\n",
    "\n",
    "# 2) Call the converter\n",
    "conversion_file.convert_netcdf()"
   ]
  },
  {
   "cell_type": "markdown",
   "metadata": {},
   "source": [
    "#### Once again, you can view the output files in `assets`/`tmp_output_files`.  The output format is difficult for a human to read, but easy for a machine.\n",
    "\n",
    "## 3. generate_dataframe(filepath)\n",
    "#### This is just in case we ever need a simple dataframe as opposed to a saved file.  It works for both excel and netCDF input files, and converts directly to a pandas dataframe, without removing or rearranging any data."
   ]
  },
  {
   "cell_type": "code",
   "execution_count": null,
   "metadata": {},
   "outputs": [],
   "source": [
    "# 3.a) Getting a dataframe from an excel file\n",
    "input_data = os.path.join(SAMPLEDIR, \"test_data\", \"metadata_form_responses.xlsx\")\n",
    "excel_df = fc.generate_dataframe(filepath=input_data)\n",
    "\n",
    "excel_df"
   ]
  },
  {
   "cell_type": "code",
   "execution_count": null,
   "metadata": {},
   "outputs": [],
   "source": [
    "# 3.b) Getting a dataframe from a netcdf file\n",
    "input_data = os.path.join(SAMPLEDIR, \"aircraft\", \"MOCCA_M251_20190903.nc\")\n",
    "netcdf_df = fc.generate_dataframe(filepath=input_data)\n",
    "\n",
    "netcdf_df"
   ]
  }
 ],
 "metadata": {
  "kernelspec": {
   "display_name": "Python 3.8.12 ('cap_env')",
   "language": "python",
   "name": "python3"
  },
  "language_info": {
   "codemirror_mode": {
    "name": "ipython",
    "version": 3
   },
   "file_extension": ".py",
   "mimetype": "text/x-python",
   "name": "python",
   "nbconvert_exporter": "python",
   "pygments_lexer": "ipython3",
   "version": "3.8.12"
  },
  "vscode": {
   "interpreter": {
    "hash": "fb2698964798af12b425d4961a7fbbcbec2193d91461de82199fff1eba1ff631"
   }
  }
 },
 "nbformat": 4,
 "nbformat_minor": 4
}
