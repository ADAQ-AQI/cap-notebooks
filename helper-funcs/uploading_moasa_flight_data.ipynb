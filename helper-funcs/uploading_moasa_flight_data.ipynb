{
 "cells": [
  {
   "cell_type": "markdown",
   "source": [
    "# Uploading MOASA Flight Data\n",
    "This notebook illustrates the steps involved in uploading the Met Office Atmospheric Survey Aircraft flight data to the Clean Air data store.\n",
    "\n",
    "\n",
    "It is written to run on an internal Met Office system and access data in a particular folder location with a specific structure. As a result, the code to locate the data is not generalised and not expected to be reusable. However, the steps where the metadata is extracted and data uploaded is likely to be helpful to those who are looking to do similar with their own data.\n"
   ],
   "metadata": {
    "collapsed": false
   }
  },
  {
   "cell_type": "markdown",
   "source": [
    "## Config"
   ],
   "metadata": {
    "collapsed": false
   }
  },
  {
   "cell_type": "code",
   "execution_count": 1,
   "outputs": [],
   "source": [
    "AIRCRAFT_DATA_LOCATION = '/project/obr/CleanAir'\n",
    "OBJECT_STORE_BUCKET = 'caf-data'  # Use this for uploading to the live data storage location\n",
    "# OBJECT_STORE_BUCKET = 'caf-test'  # Use this for testing"
   ],
   "metadata": {
    "collapsed": false
   }
  },
  {
   "cell_type": "markdown",
   "source": [
    "## Imports & Helper Functions"
   ],
   "metadata": {
    "collapsed": false
   }
  },
  {
   "cell_type": "code",
   "execution_count": 2,
   "outputs": [],
   "source": [
    "from pathlib import Path\n",
    "from typing import Dict, Generator, Tuple\n",
    "\n",
    "\n",
    "def find_aircraft_data() -> Generator[Tuple[str, Path], None, None]:\n",
    "    \"\"\"\n",
    "    Yields the directories containing netcdf files we're interested in.\n",
    "    Uses a generator, so we can process results more efficiently, not having to traverse all the folders before getting any results.\n",
    "\n",
    "    Assumes data is organised in this directory structure: /project/obr/CleanAir/{dataset_name}/processed/\n",
    "\n",
    "    Specifically is looking for netcdf files in a directory called 'processed' and filters out files with 'old' or 'OLD' in the path\n",
    "    or files within directories named 'raw'.\n",
    "    \"\"\"\n",
    "    data_file_path = Path(AIRCRAFT_DATA_LOCATION)\n",
    "    for ds_path in data_file_path.glob('**/processed/*.nc'):\n",
    "        path_str = str(ds_path)\n",
    "        if any(bad_str in path_str for bad_str in {'old', 'OLD', '/raw/', '_pbp_'}):\n",
    "            continue\n",
    "\n",
    "        yield ds_path\n",
    "\n",
    "\n",
    "def get_dataset_name(ds_path: Path) -> str:\n",
    "    \"\"\"\n",
    "    Gets the name to use for the dataset, based on the path.\n",
    "    Assumes data is organised in this directory structure: /project/obr/CleanAir/{dataset_name}/processed/\n",
    "    \"\"\"\n",
    "    return ds_path.parts[4] if ds_path.is_absolute() else str(ds_path.parent.stem)\n"
   ],
   "metadata": {
    "collapsed": false
   }
  },
  {
   "cell_type": "markdown",
   "source": [
    "## Find & Load the Data"
   ],
   "metadata": {
    "collapsed": false
   }
  },
  {
   "cell_type": "code",
   "execution_count": 3,
   "outputs": [
    {
     "name": "stdout",
     "output_type": "stream",
     "text": [
      "Failed to load /project/obr/CleanAir/M285/processed/clean_air_moasa_data_20210330_M285_v0.nc due to AttributeError(\"type object 'str' has no attribute 'str'\")\n",
      "Failed to load /project/obr/CleanAir/M286/processed/clean_air_moasa_data_20210331_M286_v0.nc due to AttributeError(\"type object 'str' has no attribute 'str'\")\n",
      "Failed to load /project/obr/CleanAir/M272/processed/clean_air_moasa_data_20201007_M272_v0.nc due to AttributeError(\"type object 'str' has no attribute 'str'\")\n",
      "Failed to load /project/obr/CleanAir/M280/processed/clean_air_moasa_data_20210309_M280_v0.nc due to AttributeError(\"type object 'str' has no attribute 'str'\")\n",
      "Failed to load /project/obr/CleanAir/M281/processed/clean_air_moasa_data_20210317_M281_v0.nc due to AttributeError(\"type object 'str' has no attribute 'str'\")\n",
      "Failed to load /project/obr/CleanAir/M254 - test flight/processed/clean_air_moasa_data_20191015_M254_v0.nc due to AttributeError(\"type object 'str' has no attribute 'str'\")\n",
      "Failed to load /project/obr/CleanAir/M267/processed/clean_air_moasa_data_20200316_M267_v0.nc due to AttributeError(\"type object 'str' has no attribute 'str'\")\n",
      "Failed to load /project/obr/CleanAir/M260 - training flight/processed/clean_air_moasa_data_20191120_M260_v0.nc due to AttributeError(\"type object 'str' has no attribute 'str'\")\n",
      "Failed to load /project/obr/CleanAir/M269/processed/clean_air_moasa_data_20200910_M269_v0.nc due to AttributeError(\"type object 'str' has no attribute 'str'\")\n",
      "Failed to load /project/obr/CleanAir/M263/processed/clean_air_moasa_data_20200115_M263_v0.nc due to AttributeError(\"type object 'str' has no attribute 'str'\")\n",
      "Failed to load /project/obr/CleanAir/M274/processed/clean_air_moasa_data_20201106_M274_v0.nc due to AttributeError(\"type object 'str' has no attribute 'str'\")\n",
      "Failed to load /project/obr/CleanAir/M259 - test flight/processed/clean_air_moasa_data_20191113_M259_v0.nc due to AttributeError(\"type object 'str' has no attribute 'str'\")\n",
      "Failed to load /project/obr/CleanAir/M284/processed/clean_air_moasa_data_20210324_M284_v0.nc due to AttributeError(\"type object 'str' has no attribute 'str'\")\n",
      "Failed to load /project/obr/CleanAir/M270/processed/clean_air_moasa_data_20200915_M270_v0.nc due to AttributeError(\"type object 'str' has no attribute 'str'\")\n",
      "Loaded 43/57 datasets\n"
     ]
    }
   ],
   "source": [
    "import warnings\n",
    "import iris\n",
    "\n",
    "cubes: Dict[str, iris.cube.Cube] = {}\n",
    "paths: Dict[str, Path] = {}\n",
    "loading_errors: Dict[str, Exception] = {}\n",
    "\n",
    "for path in find_aircraft_data():\n",
    "\n",
    "    ds_name = get_dataset_name(path)\n",
    "    try:\n",
    "        # Temporarily hide iris warnings from the output, as they get in the way\n",
    "        with warnings.catch_warnings():\n",
    "            warnings.simplefilter(\"ignore\", UserWarning)\n",
    "            cubes[ds_name] = iris.load(str(path))\n",
    "            paths[ds_name] = path  # Only store this if iris loaded the data successfully\n",
    "\n",
    "    except Exception as e:\n",
    "        loading_errors[path] = e\n",
    "        print(f\"Failed to load {path} due to {repr(e)}\")\n",
    "print(f\"Loaded {len(cubes)}/{len(cubes) + len(loading_errors)} datasets\")\n"
   ],
   "metadata": {
    "collapsed": false
   }
  },
  {
   "cell_type": "markdown",
   "source": [
    "## Extract Metadata"
   ],
   "metadata": {
    "collapsed": false
   }
  },
  {
   "cell_type": "code",
   "execution_count": 4,
   "outputs": [
    {
     "name": "stderr",
     "output_type": "stream",
     "text": [
      "/tmp/persistent/conda/envs/cap-notebooks/lib/python3.8/site-packages/shapely/geometry/polygon.py:509: UserWarning: Warning: converting a masked element to nan.\n",
      "  ret = geos_linearring_from_py(shell)\n",
      "IllegalArgumentException: Points of LinearRing do not form a closed linestring\n"
     ]
    },
    {
     "name": "stdout",
     "output_type": "stream",
     "text": [
      "Failed to extract metadata for M319 due to TypeError(\"Expect polygon, received <class 'tuple'>\")\n",
      "Failed to extract metadata for M247 due to ValueError('GEOSGeom_createLinearRing_r returned a NULL pointer')\n"
     ]
    },
    {
     "name": "stderr",
     "output_type": "stream",
     "text": [
      "IllegalArgumentException: Points of LinearRing do not form a closed linestring\n"
     ]
    },
    {
     "name": "stdout",
     "output_type": "stream",
     "text": [
      "Failed to extract metadata for M294 due to TypeError(\"Expect polygon, received <class 'tuple'>\")\n",
      "Failed to extract metadata for M313 due to ValueError('GEOSGeom_createLinearRing_r returned a NULL pointer')\n",
      "Failed to extract metadata for M295 due to TypeError(\"Expect polygon, received <class 'tuple'>\")\n",
      "Failed to extract metadata for M314 due to TypeError(\"Expect polygon, received <class 'tuple'>\")\n"
     ]
    },
    {
     "name": "stderr",
     "output_type": "stream",
     "text": [
      "IllegalArgumentException: Points of LinearRing do not form a closed linestring\n"
     ]
    },
    {
     "name": "stdout",
     "output_type": "stream",
     "text": [
      "Failed to extract metadata for M300 due to ValueError('GEOSGeom_createLinearRing_r returned a NULL pointer')\n",
      "Failed to extract metadata for M296 due to TypeError(\"Expect polygon, received <class 'tuple'>\")\n",
      "Failed to extract metadata for M256 due to TypeError(\"Expect polygon, received <class 'tuple'>\")\n",
      "Failed to extract metadata for M315 due to TypeError(\"Expect polygon, received <class 'tuple'>\")\n",
      "Failed to extract metadata for M282 due to TypeError(\"Expect polygon, received <class 'tuple'>\")\n",
      "Failed to extract metadata for M297 due to TypeError(\"Expect polygon, received <class 'tuple'>\")\n",
      "Failed to extract metadata for M257 due to TypeError(\"Expect polygon, received <class 'tuple'>\")\n",
      "Failed to extract metadata for M316 due to TypeError(\"Expect polygon, received <class 'tuple'>\")\n"
     ]
    },
    {
     "name": "stderr",
     "output_type": "stream",
     "text": [
      "IllegalArgumentException: Points of LinearRing do not form a closed linestring\n"
     ]
    },
    {
     "name": "stdout",
     "output_type": "stream",
     "text": [
      "Failed to extract metadata for M323 due to TypeError(\"Expect polygon, received <class 'tuple'>\")\n",
      "Failed to extract metadata for M258 due to ValueError('GEOSGeom_createLinearRing_r returned a NULL pointer')\n",
      "Failed to extract metadata for M324 due to TypeError(\"Expect polygon, received <class 'tuple'>\")\n"
     ]
    },
    {
     "name": "stderr",
     "output_type": "stream",
     "text": [
      "IllegalArgumentException: Points of LinearRing do not form a closed linestring\n"
     ]
    },
    {
     "name": "stdout",
     "output_type": "stream",
     "text": [
      "Failed to extract metadata for M266 due to ValueError('GEOSGeom_createLinearRing_r returned a NULL pointer')\n",
      "Failed to extract metadata for M325 due to TypeError(\"Expect polygon, received <class 'tuple'>\")\n",
      "Failed to extract metadata for M292 due to TypeError(\"Expect polygon, received <class 'tuple'>\")\n",
      "Failed to extract metadata for M252 due to TypeError(\"Expect polygon, received <class 'tuple'>\")\n",
      "Failed to extract metadata for M311 due to TypeError(\"Expect polygon, received <class 'tuple'>\")\n",
      "Failed to extract metadata for M326 due to TypeError(\"Expect polygon, received <class 'tuple'>\")\n",
      "Failed to extract metadata for M293 due to TypeError(\"Expect polygon, received <class 'tuple'>\")\n",
      "Failed to extract metadata for M253 due to TypeError(\"Expect polygon, received <class 'tuple'>\")\n"
     ]
    },
    {
     "name": "stderr",
     "output_type": "stream",
     "text": [
      "IllegalArgumentException: Points of LinearRing do not form a closed linestring\n"
     ]
    },
    {
     "name": "stdout",
     "output_type": "stream",
     "text": [
      "Failed to extract metadata for M312 due to ValueError('GEOSGeom_createLinearRing_r returned a NULL pointer')\n"
     ]
    },
    {
     "name": "stderr",
     "output_type": "stream",
     "text": [
      "IllegalArgumentException: Points of LinearRing do not form a closed linestring\n"
     ]
    },
    {
     "name": "stdout",
     "output_type": "stream",
     "text": [
      "Failed to extract metadata for M320 due to ValueError('GEOSGeom_createLinearRing_r returned a NULL pointer')\n",
      "Failed to extract metadata for M262 due to TypeError(\"Expect polygon, received <class 'tuple'>\")\n",
      "Failed to extract metadata for M277 due to TypeError(\"Expect polygon, received <class 'tuple'>\")\n",
      "Failed to extract metadata for M322 due to TypeError(\"Expect polygon, received <class 'tuple'>\")\n"
     ]
    },
    {
     "name": "stderr",
     "output_type": "stream",
     "text": [
      "IllegalArgumentException: Points of LinearRing do not form a closed linestring\n"
     ]
    },
    {
     "name": "stdout",
     "output_type": "stream",
     "text": [
      "Failed to extract metadata for M278 due to ValueError('GEOSGeom_createLinearRing_r returned a NULL pointer')\n"
     ]
    },
    {
     "name": "stderr",
     "output_type": "stream",
     "text": [
      "IllegalArgumentException: Points of LinearRing do not form a closed linestring\n"
     ]
    },
    {
     "name": "stdout",
     "output_type": "stream",
     "text": [
      "Failed to extract metadata for M264 due to ValueError('GEOSGeom_createLinearRing_r returned a NULL pointer')\n",
      "Failed to extract metadata for M279 due to TypeError(\"Expect polygon, received <class 'tuple'>\")\n"
     ]
    },
    {
     "name": "stderr",
     "output_type": "stream",
     "text": [
      "IllegalArgumentException: Points of LinearRing do not form a closed linestring\n"
     ]
    },
    {
     "name": "stdout",
     "output_type": "stream",
     "text": [
      "Failed to extract metadata for M265 due to ValueError('GEOSGeom_createLinearRing_r returned a NULL pointer')\n",
      "Failed to extract metadata for M251 due to TypeError(\"Expect polygon, received <class 'tuple'>\")\n",
      "Failed to extract metadata for M273 due to TypeError(\"Expect polygon, received <class 'tuple'>\")\n"
     ]
    },
    {
     "name": "stderr",
     "output_type": "stream",
     "text": [
      "IllegalArgumentException: Points of LinearRing do not form a closed linestring\n"
     ]
    },
    {
     "name": "stdout",
     "output_type": "stream",
     "text": [
      "Failed to extract metadata for M275 due to ValueError('GEOSGeom_createLinearRing_r returned a NULL pointer')\n",
      "Failed to extract metadata for M276 due to TypeError(\"Expect polygon, received <class 'tuple'>\")\n",
      "Failed to extract metadata for M283 due to TypeError(\"Expect polygon, received <class 'tuple'>\")\n",
      "Failed to extract metadata for M302 due to TypeError(\"Expect polygon, received <class 'tuple'>\")\n",
      "Failed to extract metadata for M298 due to TypeError(\"Expect polygon, received <class 'tuple'>\")\n",
      "Failed to extract metadata for M317 due to TypeError(\"Expect polygon, received <class 'tuple'>\")\n",
      "Failed to extract metadata for M299 due to TypeError(\"Expect polygon, received <class 'tuple'>\")\n",
      "Converted 0/43\n"
     ]
    }
   ],
   "source": [
    "from clean_air.models import Metadata\n",
    "from clean_air.data.extract_metadata import extract_metadata\n",
    "\n",
    "metadata_dict: Dict[str, Metadata] = {}\n",
    "extraction_errors: Dict[str, Exception] = {}\n",
    "for ds_name, cube in cubes.items():\n",
    "    try:\n",
    "        metadata_dict[ds_name] = extract_metadata(cube, ds_name, ['clean_air:type=aircraft'], [], [])\n",
    "    except Exception as e:\n",
    "        extraction_errors[ds_name] = e\n",
    "        print(f\"Failed to extract metadata for {ds_name} due to {repr(e)}\")\n",
    "\n",
    "print(f\"Converted {len(metadata_dict)}/{len(cubes)}\")"
   ],
   "metadata": {
    "collapsed": false
   }
  },
  {
   "cell_type": "markdown",
   "source": [
    "## Create DataSets"
   ],
   "metadata": {
    "collapsed": false
   }
  },
  {
   "cell_type": "code",
   "execution_count": 40,
   "outputs": [],
   "source": [
    "from clean_air.models import DataSet\n",
    "\n",
    "datasets: Dict[str, DataSet] = {}\n",
    "\n",
    "for ds_name, metadata in metadata_dict.items():\n",
    "    ds_file = paths[ds_name]\n",
    "    ds = DataSet([ds_file], metadata)\n",
    "    datasets[ds_name] = ds\n",
    "    print(f\"Created {ds}\")\n",
    "\n"
   ],
   "metadata": {
    "collapsed": false
   }
  },
  {
   "cell_type": "markdown",
   "source": [
    "## Upload DataSets"
   ],
   "metadata": {
    "collapsed": false
   }
  },
  {
   "cell_type": "code",
   "execution_count": 42,
   "outputs": [
    {
     "name": "stdout",
     "output_type": "stream",
     "text": [
      "\n",
      "Uploaded 0 datasets to caf-data\n"
     ]
    }
   ],
   "source": [
    "from clean_air.data.storage import create_dataset_store\n",
    "\n",
    "dataset_store = create_dataset_store(OBJECT_STORE_BUCKET, anon=False)\n",
    "\n",
    "for ds_name, ds in datasets.items():\n",
    "    print(f\"Uploading {ds}...\", end=\"\")\n",
    "    dataset_store.put(ds)\n",
    "    print(\"... Successful\")\n",
    "\n",
    "print(\"\")\n",
    "print(f\"Uploaded {len(datasets)} datasets to {OBJECT_STORE_BUCKET}\")"
   ],
   "metadata": {
    "collapsed": false
   }
  }
 ],
 "metadata": {
  "kernelspec": {
   "display_name": "Python 3",
   "language": "python",
   "name": "python3"
  },
  "language_info": {
   "codemirror_mode": {
    "name": "ipython",
    "version": 2
   },
   "file_extension": ".py",
   "mimetype": "text/x-python",
   "name": "python",
   "nbconvert_exporter": "python",
   "pygments_lexer": "ipython2",
   "version": "2.7.6"
  }
 },
 "nbformat": 4,
 "nbformat_minor": 0
}
