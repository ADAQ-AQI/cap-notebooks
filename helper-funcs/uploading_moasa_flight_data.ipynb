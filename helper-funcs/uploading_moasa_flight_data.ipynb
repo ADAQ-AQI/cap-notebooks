{
 "cells": [
  {
   "cell_type": "markdown",
   "source": [
    "# Uploading MOASA Flight Data\n",
    "This notebook illustrates the steps involved in uploading the Met Office Atmospheric Survey Aircraft flight data to the Clean Air data store.\n",
    "\n",
    "\n",
    "It is written to run on an internal Met Office system and access data in a particular folder location with a specific structure. As a result, the code to locate the data is not generalised and not expected to be reusable. However, the steps where the metadata is extracted and data uploaded is likely to be helpful to those who are looking to do similar with their own data.\n",
    "\n",
    "## Config"
   ],
   "metadata": {
    "collapsed": false
   }
  },
  {
   "cell_type": "code",
   "execution_count": 22,
   "outputs": [],
   "source": [
    "import io\n",
    "\n",
    "AIRCRAFT_DATA_LOCATION = '/project/obr/CleanAir'"
   ],
   "metadata": {
    "collapsed": false
   }
  },
  {
   "cell_type": "markdown",
   "source": [
    "## Imports & Helper Functions"
   ],
   "metadata": {
    "collapsed": false
   }
  },
  {
   "cell_type": "code",
   "execution_count": 23,
   "outputs": [],
   "source": [
    "import warnings\n",
    "from pathlib import Path\n",
    "from typing import Dict, Generator, Tuple\n",
    "\n",
    "import iris\n",
    "from clean_air.data.extract_metadata import extract_metadata\n",
    "\n",
    "\n",
    "def find_aircraft_data() -> Generator[Tuple[str, Path], None, None]:\n",
    "    \"\"\"\n",
    "    Yields the directories containing netcdf files we're interested in.\n",
    "    Uses a generator, so we can process results more efficiently, not having to traverse all the folders before getting any results.\n",
    "\n",
    "    Assumes data is organised in this directory structure: /project/obr/CleanAir/{dataset_name}/processed/\n",
    "\n",
    "    Specifically is looking for netcdf files in a directory called 'processed' and filters out files with 'old' or 'OLD' in the path\n",
    "    or files within directories named 'raw'.\n",
    "    \"\"\"\n",
    "    data_file_path = Path(AIRCRAFT_DATA_LOCATION)\n",
    "    for ds_path in data_file_path.glob('**/processed/*.nc'):\n",
    "        path_str = str(ds_path)\n",
    "        if any(bad_str in path_str for bad_str in {'old', 'OLD', '/raw/', '_pbp_'}):\n",
    "            continue\n",
    "\n",
    "        yield ds_path\n",
    "\n",
    "\n",
    "def get_dataset_name(ds_path: Path) -> str:\n",
    "    \"\"\"\n",
    "    Gets the name to use for the dataset, based on the path.\n",
    "    Assumes data is organised in this directory structure: /project/obr/CleanAir/{dataset_name}/processed/\n",
    "    \"\"\"\n",
    "    return ds_path.parts[4] if ds_path.is_absolute() else str(ds_path.parent.stem)\n"
   ],
   "metadata": {
    "collapsed": false
   }
  },
  {
   "cell_type": "markdown",
   "source": [
    "## Find & Load the Data"
   ],
   "metadata": {
    "collapsed": false
   }
  },
  {
   "cell_type": "code",
   "execution_count": 27,
   "outputs": [],
   "source": [
    "cubes = {}\n",
    "loading_errors: Dict[str, Exception] = {}\n",
    "\n",
    "\n",
    "import traceback, sys\n",
    "from contextlib import redirect_stderr, redirect_stdout\n",
    "\n",
    "print_stream = sys.stdout\n",
    "if True:\n",
    "    import os\n",
    "    print_stream  = open(f'{os.getcwd()}/logfile.txt', 'w')\n",
    "\n",
    "with redirect_stdout(print_stream), redirect_stderr(print_stream):\n",
    "    for path in find_aircraft_data():\n",
    "\n",
    "        ds_name = get_dataset_name(path)\n",
    "        try:\n",
    "            # Temporarily hide iris warnings from the output, as they get in the way\n",
    "            with warnings.catch_warnings():\n",
    "                # warnings.simplefilter(\"ignore\", UserWarning)\n",
    "                print(f\"Loading {path}\")\n",
    "                cubes[ds_name] = iris.load(str(path))\n",
    "                print(f\"Loaded {path}\")\n",
    "\n",
    "        except Exception as e:\n",
    "            loading_errors[path] = e\n",
    "            print(traceback.format_exc())\n",
    "            print(f\"Failed to load {path} due to {repr(e)}\")\n",
    "        print(\"---\")\n",
    "    print(f\"Loaded {len(cubes)}/{len(cubes) + len(loading_errors)} datasets\")\n",
    "\n",
    "if isinstance(print_stream, io.IOBase):\n",
    "    print_stream.close()"
   ],
   "metadata": {
    "collapsed": false
   }
  },
  {
   "cell_type": "markdown",
   "source": [
    "## Extract Metadata"
   ],
   "metadata": {
    "collapsed": false
   }
  },
  {
   "cell_type": "code",
   "execution_count": 26,
   "outputs": [
    {
     "name": "stdout",
     "output_type": "stream",
     "text": [
      "Failed to convert M319 due to ValueError('The cube must contain x and y axes.')\n"
     ]
    },
    {
     "name": "stderr",
     "output_type": "stream",
     "text": [
      "/tmp/persistent/conda/envs/cap-notebooks/lib/python3.8/site-packages/shapely/geometry/polygon.py:509: UserWarning: Warning: converting a masked element to nan.\n",
      "  ret = geos_linearring_from_py(shell)\n",
      "IllegalArgumentException: Points of LinearRing do not form a closed linestring\n"
     ]
    },
    {
     "name": "stdout",
     "output_type": "stream",
     "text": [
      "Failed to convert M247 due to ValueError('GEOSGeom_createLinearRing_r returned a NULL pointer')\n"
     ]
    },
    {
     "name": "stderr",
     "output_type": "stream",
     "text": [
      "IllegalArgumentException: Points of LinearRing do not form a closed linestring\n"
     ]
    },
    {
     "name": "stdout",
     "output_type": "stream",
     "text": [
      "Failed to convert M294 due to ValueError('The cube must contain x and y axes.')\n",
      "Failed to convert M313 due to ValueError('GEOSGeom_createLinearRing_r returned a NULL pointer')\n",
      "Failed to convert M295 due to ValueError('The cube must contain x and y axes.')\n",
      "Failed to convert M314 due to ValueError('The cube must contain x and y axes.')\n"
     ]
    },
    {
     "name": "stderr",
     "output_type": "stream",
     "text": [
      "IllegalArgumentException: Points of LinearRing do not form a closed linestring\n"
     ]
    },
    {
     "name": "stdout",
     "output_type": "stream",
     "text": [
      "Failed to convert M300 due to ValueError('GEOSGeom_createLinearRing_r returned a NULL pointer')\n",
      "Failed to convert M296 due to ValueError('The cube must contain x and y axes.')\n",
      "Failed to convert M315 due to ValueError('The cube must contain x and y axes.')\n",
      "Failed to convert M282 due to ValueError('The cube must contain x and y axes.')\n",
      "Failed to convert M297 due to ValueError('The cube must contain x and y axes.')\n",
      "Failed to convert M316 due to ValueError('The cube must contain x and y axes.')\n"
     ]
    },
    {
     "name": "stderr",
     "output_type": "stream",
     "text": [
      "IllegalArgumentException: Points of LinearRing do not form a closed linestring\n"
     ]
    },
    {
     "name": "stdout",
     "output_type": "stream",
     "text": [
      "Failed to convert M323 due to ValueError('The cube must contain x and y axes.')\n",
      "Failed to convert M258 due to ValueError('GEOSGeom_createLinearRing_r returned a NULL pointer')\n"
     ]
    },
    {
     "name": "stderr",
     "output_type": "stream",
     "text": [
      "IllegalArgumentException: Points of LinearRing do not form a closed linestring\n"
     ]
    },
    {
     "name": "stdout",
     "output_type": "stream",
     "text": [
      "Failed to convert M324 due to ValueError('The cube must contain x and y axes.')\n",
      "Failed to convert M266 due to ValueError('GEOSGeom_createLinearRing_r returned a NULL pointer')\n",
      "Failed to convert M325 due to ValueError('The cube must contain x and y axes.')\n",
      "Failed to convert M292 due to ValueError('The cube must contain x and y axes.')\n",
      "Failed to convert M252 due to ValueError('The cube must contain x and y axes.')\n",
      "Failed to convert M311 due to ValueError('The cube must contain x and y axes.')\n",
      "Failed to convert M326 due to ValueError('The cube must contain x and y axes.')\n",
      "Failed to convert M293 due to ValueError('The cube must contain x and y axes.')\n"
     ]
    },
    {
     "name": "stderr",
     "output_type": "stream",
     "text": [
      "IllegalArgumentException: Points of LinearRing do not form a closed linestring\n"
     ]
    },
    {
     "name": "stdout",
     "output_type": "stream",
     "text": [
      "Failed to convert M312 due to ValueError('GEOSGeom_createLinearRing_r returned a NULL pointer')\n"
     ]
    },
    {
     "name": "stderr",
     "output_type": "stream",
     "text": [
      "IllegalArgumentException: Points of LinearRing do not form a closed linestring\n"
     ]
    },
    {
     "name": "stdout",
     "output_type": "stream",
     "text": [
      "Failed to convert M320 due to ValueError('GEOSGeom_createLinearRing_r returned a NULL pointer')\n",
      "Failed to convert M277 due to ValueError('The cube must contain x and y axes.')\n",
      "Failed to convert M322 due to ValueError('The cube must contain x and y axes.')\n"
     ]
    },
    {
     "name": "stderr",
     "output_type": "stream",
     "text": [
      "IllegalArgumentException: Points of LinearRing do not form a closed linestring\n",
      "IllegalArgumentException: Points of LinearRing do not form a closed linestring\n"
     ]
    },
    {
     "name": "stdout",
     "output_type": "stream",
     "text": [
      "Failed to convert M278 due to ValueError('GEOSGeom_createLinearRing_r returned a NULL pointer')\n",
      "Failed to convert M264 due to ValueError('GEOSGeom_createLinearRing_r returned a NULL pointer')\n"
     ]
    },
    {
     "name": "stderr",
     "output_type": "stream",
     "text": [
      "IllegalArgumentException: Points of LinearRing do not form a closed linestring\n"
     ]
    },
    {
     "name": "stdout",
     "output_type": "stream",
     "text": [
      "Failed to convert M279 due to ValueError('The cube must contain x and y axes.')\n",
      "Failed to convert M265 due to ValueError('GEOSGeom_createLinearRing_r returned a NULL pointer')\n",
      "Failed to convert M251 due to ValueError('The cube must contain x and y axes.')\n",
      "Failed to convert M273 due to ValueError('The cube must contain x and y axes.')\n"
     ]
    },
    {
     "name": "stderr",
     "output_type": "stream",
     "text": [
      "IllegalArgumentException: Points of LinearRing do not form a closed linestring\n"
     ]
    },
    {
     "name": "stdout",
     "output_type": "stream",
     "text": [
      "Failed to convert M275 due to ValueError('GEOSGeom_createLinearRing_r returned a NULL pointer')\n",
      "Failed to convert M276 due to ValueError('The cube must contain x and y axes.')\n",
      "Failed to convert M302 due to ValueError('The cube must contain x and y axes.')\n",
      "Failed to convert M298 due to ValueError('The cube must contain x and y axes.')\n",
      "Failed to convert M317 due to ValueError('The cube must contain x and y axes.')\n",
      "Failed to convert M299 due to ValueError('The cube must contain x and y axes.')\n",
      "Converted 5/43\n"
     ]
    }
   ],
   "source": [
    "metadata = []\n",
    "extraction_errors: Dict[str, Exception] = {}\n",
    "for ds_name, cube in cubes.items():\n",
    "    try:\n",
    "        metadata.append(extract_metadata(cube, ds_name, ['clean_air:type=aircraft'], [], []))\n",
    "    except Exception as e:\n",
    "        extraction_errors[ds_name] = e\n",
    "        print(f\"Failed to convert {ds_name} due to {repr(e)}\")\n",
    "\n",
    "print(f\"Converted {len(metadata)}/{len(cubes)}\")"
   ],
   "metadata": {
    "collapsed": false
   }
  }
 ],
 "metadata": {
  "kernelspec": {
   "display_name": "Python 3",
   "language": "python",
   "name": "python3"
  },
  "language_info": {
   "codemirror_mode": {
    "name": "ipython",
    "version": 2
   },
   "file_extension": ".py",
   "mimetype": "text/x-python",
   "name": "python",
   "nbconvert_exporter": "python",
   "pygments_lexer": "ipython2",
   "version": "2.7.6"
  }
 },
 "nbformat": 4,
 "nbformat_minor": 0
}
