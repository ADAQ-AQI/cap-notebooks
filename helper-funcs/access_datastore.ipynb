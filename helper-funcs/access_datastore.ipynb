{
 "cells": [
  {
   "cell_type": "markdown",
   "metadata": {},
   "source": [
    "## Accessing Jasmin Datastore"
   ]
  },
  {
   "cell_type": "markdown",
   "metadata": {},
   "source": [
    "This notebook is just a record of my interactions with the clean air datastore, with everything mainly taken from this __[guide notebook](https://github.com/ADAQ-AQI/clean-air-project/blob/master/src/clean_air/data/data_store_access.ipynb)__.\n",
    "\n",
    "To get to this point, I had to first get JASMIN permissions and credentials setup first:\n",
    "1. Have Jasmin login & access to caf-o object store, etc granted.\n",
    "2. __[Create access key and secret credentials](https://help.jasmin.ac.uk/article/4847-using-the-jasmin-object-store)__, i.e. I used:\n",
    "\t1. Accessing object store UI: `ssh -AY tomw@nx-login1.jasmin.ac.uk firefox`\n",
    "\t2. then:  `http://caf-o.s3.jc.rl.ac.uk:81/_admin/portal` (change URL for object store you want to access).\n",
    "3. __[Set up](https://docs.aws.amazon.com/cli/latest/userguide/cli-configure-files.html)__ an  `~/.aws/credentials` file with your credentials (make sure you have them the right way around).\n",
    "4. Now you should be able to upload your data to the bucket (Though this may break in the future, as codebase is still a WiP)."
   ]
  },
  {
   "cell_type": "markdown",
   "metadata": {},
   "source": [
    "## Downloading"
   ]
  },
  {
   "cell_type": "code",
   "execution_count": 1,
   "metadata": {},
   "outputs": [],
   "source": [
    "from clean_air.data.storage import create_dataset_store, create_metadata_store\n",
    "\n",
    "from shapely.geometry import Polygon\n",
    "import tempfile\n",
    "from pathlib import Path\n",
    "from clean_air.models import Metadata, DataSet, Extent, TemporalExtent\n"
   ]
  },
  {
   "cell_type": "markdown",
   "metadata": {},
   "source": [
    "Create instances of (anon) stores."
   ]
  },
  {
   "cell_type": "code",
   "execution_count": 3,
   "metadata": {},
   "outputs": [],
   "source": [
    "metadata_store = create_metadata_store()\n",
    "dataset_store = create_dataset_store()"
   ]
  },
  {
   "cell_type": "markdown",
   "metadata": {},
   "source": [
    "See what's available in the bucket (using the default 'caf-data'), and loop through to download everything."
   ]
  },
  {
   "cell_type": "code",
   "execution_count": 4,
   "metadata": {},
   "outputs": [
    {
     "name": "stdout",
     "output_type": "stream",
     "text": [
      "/var/tmp/tmp1dmp78hp\n",
      "dataset_store.available_datasets = ['m270']\n",
      "DataSet(files=[], metadata=Metadata(title='M270', extent=Extent(spatial=<shapely.geometry.polygon.Polygon object at 0x7f19e0c145e0>, temporal=TemporalExtent(values=[], intervals=[])), crs=<Geographic 2D CRS: EPSG:4326>\n",
      "Name: WGS 84\n",
      "Axis Info [ellipsoidal]:\n",
      "- Lat[north]: Geodetic latitude (degree)\n",
      "- Lon[east]: Geodetic longitude (degree)\n",
      "Area of Use:\n",
      "- name: World\n",
      "- bounds: (-180.0, -90.0, 180.0, 90.0)\n",
      "Datum: World Geodetic System 1984\n",
      "- Ellipsoid: WGS 84\n",
      "- Prime Meridian: Greenwich\n",
      ", description='AQUM output and processed files corresponding to MOASA flight M270, uploaded for', keywords=[], data_type=<DataType.OTHER: 'other'>, contacts=[]))\n",
      "Metadata(title='M270', extent=Extent(spatial=<shapely.geometry.polygon.Polygon object at 0x7f19e0be3bb0>, temporal=TemporalExtent(values=[], intervals=[])), crs=<Geographic 2D CRS: EPSG:4326>\n",
      "Name: WGS 84\n",
      "Axis Info [ellipsoidal]:\n",
      "- Lat[north]: Geodetic latitude (degree)\n",
      "- Lon[east]: Geodetic longitude (degree)\n",
      "Area of Use:\n",
      "- name: World\n",
      "- bounds: (-180.0, -90.0, 180.0, 90.0)\n",
      "Datum: World Geodetic System 1984\n",
      "- Ellipsoid: WGS 84\n",
      "- Prime Meridian: Greenwich\n",
      ", description='AQUM output and processed files corresponding to MOASA flight M270, uploaded for', keywords=[], data_type=<DataType.OTHER: 'other'>, contacts=[])\n"
     ]
    }
   ],
   "source": [
    "print(f\"dataset_store.available_datasets = {dataset_store.available_datasets()}\")\n",
    "\n",
    "available_datasets = dataset_store.available_datasets()\n",
    "\n",
    "for dataset_id in available_datasets:\n",
    "\ttry:\n",
    "\t\tdataset = dataset_store.get(dataset_id)\n",
    "\t\tprint(str(dataset))\n",
    "\n",
    "\t\tmetadata = metadata_store.get(dataset_id)\n",
    "\t\tprint(str(metadata))\n",
    "\texcept:\n",
    "\t\tprint('error')"
   ]
  },
  {
   "cell_type": "markdown",
   "metadata": {},
   "source": [
    "## Uploading"
   ]
  },
  {
   "cell_type": "markdown",
   "metadata": {},
   "source": [
    "Create a new datastore instance, this time with write access - your `~/.aws/credentials` file (or equivalent) will need to be setup first."
   ]
  },
  {
   "cell_type": "code",
   "execution_count": null,
   "metadata": {},
   "outputs": [],
   "source": [
    "dataset_store_with_write_access = create_dataset_store(anon=False)"
   ]
  },
  {
   "cell_type": "markdown",
   "metadata": {},
   "source": [
    "Configure path to the files you're uploading."
   ]
  },
  {
   "cell_type": "code",
   "execution_count": null,
   "metadata": {},
   "outputs": [],
   "source": [
    "data_dir_path='/new-flight-plots/Data_Files/Model/M270'"
   ]
  },
  {
   "cell_type": "markdown",
   "metadata": {},
   "source": [
    "Upload your data and metadata."
   ]
  },
  {
   "cell_type": "code",
   "execution_count": null,
   "metadata": {},
   "outputs": [],
   "source": [
    "# Create new dataset\n",
    "with tempfile.TemporaryDirectory() as data_dir_path:\n",
    "    # Create some test data\n",
    "    test_datafile = Path(data_dir_path)\n",
    "    test_datafile.touch()\n",
    "    metadata = Metadata(title=\"M270\", \n",
    "                        extent=Extent(Polygon([[-1, -1], [1, -1], [1, 1], [-1, 1]]), TemporalExtent()))\n",
    "    test_dataset = DataSet(files=[test_datafile], metadata=metadata)\n",
    "\n",
    "    # Upload it\n",
    "    dataset_store_with_write_access.put(test_dataset)\n",
    "\n",
    "metadata_store_with_write_access = create_metadata_store(anon=False)\n",
    "# Update the metadata...\n",
    "metadata.description = \"AQUM output and processed files corresponding to MOASA flight M270, uploaded for testing\"\n",
    "# ...and upload it\n",
    "metadata_store_with_write_access.put(metadata)"
   ]
  }
 ],
 "metadata": {
  "interpreter": {
   "hash": "d224e5b5f3b43ae40c297c7b18bd9de6dae0064fef03b4dfa5e5fa5f7372ca79"
  },
  "kernelspec": {
   "display_name": "Python 3.8.8 ('cap-notebooks')",
   "language": "python",
   "name": "python3"
  },
  "language_info": {
   "codemirror_mode": {
    "name": "ipython",
    "version": 3
   },
   "file_extension": ".py",
   "mimetype": "text/x-python",
   "name": "python",
   "nbconvert_exporter": "python",
   "pygments_lexer": "ipython3",
   "version": "3.8.8"
  },
  "orig_nbformat": 4
 },
 "nbformat": 4,
 "nbformat_minor": 2
}
