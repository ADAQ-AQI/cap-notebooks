{
 "cells": [
  {
   "cell_type": "markdown",
   "metadata": {},
   "source": [
    "# Boundaries Simplification\n",
    "#### The boundary files provided by the ONS can be very large.  Large files can sometimes cause memory errors when attempting to display them. To resolve these issues and  display within the Jupyter notbook enviroment it can help to simplify these files.This notebook will show you various techniques to simplify boundaries for display on a folium map . \n",
    "\n",
    "#### Where the files are very large or a memory error is encountered when running a simple file level plot, then the simplifyByPoly() method should be used. This method can be speeded up by increasing RAM where possible.\n",
    "\n",
    "#### For an investigation into the boundary reduction methods and issues see https://metoffice.atlassian.net/wiki/spaces/AD/pages/3736698907/Reduce+Resolution+for+display+of+ONS+Datasets.\n",
    "\n",
    "\n",
    "\n",
    "## Setup"
   ]
  },
  {
   "cell_type": "markdown",
   "metadata": {},
   "source": [
    "#### Set up some variables defining the location of your input data.\n"
   ]
  },
  {
   "cell_type": "code",
   "execution_count": null,
   "metadata": {},
   "outputs": [],
   "source": [
    "SAMPLEDIR = \"../cap-sample-data\" \n",
    "#SAMPLEDIR = \"../../../../Datafiles/cap-sample-data/cap-sample-data\"\n",
    "\n",
    "\n",
    "boundary_data = os.path.join(SAMPLEDIR, \"shapefiles\",\"NUTS_Level_1_boundries500mgjsn.geojson\")\n",
    "lsoa_data = os.path.join(SAMPLEDIR, \"shapefilesFullZip\",\"Lower_Layer_Super_Output_Areas__December_2001__EW_BGC-shp.zip\")\n",
    "naw_regions_data = os.path.join(SAMPLEDIR, \"shapefilesFullZip\",\"National_Assembly_for_Wales_Electoral_Regions_(December_2018)_Boundaries_WA_BSC.zip\")\n"
   ]
  },
  {
   "cell_type": "markdown",
   "metadata": {},
   "source": [
    "#### Open a zipped shapefile and inspect the contents using Geopandas"
   ]
  },
  {
   "cell_type": "code",
   "execution_count": null,
   "metadata": {},
   "outputs": [],
   "source": [
    "import geopandas\n",
    "import folium\n",
    "\n",
    "counties_gdf = geopandas.read_file(lsoa_data)\n",
    "counties_gdf.head()\n"
   ]
  },
  {
   "cell_type": "markdown",
   "metadata": {},
   "source": [
    "\n",
    "## Boundary reduction working at file level. The next two code blocks are suitable for displaying smaller files."
   ]
  },
  {
   "cell_type": "markdown",
   "metadata": {},
   "source": [
    "#### Reduce boundary file using simplify function in geopandas. This uses shapely's simplify package. 1 unit represents 1 metre. No topology considered."
   ]
  },
  {
   "cell_type": "code",
   "execution_count": null,
   "metadata": {},
   "outputs": [],
   "source": [
    "# Simplify function in geopandas . This uses shapley's simplify package. 1 unit represents 1 metre. No topology comsidered.simple\n",
    "import geopandas\n",
    "import folium\n",
    "simple_map = folium.Map(location=[50.72039, -1.88092], zoom_start=7)\n",
    "\n",
    "#Open a shapefile using geopandas\n",
    "counties_gdf = geopandas.read_file(naw_regions_data)\n",
    "s_gdf = counties_gdf.simplify(500)\n",
    "s_gdf.dtype\n",
    "s_gdf.head\n",
    "\n",
    "folium.GeoJson(data=counties_gdf[\"geometry\"], style_function=lambda x:{'fillColor': '#228B22', 'color': '#228B22'}, name='originalONSboundaries').add_to(simple_map)\n",
    "\n",
    "folium.GeoJson(data=s_gdf, style_function=lambda x:{'fillColor': '#00FFFFFF', 'color': '#00FFFFFF'}, name = 'Simplify500_geopandas').add_to(simple_map)\n",
    "\n",
    "folium.LayerControl().add_to(simple_map)\n",
    "simple_map"
   ]
  },
  {
   "cell_type": "markdown",
   "metadata": {},
   "source": [
    "#### Reduce Boundary file using topojson package, preserving topology and tolerance of 500"
   ]
  },
  {
   "cell_type": "code",
   "execution_count": null,
   "metadata": {},
   "outputs": [],
   "source": [
    "#Reduce boundaries using the topojson package, preserving topology and tolerance of 500\n",
    "boundary_map = folium.Map(location=[50.72039, -1.88092], zoom_start=7)\n",
    "\n",
    "gdf = counties_gdf\n",
    "import topojson as tp\n",
    "topo = tp.Topology(gdf.to_crs({'init':'epsg:3857'}), prequantize=False)# conversion to topo using topojson.\n",
    "simple = topo.toposimplify(500).to_gdf() #now simplify\n",
    "simple.crs = ({'init':'epsg:3857'}) #set crs\n",
    "\n",
    "folium.GeoJson(data=counties_gdf[\"geometry\"], style_function=lambda x:{'fillColor': '#228B22', 'color': '#228B22'},name='originalONSboundaries').add_to(boundary_map)\n",
    "\n",
    "folium.GeoJson(simple, style_function=lambda x:{'fillColor': '#00FFFFFF', 'color': '#00FFFFFF'}, name = 'topoJsonSimplify500').add_to(boundary_map)\n",
    "\n",
    "folium.GeoJson(data=s_gdf, style_function=lambda x:{'fillColor': '#FF0000', 'color': '#FF0000'}, name = 'Simplify500_geopandas').add_to(boundary_map)\n",
    "\n",
    "folium.LayerControl().add_to(boundary_map)\n",
    "\n",
    "boundary_map"
   ]
  },
  {
   "cell_type": "markdown",
   "metadata": {},
   "source": [
    "## Boundary reduction working at polygon level . This is suitable for displaying larger or more complex shapefiles "
   ]
  },
  {
   "cell_type": "markdown",
   "metadata": {},
   "source": [
    "Reduce Boundary file using Geopandas and Shapleys simplify package. This version loops through polygons to add them iteratively. Use for boundary files with many polygons to add. "
   ]
  },
  {
   "cell_type": "code",
   "execution_count": null,
   "metadata": {},
   "outputs": [],
   "source": [
    "from folium.folium import Map\n",
    "# Loop through polygons Iteratively to add to map \n",
    "import geopandas as gpd\n",
    "\n",
    "#Include a filename, a tolerance and a fill colour, and a name for popup column. Returns a folium map object.\n",
    "def simplifyByPoly(fname, tol, colour, popname):\n",
    "      df = geopandas.read_file(fname)\n",
    "      #df = counties_gdf\n",
    "      m  = folium.Map(location=[50.72039, -1.88092], zoom_start=7)\n",
    "      df = df.to_crs(epsg=4326) # set to correct projection\n",
    "      print(df.crs)\n",
    "      #df.head()\n",
    "\n",
    "      for _, r in df.iterrows():\n",
    "          # Without simplifying the representation of each borough,\n",
    "          # the map might not be displayed\n",
    "          sim_geo = gpd.GeoSeries(r['geometry']).simplify(tolerance=tol)\n",
    "          geo_j = sim_geo.to_json()\n",
    "          geo_j = folium.GeoJson(data=geo_j,\n",
    "                           style_function=lambda x: {'fillColor': colour})\n",
    "          folium.Popup(r[popname]).add_to(geo_j)\n",
    "          geo_j.add_to(m) \n",
    "      return m\n",
    "\n"
   ]
  },
  {
   "cell_type": "code",
   "execution_count": null,
   "metadata": {},
   "outputs": [],
   "source": [
    "simplifyByPoly(fname=naw_regions_data, tol=0.001, colour = 'orange', popname = 'nawer18nm')"
   ]
  },
  {
   "cell_type": "code",
   "execution_count": null,
   "metadata": {},
   "outputs": [],
   "source": [
    "simplifyByPoly(fname=lsoa_data, tol=0.001, colour = 'orange', popname = 'LSOA01NM')"
   ]
  }
 ],
 "metadata": {
  "interpreter": {
   "hash": "8591171924b64e5bd94c8653a00274983b59b7dcfc4049bc2b28dc4ec4db51d8"
  },
  "kernelspec": {
   "display_name": "Python 3.8.8",
   "language": "python",
   "name": "python3"
  },
  "language_info": {
   "codemirror_mode": {
    "name": "ipython",
    "version": 3
   },
   "file_extension": ".py",
   "mimetype": "text/x-python",
   "name": "python",
   "nbconvert_exporter": "python",
   "pygments_lexer": "ipython3",
   "version": "3.8.8"
  },
  "orig_nbformat": 4
 },
 "nbformat": 4,
 "nbformat_minor": 2
}
