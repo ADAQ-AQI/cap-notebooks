{
 "cells": [
  {
   "cell_type": "markdown",
   "metadata": {},
   "source": [
    "# Boundaries Simplification\n",
    "#### The boundary files provided by the ONS can be very large.  To display within the Jupyter notbook enviroment it can help to simplify these files.This notebook will show you various techniques to simplify boundaries for display on a folium map . \n",
    "\n",
    "#### You will need to have enough RAM avaliable to complete these operations where the files are very large.\n",
    "\n",
    "#### For an investigation into the boundary reduction methods and issues see https://metoffice.atlassian.net/wiki/spaces/AD/pages/3736698907/Reduce+Resolution+for+display+of+ONS+Datasets.\n",
    "\n",
    "\n",
    "\n",
    "## Setup"
   ]
  },
  {
   "cell_type": "markdown",
   "metadata": {},
   "source": [
    "#### Set up some variables defining the location of your input data.\n"
   ]
  },
  {
   "cell_type": "code",
   "execution_count": null,
   "metadata": {},
   "outputs": [],
   "source": [
    "SAMPLEDIR = \"../cap-sample-data\" \n",
    "\n",
    "boundary_data = os.path.join(SAMPLEDIR, \"shapefiles\",\"NUTS_Level_1_boundries500mgjsn.geojson\")\n",
    "lsoa_data = os.path.join(SAMPLEDIR, \"shapefilesFullZip\",\"Lower_Layer_Super_Output_Areas__December_2001__EW_BGC-shp.zip\")\n",
    "naw_regions_data = os.path.join(SAMPLEDIR, \"shapefilesFullZip\",\"National_Assembly_for_Wales_Electoral_Regions_(December_2018)_Boundaries_WA_BSC.zip\")\n"
   ]
  },
  {
   "cell_type": "markdown",
   "metadata": {},
   "source": [
    "#### Open a zipped shapefile and inspect the contents using Geopandas"
   ]
  },
  {
   "cell_type": "code",
   "execution_count": null,
   "metadata": {},
   "outputs": [],
   "source": [
    "import geopandas\n",
    "import folium\n",
    "\n",
    "counties_gdf = geopandas.read_file(lsoa_data)\n",
    "counties_gdf.head()\n"
   ]
  },
  {
   "cell_type": "markdown",
   "metadata": {},
   "source": [
    "\n",
    "## Boundary reduction working at file level . The next two code blocks are suitable for displaying smaller files."
   ]
  },
  {
   "cell_type": "markdown",
   "metadata": {},
   "source": [
    "#### Reduce boundary file using simplify function in geopandas . This uses shapley's simplify package. 1 unit represents 1 metre. No topology comsidered."
   ]
  },
  {
   "cell_type": "code",
   "execution_count": null,
   "metadata": {},
   "outputs": [],
   "source": [
    "# Simplify function in geopandas . This uses shapley's simplify package. 1 unit represents 1 metre. No topology comsidered.simple\n",
    "import geopandas\n",
    "import folium\n",
    "simple_map = folium.Map(location=[50.72039, -1.88092], zoom_start=7)\n",
    "\n",
    "#Open a shapefile using geopandas\n",
    "counties_gdf = geopandas.read_file(naw_regions_data)\n",
    "s_gdf = counties_gdf.simplify(500)\n",
    "s_gdf.dtype\n",
    "s_gdf.head\n",
    "\n",
    "folium.GeoJson(data=counties_gdf[\"geometry\"], style_function=lambda x:{'fillColor': '#228B22', 'color': '#228B22'}, name='originalONSboundaries').add_to(simple_map)\n",
    "\n",
    "folium.GeoJson(data=s_gdf, style_function=lambda x:{'fillColor': '#00FFFFFF', 'color': '#00FFFFFF'}, name = 'Simplify500_geopandas').add_to(simple_map)\n",
    "\n",
    "folium.LayerControl().add_to(simple_map)\n",
    "simple_map"
   ]
  },
  {
   "cell_type": "markdown",
   "metadata": {},
   "source": [
    "#### Reduce Boundary file using topojson package, preserving topology and tolerance of 500"
   ]
  },
  {
   "cell_type": "code",
   "execution_count": null,
   "metadata": {},
   "outputs": [],
   "source": [
    "#Reduce boundaries using the topojson package, preserving topology and tolerance of 500\n",
    "boundary_map = folium.Map(location=[50.72039, -1.88092], zoom_start=7)\n",
    "\n",
    "gdf = counties_gdf\n",
    "import topojson as tp\n",
    "topo = tp.Topology(gdf.to_crs({'init':'epsg:3857'}), prequantize=False)# conversion to topo using topojson.\n",
    "simple = topo.toposimplify(500).to_gdf() #now simplify\n",
    "simple.crs = ({'init':'epsg:3857'}) #set crs\n",
    "\n",
    "folium.GeoJson(data=counties_gdf[\"geometry\"], style_function=lambda x:{'fillColor': '#228B22', 'color': '#228B22'},name='originalONSboundaries').add_to(boundary_map)\n",
    "\n",
    "folium.GeoJson(simple, style_function=lambda x:{'fillColor': '#00FFFFFF', 'color': '#00FFFFFF'}, name = 'topoJsonSimplify500').add_to(boundary_map)\n",
    "\n",
    "folium.GeoJson(data=s_gdf, style_function=lambda x:{'fillColor': '#FF0000', 'color': '#FF0000'}, name = 'Simplify500_geopandas').add_to(boundary_map)\n",
    "\n",
    "folium.LayerControl().add_to(boundary_map)\n",
    "\n",
    "boundary_map"
   ]
  },
  {
   "cell_type": "markdown",
   "metadata": {},
   "source": [
    "## Boundary reduction working at polygon level . This is suitable for displaying larger files and must be run on a machine with sufficient RAM ( such as Jupyter Spice)"
   ]
  },
  {
   "cell_type": "markdown",
   "metadata": {},
   "source": [
    "Reduce Boundary file using Geopandas and Shapleys simplify package. This version loops through polygons to add them iteratively. Use for boundary files with many polygons to add. Will avoid RAM issues."
   ]
  },
  {
   "cell_type": "code",
   "execution_count": null,
   "metadata": {},
   "outputs": [],
   "source": [
    "# Loop through polygons Iteratively to add to map .. example using naw_regions_data\n",
    "import geopandas as gpd\n",
    "df = geopandas.read_file(naw_regions_data)\n",
    "m  = folium.Map(location=[50.72039, -1.88092], zoom_start=7)\n",
    "df = df.to_crs(epsg=4326) # set to correct projection\n",
    "print(df.crs)\n",
    "#df.head()\n",
    "\n",
    "for _, r in df.iterrows():\n",
    "    # Without simplifying the representation of each borough,\n",
    "    # the map might not be displayed\n",
    "    sim_geo = gpd.GeoSeries(r['geometry']).simplify(tolerance=0.001)\n",
    "    geo_j = sim_geo.to_json()\n",
    "    geo_j = folium.GeoJson(data=geo_j,\n",
    "                           style_function=lambda x: {'fillColor': 'orange'})\n",
    "    folium.Popup(r['nawer18nm']).add_to(geo_j)\n",
    "    geo_j.add_to(m) \n",
    "m"
   ]
  },
  {
   "cell_type": "code",
   "execution_count": null,
   "metadata": {},
   "outputs": [],
   "source": [
    "# Loop through polygons Iteratively to add to map ..using LSOA data . Will need sufficient RAM to run this one eg: use Juypter Spice\n",
    "import geopandas as gpd\n",
    "import folium\n",
    "\n",
    "df = gpd.read_file(lsoa_data)\n",
    "m  = folium.Map(location=[50.72039, -1.88092], zoom_start=7)\n",
    "df = df.to_crs(epsg=4326) # set to correct projection\n",
    "print(df.crs)\n",
    "#df.head()\n",
    "\n",
    "for _, r in df.iterrows():\n",
    "    # Without simplifying the representation of each polygon,\n",
    "    # the map might not be displayed\n",
    "    sim_geo = gpd.GeoSeries(r['geometry']).simplify(tolerance=0.001)\n",
    "    geo_j = sim_geo.to_json()\n",
    "    geo_j = folium.GeoJson(data=geo_j,\n",
    "                           style_function=lambda x: {'fillColor': 'orange'})\n",
    "    folium.Popup(r['LSOA01NM']).add_to(geo_j)\n",
    "    geo_j.add_to(m) \n",
    "    \n",
    "m.save(\"LSOA.html\") #Save my completed map\n",
    "m"
   ]
  },
  {
   "cell_type": "code",
   "execution_count": null,
   "metadata": {},
   "outputs": [],
   "source": []
  }
 ],
 "metadata": {
  "interpreter": {
   "hash": "bbc2841dd46d858d60a1da4231662c7c999bb78fed0b54d0a606787ad56e6591"
  },
  "kernelspec": {
   "display_name": "Python 3.8.8",
   "language": "python",
   "name": "python3"
  },
  "language_info": {
   "codemirror_mode": {
    "name": "ipython",
    "version": 3
   },
   "file_extension": ".py",
   "mimetype": "text/x-python",
   "name": "python",
   "nbconvert_exporter": "python",
   "pygments_lexer": "ipython3",
   "version": "3.8.8"
  },
  "orig_nbformat": 4
 },
 "nbformat": 4,
 "nbformat_minor": 2
}
