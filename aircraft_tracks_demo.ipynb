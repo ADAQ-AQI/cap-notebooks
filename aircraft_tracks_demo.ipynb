{
 "cells": [
  {
   "cell_type": "markdown",
   "metadata": {},
   "source": [
    "# Aircraft Tracks Demo\n",
    "#### This notebook will demonstrate how to visualise aircraft data on a beautiful interactive map.\n",
    "\n",
    "## Setup"
   ]
  },
  {
   "cell_type": "code",
   "execution_count": null,
   "metadata": {},
   "outputs": [],
   "source": [
    "import os\n",
    "import folium\n",
    "from clean_air.visualise import generate_map_based_visualisations as gmbv\n"
   ]
  },
  {
   "cell_type": "markdown",
   "metadata": {},
   "source": [
    "#### Now that all your imports are ready, you can start setting up variables to convert your aircraft data points to map format.\n",
    "\n",
    "#### You will need to supply a path specifying the location of your aircraft data and a path to save your map to.  Then you can call the `get_aircraft_track_map` function to turn your data into an interactive map."
   ]
  },
  {
   "cell_type": "code",
   "execution_count": null,
   "metadata": {},
   "outputs": [],
   "source": [
    "SAMPLEDIR = \"/data/cap-sample-data\"\n",
    "aircraft_filepath = os.path.join(SAMPLEDIR, \"aircraft\",\"MOCCA_M251_20190903.nc\")\n",
    "save_path = os.path.join(\"assets\", \"tmp_output_files\", \"AircraftTrack.html\")\n",
    "\n",
    "tracks_map = gmbv.get_aircraft_track_map(aircraft_filepath, save_path)"
   ]
  },
  {
   "cell_type": "markdown",
   "metadata": {},
   "source": [
    "#### Now you can just use the 'display' attribute with your tracks_map to produce a visual image of your map.\n",
    "\n",
    "#### Go ahead, play around with it a bit!"
   ]
  },
  {
   "cell_type": "code",
   "execution_count": null,
   "metadata": {},
   "outputs": [],
   "source": [
    "display(tracks_map)"
   ]
  },
  {
   "cell_type": "markdown",
   "metadata": {},
   "source": [
    "#### You can also use the 'type' call to ensure that your map is indeed a Folium interactive map."
   ]
  },
  {
   "cell_type": "code",
   "execution_count": null,
   "metadata": {},
   "outputs": [],
   "source": [
    "type(tracks_map)"
   ]
  }
 ],
 "metadata": {
  "kernelspec": {
   "display_name": "general_env",
   "language": "python",
   "name": "general_env"
  },
  "language_info": {
   "codemirror_mode": {
    "name": "ipython",
    "version": 3
   },
   "file_extension": ".py",
   "mimetype": "text/x-python",
   "name": "python",
   "nbconvert_exporter": "python",
   "pygments_lexer": "ipython3",
   "version": "3.8.8"
  }
 },
 "nbformat": 4,
 "nbformat_minor": 4
}
